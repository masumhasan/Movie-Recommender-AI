{
 "cells": [
  {
   "cell_type": "code",
   "execution_count": 1,
   "id": "96dca19a",
   "metadata": {},
   "outputs": [],
   "source": [
    "import numpy as np\n",
    "import pandas as pd"
   ]
  },
  {
   "cell_type": "code",
   "execution_count": 2,
   "id": "d7717b9b",
   "metadata": {},
   "outputs": [],
   "source": [
    "movies = pd.read_csv('https://raw.githubusercontent.com/masumhasan/Movie-Recommender-AI/main/tmdb_5000_movies.csv')\n",
    "credits = pd.read_csv('https://raw.githubusercontent.com/masumhasan/Movie-Recommender-AI/main/tmdb_5000_credits.csv')"
   ]
  },
  {
   "cell_type": "code",
   "execution_count": 3,
   "id": "104f22dd",
   "metadata": {},
   "outputs": [
    {
     "data": {
      "text/html": [
       "<div>\n",
       "<style scoped>\n",
       "    .dataframe tbody tr th:only-of-type {\n",
       "        vertical-align: middle;\n",
       "    }\n",
       "\n",
       "    .dataframe tbody tr th {\n",
       "        vertical-align: top;\n",
       "    }\n",
       "\n",
       "    .dataframe thead th {\n",
       "        text-align: right;\n",
       "    }\n",
       "</style>\n",
       "<table border=\"1\" class=\"dataframe\">\n",
       "  <thead>\n",
       "    <tr style=\"text-align: right;\">\n",
       "      <th></th>\n",
       "      <th>budget</th>\n",
       "      <th>genres</th>\n",
       "      <th>homepage</th>\n",
       "      <th>id</th>\n",
       "      <th>keywords</th>\n",
       "      <th>original_language</th>\n",
       "      <th>original_title</th>\n",
       "      <th>overview</th>\n",
       "      <th>popularity</th>\n",
       "      <th>production_companies</th>\n",
       "      <th>production_countries</th>\n",
       "      <th>release_date</th>\n",
       "      <th>revenue</th>\n",
       "      <th>runtime</th>\n",
       "      <th>spoken_languages</th>\n",
       "      <th>status</th>\n",
       "      <th>tagline</th>\n",
       "      <th>title</th>\n",
       "      <th>vote_average</th>\n",
       "      <th>vote_count</th>\n",
       "    </tr>\n",
       "  </thead>\n",
       "  <tbody>\n",
       "    <tr>\n",
       "      <th>0</th>\n",
       "      <td>237000000</td>\n",
       "      <td>[{\"id\": 28, \"name\": \"Action\"}, {\"id\": 12, \"nam...</td>\n",
       "      <td>http://www.avatarmovie.com/</td>\n",
       "      <td>19995</td>\n",
       "      <td>[{\"id\": 1463, \"name\": \"culture clash\"}, {\"id\":...</td>\n",
       "      <td>en</td>\n",
       "      <td>Avatar</td>\n",
       "      <td>In the 22nd century, a paraplegic Marine is di...</td>\n",
       "      <td>150.437577</td>\n",
       "      <td>[{\"name\": \"Ingenious Film Partners\", \"id\": 289...</td>\n",
       "      <td>[{\"iso_3166_1\": \"US\", \"name\": \"United States o...</td>\n",
       "      <td>2009-12-10</td>\n",
       "      <td>2787965087</td>\n",
       "      <td>162.0</td>\n",
       "      <td>[{\"iso_639_1\": \"en\", \"name\": \"English\"}, {\"iso...</td>\n",
       "      <td>Released</td>\n",
       "      <td>Enter the World of Pandora.</td>\n",
       "      <td>Avatar</td>\n",
       "      <td>7.2</td>\n",
       "      <td>11800</td>\n",
       "    </tr>\n",
       "    <tr>\n",
       "      <th>1</th>\n",
       "      <td>300000000</td>\n",
       "      <td>[{\"id\": 12, \"name\": \"Adventure\"}, {\"id\": 14, \"...</td>\n",
       "      <td>http://disney.go.com/disneypictures/pirates/</td>\n",
       "      <td>285</td>\n",
       "      <td>[{\"id\": 270, \"name\": \"ocean\"}, {\"id\": 726, \"na...</td>\n",
       "      <td>en</td>\n",
       "      <td>Pirates of the Caribbean: At World's End</td>\n",
       "      <td>Captain Barbossa, long believed to be dead, ha...</td>\n",
       "      <td>139.082615</td>\n",
       "      <td>[{\"name\": \"Walt Disney Pictures\", \"id\": 2}, {\"...</td>\n",
       "      <td>[{\"iso_3166_1\": \"US\", \"name\": \"United States o...</td>\n",
       "      <td>2007-05-19</td>\n",
       "      <td>961000000</td>\n",
       "      <td>169.0</td>\n",
       "      <td>[{\"iso_639_1\": \"en\", \"name\": \"English\"}]</td>\n",
       "      <td>Released</td>\n",
       "      <td>At the end of the world, the adventure begins.</td>\n",
       "      <td>Pirates of the Caribbean: At World's End</td>\n",
       "      <td>6.9</td>\n",
       "      <td>4500</td>\n",
       "    </tr>\n",
       "    <tr>\n",
       "      <th>2</th>\n",
       "      <td>245000000</td>\n",
       "      <td>[{\"id\": 28, \"name\": \"Action\"}, {\"id\": 12, \"nam...</td>\n",
       "      <td>http://www.sonypictures.com/movies/spectre/</td>\n",
       "      <td>206647</td>\n",
       "      <td>[{\"id\": 470, \"name\": \"spy\"}, {\"id\": 818, \"name...</td>\n",
       "      <td>en</td>\n",
       "      <td>Spectre</td>\n",
       "      <td>A cryptic message from Bond’s past sends him o...</td>\n",
       "      <td>107.376788</td>\n",
       "      <td>[{\"name\": \"Columbia Pictures\", \"id\": 5}, {\"nam...</td>\n",
       "      <td>[{\"iso_3166_1\": \"GB\", \"name\": \"United Kingdom\"...</td>\n",
       "      <td>2015-10-26</td>\n",
       "      <td>880674609</td>\n",
       "      <td>148.0</td>\n",
       "      <td>[{\"iso_639_1\": \"fr\", \"name\": \"Fran\\u00e7ais\"},...</td>\n",
       "      <td>Released</td>\n",
       "      <td>A Plan No One Escapes</td>\n",
       "      <td>Spectre</td>\n",
       "      <td>6.3</td>\n",
       "      <td>4466</td>\n",
       "    </tr>\n",
       "    <tr>\n",
       "      <th>3</th>\n",
       "      <td>250000000</td>\n",
       "      <td>[{\"id\": 28, \"name\": \"Action\"}, {\"id\": 80, \"nam...</td>\n",
       "      <td>http://www.thedarkknightrises.com/</td>\n",
       "      <td>49026</td>\n",
       "      <td>[{\"id\": 849, \"name\": \"dc comics\"}, {\"id\": 853,...</td>\n",
       "      <td>en</td>\n",
       "      <td>The Dark Knight Rises</td>\n",
       "      <td>Following the death of District Attorney Harve...</td>\n",
       "      <td>112.312950</td>\n",
       "      <td>[{\"name\": \"Legendary Pictures\", \"id\": 923}, {\"...</td>\n",
       "      <td>[{\"iso_3166_1\": \"US\", \"name\": \"United States o...</td>\n",
       "      <td>2012-07-16</td>\n",
       "      <td>1084939099</td>\n",
       "      <td>165.0</td>\n",
       "      <td>[{\"iso_639_1\": \"en\", \"name\": \"English\"}]</td>\n",
       "      <td>Released</td>\n",
       "      <td>The Legend Ends</td>\n",
       "      <td>The Dark Knight Rises</td>\n",
       "      <td>7.6</td>\n",
       "      <td>9106</td>\n",
       "    </tr>\n",
       "    <tr>\n",
       "      <th>4</th>\n",
       "      <td>260000000</td>\n",
       "      <td>[{\"id\": 28, \"name\": \"Action\"}, {\"id\": 12, \"nam...</td>\n",
       "      <td>http://movies.disney.com/john-carter</td>\n",
       "      <td>49529</td>\n",
       "      <td>[{\"id\": 818, \"name\": \"based on novel\"}, {\"id\":...</td>\n",
       "      <td>en</td>\n",
       "      <td>John Carter</td>\n",
       "      <td>John Carter is a war-weary, former military ca...</td>\n",
       "      <td>43.926995</td>\n",
       "      <td>[{\"name\": \"Walt Disney Pictures\", \"id\": 2}]</td>\n",
       "      <td>[{\"iso_3166_1\": \"US\", \"name\": \"United States o...</td>\n",
       "      <td>2012-03-07</td>\n",
       "      <td>284139100</td>\n",
       "      <td>132.0</td>\n",
       "      <td>[{\"iso_639_1\": \"en\", \"name\": \"English\"}]</td>\n",
       "      <td>Released</td>\n",
       "      <td>Lost in our world, found in another.</td>\n",
       "      <td>John Carter</td>\n",
       "      <td>6.1</td>\n",
       "      <td>2124</td>\n",
       "    </tr>\n",
       "  </tbody>\n",
       "</table>\n",
       "</div>"
      ],
      "text/plain": [
       "      budget                                             genres   \n",
       "0  237000000  [{\"id\": 28, \"name\": \"Action\"}, {\"id\": 12, \"nam...  \\\n",
       "1  300000000  [{\"id\": 12, \"name\": \"Adventure\"}, {\"id\": 14, \"...   \n",
       "2  245000000  [{\"id\": 28, \"name\": \"Action\"}, {\"id\": 12, \"nam...   \n",
       "3  250000000  [{\"id\": 28, \"name\": \"Action\"}, {\"id\": 80, \"nam...   \n",
       "4  260000000  [{\"id\": 28, \"name\": \"Action\"}, {\"id\": 12, \"nam...   \n",
       "\n",
       "                                       homepage      id   \n",
       "0                   http://www.avatarmovie.com/   19995  \\\n",
       "1  http://disney.go.com/disneypictures/pirates/     285   \n",
       "2   http://www.sonypictures.com/movies/spectre/  206647   \n",
       "3            http://www.thedarkknightrises.com/   49026   \n",
       "4          http://movies.disney.com/john-carter   49529   \n",
       "\n",
       "                                            keywords original_language   \n",
       "0  [{\"id\": 1463, \"name\": \"culture clash\"}, {\"id\":...                en  \\\n",
       "1  [{\"id\": 270, \"name\": \"ocean\"}, {\"id\": 726, \"na...                en   \n",
       "2  [{\"id\": 470, \"name\": \"spy\"}, {\"id\": 818, \"name...                en   \n",
       "3  [{\"id\": 849, \"name\": \"dc comics\"}, {\"id\": 853,...                en   \n",
       "4  [{\"id\": 818, \"name\": \"based on novel\"}, {\"id\":...                en   \n",
       "\n",
       "                             original_title   \n",
       "0                                    Avatar  \\\n",
       "1  Pirates of the Caribbean: At World's End   \n",
       "2                                   Spectre   \n",
       "3                     The Dark Knight Rises   \n",
       "4                               John Carter   \n",
       "\n",
       "                                            overview  popularity   \n",
       "0  In the 22nd century, a paraplegic Marine is di...  150.437577  \\\n",
       "1  Captain Barbossa, long believed to be dead, ha...  139.082615   \n",
       "2  A cryptic message from Bond’s past sends him o...  107.376788   \n",
       "3  Following the death of District Attorney Harve...  112.312950   \n",
       "4  John Carter is a war-weary, former military ca...   43.926995   \n",
       "\n",
       "                                production_companies   \n",
       "0  [{\"name\": \"Ingenious Film Partners\", \"id\": 289...  \\\n",
       "1  [{\"name\": \"Walt Disney Pictures\", \"id\": 2}, {\"...   \n",
       "2  [{\"name\": \"Columbia Pictures\", \"id\": 5}, {\"nam...   \n",
       "3  [{\"name\": \"Legendary Pictures\", \"id\": 923}, {\"...   \n",
       "4        [{\"name\": \"Walt Disney Pictures\", \"id\": 2}]   \n",
       "\n",
       "                                production_countries release_date     revenue   \n",
       "0  [{\"iso_3166_1\": \"US\", \"name\": \"United States o...   2009-12-10  2787965087  \\\n",
       "1  [{\"iso_3166_1\": \"US\", \"name\": \"United States o...   2007-05-19   961000000   \n",
       "2  [{\"iso_3166_1\": \"GB\", \"name\": \"United Kingdom\"...   2015-10-26   880674609   \n",
       "3  [{\"iso_3166_1\": \"US\", \"name\": \"United States o...   2012-07-16  1084939099   \n",
       "4  [{\"iso_3166_1\": \"US\", \"name\": \"United States o...   2012-03-07   284139100   \n",
       "\n",
       "   runtime                                   spoken_languages    status   \n",
       "0    162.0  [{\"iso_639_1\": \"en\", \"name\": \"English\"}, {\"iso...  Released  \\\n",
       "1    169.0           [{\"iso_639_1\": \"en\", \"name\": \"English\"}]  Released   \n",
       "2    148.0  [{\"iso_639_1\": \"fr\", \"name\": \"Fran\\u00e7ais\"},...  Released   \n",
       "3    165.0           [{\"iso_639_1\": \"en\", \"name\": \"English\"}]  Released   \n",
       "4    132.0           [{\"iso_639_1\": \"en\", \"name\": \"English\"}]  Released   \n",
       "\n",
       "                                          tagline   \n",
       "0                     Enter the World of Pandora.  \\\n",
       "1  At the end of the world, the adventure begins.   \n",
       "2                           A Plan No One Escapes   \n",
       "3                                 The Legend Ends   \n",
       "4            Lost in our world, found in another.   \n",
       "\n",
       "                                      title  vote_average  vote_count  \n",
       "0                                    Avatar           7.2       11800  \n",
       "1  Pirates of the Caribbean: At World's End           6.9        4500  \n",
       "2                                   Spectre           6.3        4466  \n",
       "3                     The Dark Knight Rises           7.6        9106  \n",
       "4                               John Carter           6.1        2124  "
      ]
     },
     "execution_count": 3,
     "metadata": {},
     "output_type": "execute_result"
    }
   ],
   "source": [
    "movies.head(5)"
   ]
  },
  {
   "cell_type": "code",
   "execution_count": 4,
   "id": "31a1b2c8",
   "metadata": {
    "scrolled": true
   },
   "outputs": [
    {
     "data": {
      "text/plain": [
       "array(['[{\"cast_id\": 242, \"character\": \"Jake Sully\", \"credit_id\": \"5602a8a7c3a3685532001c9a\", \"gender\": 2, \"id\": 65731, \"name\": \"Sam Worthington\", \"order\": 0}, {\"cast_id\": 3, \"character\": \"Neytiri\", \"credit_id\": \"52fe48009251416c750ac9cb\", \"gender\": 1, \"id\": 8691, \"name\": \"Zoe Saldana\", \"order\": 1}, {\"cast_id\": 25, \"character\": \"Dr. Grace Augustine\", \"credit_id\": \"52fe48009251416c750aca39\", \"gender\": 1, \"id\": 10205, \"name\": \"Sigourney Weaver\", \"order\": 2}, {\"cast_id\": 4, \"character\": \"Col. Quaritch\", \"credit_id\": \"52fe48009251416c750ac9cf\", \"gender\": 2, \"id\": 32747, \"name\": \"Stephen Lang\", \"order\": 3}, {\"cast_id\": 5, \"character\": \"Trudy Chacon\", \"credit_id\": \"52fe48009251416c750ac9d3\", \"gender\": 1, \"id\": 17647, \"name\": \"Michelle Rodriguez\", \"order\": 4}, {\"cast_id\": 8, \"character\": \"Selfridge\", \"credit_id\": \"52fe48009251416c750ac9e1\", \"gender\": 2, \"id\": 1771, \"name\": \"Giovanni Ribisi\", \"order\": 5}, {\"cast_id\": 7, \"character\": \"Norm Spellman\", \"credit_id\": \"52fe48009251416c750ac9dd\", \"gender\": 2, \"id\": 59231, \"name\": \"Joel David Moore\", \"order\": 6}, {\"cast_id\": 9, \"character\": \"Moat\", \"credit_id\": \"52fe48009251416c750ac9e5\", \"gender\": 1, \"id\": 30485, \"name\": \"CCH Pounder\", \"order\": 7}, {\"cast_id\": 11, \"character\": \"Eytukan\", \"credit_id\": \"52fe48009251416c750ac9ed\", \"gender\": 2, \"id\": 15853, \"name\": \"Wes Studi\", \"order\": 8}, {\"cast_id\": 10, \"character\": \"Tsu\\'Tey\", \"credit_id\": \"52fe48009251416c750ac9e9\", \"gender\": 2, \"id\": 10964, \"name\": \"Laz Alonso\", \"order\": 9}, {\"cast_id\": 12, \"character\": \"Dr. Max Patel\", \"credit_id\": \"52fe48009251416c750ac9f1\", \"gender\": 2, \"id\": 95697, \"name\": \"Dileep Rao\", \"order\": 10}, {\"cast_id\": 13, \"character\": \"Lyle Wainfleet\", \"credit_id\": \"52fe48009251416c750ac9f5\", \"gender\": 2, \"id\": 98215, \"name\": \"Matt Gerald\", \"order\": 11}, {\"cast_id\": 32, \"character\": \"Private Fike\", \"credit_id\": \"52fe48009251416c750aca5b\", \"gender\": 2, \"id\": 154153, \"name\": \"Sean Anthony Moran\", \"order\": 12}, {\"cast_id\": 33, \"character\": \"Cryo Vault Med Tech\", \"credit_id\": \"52fe48009251416c750aca5f\", \"gender\": 2, \"id\": 397312, \"name\": \"Jason Whyte\", \"order\": 13}, {\"cast_id\": 34, \"character\": \"Venture Star Crew Chief\", \"credit_id\": \"52fe48009251416c750aca63\", \"gender\": 2, \"id\": 42317, \"name\": \"Scott Lawrence\", \"order\": 14}, {\"cast_id\": 35, \"character\": \"Lock Up Trooper\", \"credit_id\": \"52fe48009251416c750aca67\", \"gender\": 2, \"id\": 986734, \"name\": \"Kelly Kilgour\", \"order\": 15}, {\"cast_id\": 36, \"character\": \"Shuttle Pilot\", \"credit_id\": \"52fe48009251416c750aca6b\", \"gender\": 0, \"id\": 1207227, \"name\": \"James Patrick Pitt\", \"order\": 16}, {\"cast_id\": 37, \"character\": \"Shuttle Co-Pilot\", \"credit_id\": \"52fe48009251416c750aca6f\", \"gender\": 0, \"id\": 1180936, \"name\": \"Sean Patrick Murphy\", \"order\": 17}, {\"cast_id\": 38, \"character\": \"Shuttle Crew Chief\", \"credit_id\": \"52fe48009251416c750aca73\", \"gender\": 2, \"id\": 1019578, \"name\": \"Peter Dillon\", \"order\": 18}, {\"cast_id\": 39, \"character\": \"Tractor Operator / Troupe\", \"credit_id\": \"52fe48009251416c750aca77\", \"gender\": 0, \"id\": 91443, \"name\": \"Kevin Dorman\", \"order\": 19}, {\"cast_id\": 40, \"character\": \"Dragon Gunship Pilot\", \"credit_id\": \"52fe48009251416c750aca7b\", \"gender\": 2, \"id\": 173391, \"name\": \"Kelson Henderson\", \"order\": 20}, {\"cast_id\": 41, \"character\": \"Dragon Gunship Gunner\", \"credit_id\": \"52fe48009251416c750aca7f\", \"gender\": 0, \"id\": 1207236, \"name\": \"David Van Horn\", \"order\": 21}, {\"cast_id\": 42, \"character\": \"Dragon Gunship Navigator\", \"credit_id\": \"52fe48009251416c750aca83\", \"gender\": 0, \"id\": 215913, \"name\": \"Jacob Tomuri\", \"order\": 22}, {\"cast_id\": 43, \"character\": \"Suit #1\", \"credit_id\": \"52fe48009251416c750aca87\", \"gender\": 0, \"id\": 143206, \"name\": \"Michael Blain-Rozgay\", \"order\": 23}, {\"cast_id\": 44, \"character\": \"Suit #2\", \"credit_id\": \"52fe48009251416c750aca8b\", \"gender\": 2, \"id\": 169676, \"name\": \"Jon Curry\", \"order\": 24}, {\"cast_id\": 46, \"character\": \"Ambient Room Tech\", \"credit_id\": \"52fe48009251416c750aca8f\", \"gender\": 0, \"id\": 1048610, \"name\": \"Luke Hawker\", \"order\": 25}, {\"cast_id\": 47, \"character\": \"Ambient Room Tech / Troupe\", \"credit_id\": \"52fe48009251416c750aca93\", \"gender\": 0, \"id\": 42288, \"name\": \"Woody Schultz\", \"order\": 26}, {\"cast_id\": 48, \"character\": \"Horse Clan Leader\", \"credit_id\": \"52fe48009251416c750aca97\", \"gender\": 2, \"id\": 68278, \"name\": \"Peter Mensah\", \"order\": 27}, {\"cast_id\": 49, \"character\": \"Link Room Tech\", \"credit_id\": \"52fe48009251416c750aca9b\", \"gender\": 0, \"id\": 1207247, \"name\": \"Sonia Yee\", \"order\": 28}, {\"cast_id\": 50, \"character\": \"Basketball Avatar / Troupe\", \"credit_id\": \"52fe48009251416c750aca9f\", \"gender\": 1, \"id\": 1207248, \"name\": \"Jahnel Curfman\", \"order\": 29}, {\"cast_id\": 51, \"character\": \"Basketball Avatar\", \"credit_id\": \"52fe48009251416c750acaa3\", \"gender\": 0, \"id\": 89714, \"name\": \"Ilram Choi\", \"order\": 30}, {\"cast_id\": 52, \"character\": \"Na\\'vi Child\", \"credit_id\": \"52fe48009251416c750acaa7\", \"gender\": 0, \"id\": 1207249, \"name\": \"Kyla Warren\", \"order\": 31}, {\"cast_id\": 53, \"character\": \"Troupe\", \"credit_id\": \"52fe48009251416c750acaab\", \"gender\": 0, \"id\": 1207250, \"name\": \"Lisa Roumain\", \"order\": 32}, {\"cast_id\": 54, \"character\": \"Troupe\", \"credit_id\": \"52fe48009251416c750acaaf\", \"gender\": 1, \"id\": 83105, \"name\": \"Debra Wilson\", \"order\": 33}, {\"cast_id\": 57, \"character\": \"Troupe\", \"credit_id\": \"52fe48009251416c750acabb\", \"gender\": 0, \"id\": 1207253, \"name\": \"Chris Mala\", \"order\": 34}, {\"cast_id\": 55, \"character\": \"Troupe\", \"credit_id\": \"52fe48009251416c750acab3\", \"gender\": 0, \"id\": 1207251, \"name\": \"Taylor Kibby\", \"order\": 35}, {\"cast_id\": 56, \"character\": \"Troupe\", \"credit_id\": \"52fe48009251416c750acab7\", \"gender\": 0, \"id\": 1207252, \"name\": \"Jodie Landau\", \"order\": 36}, {\"cast_id\": 58, \"character\": \"Troupe\", \"credit_id\": \"52fe48009251416c750acabf\", \"gender\": 0, \"id\": 1207254, \"name\": \"Julie Lamm\", \"order\": 37}, {\"cast_id\": 59, \"character\": \"Troupe\", \"credit_id\": \"52fe48009251416c750acac3\", \"gender\": 0, \"id\": 1207257, \"name\": \"Cullen B. Madden\", \"order\": 38}, {\"cast_id\": 60, \"character\": \"Troupe\", \"credit_id\": \"52fe48009251416c750acac7\", \"gender\": 0, \"id\": 1207259, \"name\": \"Joseph Brady Madden\", \"order\": 39}, {\"cast_id\": 61, \"character\": \"Troupe\", \"credit_id\": \"52fe48009251416c750acacb\", \"gender\": 0, \"id\": 1207262, \"name\": \"Frankie Torres\", \"order\": 40}, {\"cast_id\": 62, \"character\": \"Troupe\", \"credit_id\": \"52fe48009251416c750acacf\", \"gender\": 1, \"id\": 1158600, \"name\": \"Austin Wilson\", \"order\": 41}, {\"cast_id\": 63, \"character\": \"Troupe\", \"credit_id\": \"52fe48019251416c750acad3\", \"gender\": 1, \"id\": 983705, \"name\": \"Sara Wilson\", \"order\": 42}, {\"cast_id\": 64, \"character\": \"Troupe\", \"credit_id\": \"52fe48019251416c750acad7\", \"gender\": 0, \"id\": 1207263, \"name\": \"Tamica Washington-Miller\", \"order\": 43}, {\"cast_id\": 65, \"character\": \"Op Center Staff\", \"credit_id\": \"52fe48019251416c750acadb\", \"gender\": 1, \"id\": 1145098, \"name\": \"Lucy Briant\", \"order\": 44}, {\"cast_id\": 66, \"character\": \"Op Center Staff\", \"credit_id\": \"52fe48019251416c750acadf\", \"gender\": 2, \"id\": 33305, \"name\": \"Nathan Meister\", \"order\": 45}, {\"cast_id\": 67, \"character\": \"Op Center Staff\", \"credit_id\": \"52fe48019251416c750acae3\", \"gender\": 0, \"id\": 1207264, \"name\": \"Gerry Blair\", \"order\": 46}, {\"cast_id\": 68, \"character\": \"Op Center Staff\", \"credit_id\": \"52fe48019251416c750acae7\", \"gender\": 2, \"id\": 33311, \"name\": \"Matthew Chamberlain\", \"order\": 47}, {\"cast_id\": 69, \"character\": \"Op Center Staff\", \"credit_id\": \"52fe48019251416c750acaeb\", \"gender\": 0, \"id\": 1207265, \"name\": \"Paul Yates\", \"order\": 48}, {\"cast_id\": 70, \"character\": \"Op Center Duty Officer\", \"credit_id\": \"52fe48019251416c750acaef\", \"gender\": 0, \"id\": 1207266, \"name\": \"Wray Wilson\", \"order\": 49}, {\"cast_id\": 71, \"character\": \"Op Center Staff\", \"credit_id\": \"52fe48019251416c750acaf3\", \"gender\": 2, \"id\": 54492, \"name\": \"James Gaylyn\", \"order\": 50}, {\"cast_id\": 72, \"character\": \"Dancer\", \"credit_id\": \"52fe48019251416c750acaf7\", \"gender\": 0, \"id\": 1207267, \"name\": \"Melvin Leno Clark III\", \"order\": 51}, {\"cast_id\": 73, \"character\": \"Dancer\", \"credit_id\": \"52fe48019251416c750acafb\", \"gender\": 0, \"id\": 1207268, \"name\": \"Carvon Futrell\", \"order\": 52}, {\"cast_id\": 74, \"character\": \"Dancer\", \"credit_id\": \"52fe48019251416c750acaff\", \"gender\": 0, \"id\": 1207269, \"name\": \"Brandon Jelkes\", \"order\": 53}, {\"cast_id\": 75, \"character\": \"Dancer\", \"credit_id\": \"52fe48019251416c750acb03\", \"gender\": 0, \"id\": 1207270, \"name\": \"Micah Moch\", \"order\": 54}, {\"cast_id\": 76, \"character\": \"Dancer\", \"credit_id\": \"52fe48019251416c750acb07\", \"gender\": 0, \"id\": 1207271, \"name\": \"Hanniyah Muhammad\", \"order\": 55}, {\"cast_id\": 77, \"character\": \"Dancer\", \"credit_id\": \"52fe48019251416c750acb0b\", \"gender\": 0, \"id\": 1207272, \"name\": \"Christopher Nolen\", \"order\": 56}, {\"cast_id\": 78, \"character\": \"Dancer\", \"credit_id\": \"52fe48019251416c750acb0f\", \"gender\": 0, \"id\": 1207273, \"name\": \"Christa Oliver\", \"order\": 57}, {\"cast_id\": 79, \"character\": \"Dancer\", \"credit_id\": \"52fe48019251416c750acb13\", \"gender\": 0, \"id\": 1207274, \"name\": \"April Marie Thomas\", \"order\": 58}, {\"cast_id\": 80, \"character\": \"Dancer\", \"credit_id\": \"52fe48019251416c750acb17\", \"gender\": 0, \"id\": 1207275, \"name\": \"Bravita A. Threatt\", \"order\": 59}, {\"cast_id\": 81, \"character\": \"Mining Chief (uncredited)\", \"credit_id\": \"52fe48019251416c750acb1b\", \"gender\": 0, \"id\": 1207276, \"name\": \"Colin Bleasdale\", \"order\": 60}, {\"cast_id\": 82, \"character\": \"Veteran Miner (uncredited)\", \"credit_id\": \"52fe48019251416c750acb1f\", \"gender\": 0, \"id\": 107969, \"name\": \"Mike Bodnar\", \"order\": 61}, {\"cast_id\": 83, \"character\": \"Richard (uncredited)\", \"credit_id\": \"52fe48019251416c750acb23\", \"gender\": 0, \"id\": 1207278, \"name\": \"Matt Clayton\", \"order\": 62}, {\"cast_id\": 84, \"character\": \"Nav\\'i (uncredited)\", \"credit_id\": \"52fe48019251416c750acb27\", \"gender\": 1, \"id\": 147898, \"name\": \"Nicole Dionne\", \"order\": 63}, {\"cast_id\": 85, \"character\": \"Trooper (uncredited)\", \"credit_id\": \"52fe48019251416c750acb2b\", \"gender\": 0, \"id\": 1207280, \"name\": \"Jamie Harrison\", \"order\": 64}, {\"cast_id\": 86, \"character\": \"Trooper (uncredited)\", \"credit_id\": \"52fe48019251416c750acb2f\", \"gender\": 0, \"id\": 1207281, \"name\": \"Allan Henry\", \"order\": 65}, {\"cast_id\": 87, \"character\": \"Ground Technician (uncredited)\", \"credit_id\": \"52fe48019251416c750acb33\", \"gender\": 2, \"id\": 1207282, \"name\": \"Anthony Ingruber\", \"order\": 66}, {\"cast_id\": 88, \"character\": \"Flight Crew Mechanic (uncredited)\", \"credit_id\": \"52fe48019251416c750acb37\", \"gender\": 0, \"id\": 1207283, \"name\": \"Ashley Jeffery\", \"order\": 67}, {\"cast_id\": 14, \"character\": \"Samson Pilot\", \"credit_id\": \"52fe48009251416c750ac9f9\", \"gender\": 0, \"id\": 98216, \"name\": \"Dean Knowsley\", \"order\": 68}, {\"cast_id\": 89, \"character\": \"Trooper (uncredited)\", \"credit_id\": \"52fe48019251416c750acb3b\", \"gender\": 0, \"id\": 1201399, \"name\": \"Joseph Mika-Hunt\", \"order\": 69}, {\"cast_id\": 90, \"character\": \"Banshee (uncredited)\", \"credit_id\": \"52fe48019251416c750acb3f\", \"gender\": 0, \"id\": 236696, \"name\": \"Terry Notary\", \"order\": 70}, {\"cast_id\": 91, \"character\": \"Soldier (uncredited)\", \"credit_id\": \"52fe48019251416c750acb43\", \"gender\": 0, \"id\": 1207287, \"name\": \"Kai Pantano\", \"order\": 71}, {\"cast_id\": 92, \"character\": \"Blast Technician (uncredited)\", \"credit_id\": \"52fe48019251416c750acb47\", \"gender\": 0, \"id\": 1207288, \"name\": \"Logan Pithyou\", \"order\": 72}, {\"cast_id\": 93, \"character\": \"Vindum Raah (uncredited)\", \"credit_id\": \"52fe48019251416c750acb4b\", \"gender\": 0, \"id\": 1207289, \"name\": \"Stuart Pollock\", \"order\": 73}, {\"cast_id\": 94, \"character\": \"Hero (uncredited)\", \"credit_id\": \"52fe48019251416c750acb4f\", \"gender\": 0, \"id\": 584868, \"name\": \"Raja\", \"order\": 74}, {\"cast_id\": 95, \"character\": \"Ops Centreworker (uncredited)\", \"credit_id\": \"52fe48019251416c750acb53\", \"gender\": 0, \"id\": 1207290, \"name\": \"Gareth Ruck\", \"order\": 75}, {\"cast_id\": 96, \"character\": \"Engineer (uncredited)\", \"credit_id\": \"52fe48019251416c750acb57\", \"gender\": 0, \"id\": 1062463, \"name\": \"Rhian Sheehan\", \"order\": 76}, {\"cast_id\": 97, \"character\": \"Col. Quaritch\\'s Mech Suit (uncredited)\", \"credit_id\": \"52fe48019251416c750acb5b\", \"gender\": 0, \"id\": 60656, \"name\": \"T. J. Storm\", \"order\": 77}, {\"cast_id\": 98, \"character\": \"Female Marine (uncredited)\", \"credit_id\": \"52fe48019251416c750acb5f\", \"gender\": 0, \"id\": 1207291, \"name\": \"Jodie Taylor\", \"order\": 78}, {\"cast_id\": 99, \"character\": \"Ikran Clan Leader (uncredited)\", \"credit_id\": \"52fe48019251416c750acb63\", \"gender\": 1, \"id\": 1186027, \"name\": \"Alicia Vela-Bailey\", \"order\": 79}, {\"cast_id\": 100, \"character\": \"Geologist (uncredited)\", \"credit_id\": \"52fe48019251416c750acb67\", \"gender\": 0, \"id\": 1207292, \"name\": \"Richard Whiteside\", \"order\": 80}, {\"cast_id\": 101, \"character\": \"Na\\'vi (uncredited)\", \"credit_id\": \"52fe48019251416c750acb6b\", \"gender\": 0, \"id\": 103259, \"name\": \"Nikie Zambo\", \"order\": 81}, {\"cast_id\": 102, \"character\": \"Ambient Room Tech / Troupe\", \"credit_id\": \"52fe48019251416c750acb6f\", \"gender\": 1, \"id\": 42286, \"name\": \"Julene Renee\", \"order\": 82}]'],\n",
       "      dtype=object)"
      ]
     },
     "execution_count": 4,
     "metadata": {},
     "output_type": "execute_result"
    }
   ],
   "source": [
    "credits.head(1)['cast'].values"
   ]
  },
  {
   "cell_type": "code",
   "execution_count": 5,
   "id": "e070f2d5",
   "metadata": {},
   "outputs": [
    {
     "data": {
      "text/plain": [
       "array(['[{\"credit_id\": \"52fe48009251416c750aca23\", \"department\": \"Editing\", \"gender\": 0, \"id\": 1721, \"job\": \"Editor\", \"name\": \"Stephen E. Rivkin\"}, {\"credit_id\": \"539c47ecc3a36810e3001f87\", \"department\": \"Art\", \"gender\": 2, \"id\": 496, \"job\": \"Production Design\", \"name\": \"Rick Carter\"}, {\"credit_id\": \"54491c89c3a3680fb4001cf7\", \"department\": \"Sound\", \"gender\": 0, \"id\": 900, \"job\": \"Sound Designer\", \"name\": \"Christopher Boyes\"}, {\"credit_id\": \"54491cb70e0a267480001bd0\", \"department\": \"Sound\", \"gender\": 0, \"id\": 900, \"job\": \"Supervising Sound Editor\", \"name\": \"Christopher Boyes\"}, {\"credit_id\": \"539c4a4cc3a36810c9002101\", \"department\": \"Production\", \"gender\": 1, \"id\": 1262, \"job\": \"Casting\", \"name\": \"Mali Finn\"}, {\"credit_id\": \"5544ee3b925141499f0008fc\", \"department\": \"Sound\", \"gender\": 2, \"id\": 1729, \"job\": \"Original Music Composer\", \"name\": \"James Horner\"}, {\"credit_id\": \"52fe48009251416c750ac9c3\", \"department\": \"Directing\", \"gender\": 2, \"id\": 2710, \"job\": \"Director\", \"name\": \"James Cameron\"}, {\"credit_id\": \"52fe48009251416c750ac9d9\", \"department\": \"Writing\", \"gender\": 2, \"id\": 2710, \"job\": \"Writer\", \"name\": \"James Cameron\"}, {\"credit_id\": \"52fe48009251416c750aca17\", \"department\": \"Editing\", \"gender\": 2, \"id\": 2710, \"job\": \"Editor\", \"name\": \"James Cameron\"}, {\"credit_id\": \"52fe48009251416c750aca29\", \"department\": \"Production\", \"gender\": 2, \"id\": 2710, \"job\": \"Producer\", \"name\": \"James Cameron\"}, {\"credit_id\": \"52fe48009251416c750aca3f\", \"department\": \"Writing\", \"gender\": 2, \"id\": 2710, \"job\": \"Screenplay\", \"name\": \"James Cameron\"}, {\"credit_id\": \"539c4987c3a36810ba0021a4\", \"department\": \"Art\", \"gender\": 2, \"id\": 7236, \"job\": \"Art Direction\", \"name\": \"Andrew Menzies\"}, {\"credit_id\": \"549598c3c3a3686ae9004383\", \"department\": \"Visual Effects\", \"gender\": 0, \"id\": 6690, \"job\": \"Visual Effects Producer\", \"name\": \"Jill Brooks\"}, {\"credit_id\": \"52fe48009251416c750aca4b\", \"department\": \"Production\", \"gender\": 1, \"id\": 6347, \"job\": \"Casting\", \"name\": \"Margery Simkin\"}, {\"credit_id\": \"570b6f419251417da70032fe\", \"department\": \"Art\", \"gender\": 2, \"id\": 6878, \"job\": \"Supervising Art Director\", \"name\": \"Kevin Ishioka\"}, {\"credit_id\": \"5495a0fac3a3686ae9004468\", \"department\": \"Sound\", \"gender\": 0, \"id\": 6883, \"job\": \"Music Editor\", \"name\": \"Dick Bernstein\"}, {\"credit_id\": \"54959706c3a3686af3003e81\", \"department\": \"Sound\", \"gender\": 0, \"id\": 8159, \"job\": \"Sound Effects Editor\", \"name\": \"Shannon Mills\"}, {\"credit_id\": \"54491d58c3a3680fb1001ccb\", \"department\": \"Sound\", \"gender\": 0, \"id\": 8160, \"job\": \"Foley\", \"name\": \"Dennie Thorpe\"}, {\"credit_id\": \"54491d6cc3a3680fa5001b2c\", \"department\": \"Sound\", \"gender\": 0, \"id\": 8163, \"job\": \"Foley\", \"name\": \"Jana Vance\"}, {\"credit_id\": \"52fe48009251416c750aca57\", \"department\": \"Costume & Make-Up\", \"gender\": 1, \"id\": 8527, \"job\": \"Costume Design\", \"name\": \"Deborah Lynn Scott\"}, {\"credit_id\": \"52fe48009251416c750aca2f\", \"department\": \"Production\", \"gender\": 2, \"id\": 8529, \"job\": \"Producer\", \"name\": \"Jon Landau\"}, {\"credit_id\": \"539c4937c3a36810ba002194\", \"department\": \"Art\", \"gender\": 0, \"id\": 9618, \"job\": \"Art Direction\", \"name\": \"Sean Haworth\"}, {\"credit_id\": \"539c49b6c3a36810c10020e6\", \"department\": \"Art\", \"gender\": 1, \"id\": 12653, \"job\": \"Set Decoration\", \"name\": \"Kim Sinclair\"}, {\"credit_id\": \"570b6f2f9251413a0e00020d\", \"department\": \"Art\", \"gender\": 1, \"id\": 12653, \"job\": \"Supervising Art Director\", \"name\": \"Kim Sinclair\"}, {\"credit_id\": \"54491a6c0e0a26748c001b19\", \"department\": \"Art\", \"gender\": 2, \"id\": 14350, \"job\": \"Set Designer\", \"name\": \"Richard F. Mays\"}, {\"credit_id\": \"56928cf4c3a3684cff0025c4\", \"department\": \"Production\", \"gender\": 1, \"id\": 20294, \"job\": \"Executive Producer\", \"name\": \"Laeta Kalogridis\"}, {\"credit_id\": \"52fe48009251416c750aca51\", \"department\": \"Costume & Make-Up\", \"gender\": 0, \"id\": 17675, \"job\": \"Costume Design\", \"name\": \"Mayes C. Rubeo\"}, {\"credit_id\": \"52fe48009251416c750aca11\", \"department\": \"Camera\", \"gender\": 2, \"id\": 18265, \"job\": \"Director of Photography\", \"name\": \"Mauro Fiore\"}, {\"credit_id\": \"5449194d0e0a26748f001b39\", \"department\": \"Art\", \"gender\": 0, \"id\": 42281, \"job\": \"Set Designer\", \"name\": \"Scott Herbertson\"}, {\"credit_id\": \"52fe48009251416c750aca05\", \"department\": \"Crew\", \"gender\": 0, \"id\": 42288, \"job\": \"Stunts\", \"name\": \"Woody Schultz\"}, {\"credit_id\": \"5592aefb92514152de0010f5\", \"department\": \"Costume & Make-Up\", \"gender\": 0, \"id\": 29067, \"job\": \"Makeup Artist\", \"name\": \"Linda DeVetta\"}, {\"credit_id\": \"5592afa492514152de00112c\", \"department\": \"Costume & Make-Up\", \"gender\": 0, \"id\": 29067, \"job\": \"Hairstylist\", \"name\": \"Linda DeVetta\"}, {\"credit_id\": \"54959ed592514130fc002e5d\", \"department\": \"Camera\", \"gender\": 2, \"id\": 33302, \"job\": \"Camera Operator\", \"name\": \"Richard Bluck\"}, {\"credit_id\": \"539c4891c3a36810ba002147\", \"department\": \"Art\", \"gender\": 2, \"id\": 33303, \"job\": \"Art Direction\", \"name\": \"Simon Bright\"}, {\"credit_id\": \"54959c069251417a81001f3a\", \"department\": \"Visual Effects\", \"gender\": 0, \"id\": 113145, \"job\": \"Visual Effects Supervisor\", \"name\": \"Richard Martin\"}, {\"credit_id\": \"54959a0dc3a3680ff5002c8d\", \"department\": \"Crew\", \"gender\": 2, \"id\": 58188, \"job\": \"Visual Effects Editor\", \"name\": \"Steve R. Moore\"}, {\"credit_id\": \"52fe48009251416c750aca1d\", \"department\": \"Editing\", \"gender\": 2, \"id\": 58871, \"job\": \"Editor\", \"name\": \"John Refoua\"}, {\"credit_id\": \"54491a4dc3a3680fc30018ca\", \"department\": \"Art\", \"gender\": 0, \"id\": 92359, \"job\": \"Set Designer\", \"name\": \"Karl J. Martin\"}, {\"credit_id\": \"52fe48009251416c750aca35\", \"department\": \"Camera\", \"gender\": 1, \"id\": 72201, \"job\": \"Director of Photography\", \"name\": \"Chiling Lin\"}, {\"credit_id\": \"52fe48009251416c750ac9ff\", \"department\": \"Crew\", \"gender\": 0, \"id\": 89714, \"job\": \"Stunts\", \"name\": \"Ilram Choi\"}, {\"credit_id\": \"54959c529251416e2b004394\", \"department\": \"Visual Effects\", \"gender\": 2, \"id\": 93214, \"job\": \"Visual Effects Supervisor\", \"name\": \"Steven Quale\"}, {\"credit_id\": \"54491edf0e0a267489001c37\", \"department\": \"Crew\", \"gender\": 1, \"id\": 122607, \"job\": \"Dialect Coach\", \"name\": \"Carla Meyer\"}, {\"credit_id\": \"539c485bc3a368653d001a3a\", \"department\": \"Art\", \"gender\": 2, \"id\": 132585, \"job\": \"Art Direction\", \"name\": \"Nick Bassett\"}, {\"credit_id\": \"539c4903c3a368653d001a74\", \"department\": \"Art\", \"gender\": 0, \"id\": 132596, \"job\": \"Art Direction\", \"name\": \"Jill Cormack\"}, {\"credit_id\": \"539c4967c3a368653d001a94\", \"department\": \"Art\", \"gender\": 0, \"id\": 132604, \"job\": \"Art Direction\", \"name\": \"Andy McLaren\"}, {\"credit_id\": \"52fe48009251416c750aca45\", \"department\": \"Crew\", \"gender\": 0, \"id\": 236696, \"job\": \"Motion Capture Artist\", \"name\": \"Terry Notary\"}, {\"credit_id\": \"54959e02c3a3680fc60027d2\", \"department\": \"Crew\", \"gender\": 2, \"id\": 956198, \"job\": \"Stunt Coordinator\", \"name\": \"Garrett Warren\"}, {\"credit_id\": \"54959ca3c3a3686ae300438c\", \"department\": \"Visual Effects\", \"gender\": 2, \"id\": 957874, \"job\": \"Visual Effects Supervisor\", \"name\": \"Jonathan Rothbart\"}, {\"credit_id\": \"570b6f519251412c74001b2f\", \"department\": \"Art\", \"gender\": 0, \"id\": 957889, \"job\": \"Supervising Art Director\", \"name\": \"Stefan Dechant\"}, {\"credit_id\": \"570b6f62c3a3680b77007460\", \"department\": \"Art\", \"gender\": 2, \"id\": 959555, \"job\": \"Supervising Art Director\", \"name\": \"Todd Cherniawsky\"}, {\"credit_id\": \"539c4a3ac3a36810da0021cc\", \"department\": \"Production\", \"gender\": 0, \"id\": 1016177, \"job\": \"Casting\", \"name\": \"Miranda Rivers\"}, {\"credit_id\": \"539c482cc3a36810c1002062\", \"department\": \"Art\", \"gender\": 0, \"id\": 1032536, \"job\": \"Production Design\", \"name\": \"Robert Stromberg\"}, {\"credit_id\": \"539c4b65c3a36810c9002125\", \"department\": \"Costume & Make-Up\", \"gender\": 2, \"id\": 1071680, \"job\": \"Costume Design\", \"name\": \"John Harding\"}, {\"credit_id\": \"54959e6692514130fc002e4e\", \"department\": \"Camera\", \"gender\": 0, \"id\": 1177364, \"job\": \"Steadicam Operator\", \"name\": \"Roberto De Angelis\"}, {\"credit_id\": \"539c49f1c3a368653d001aac\", \"department\": \"Costume & Make-Up\", \"gender\": 2, \"id\": 1202850, \"job\": \"Makeup Department Head\", \"name\": \"Mike Smithson\"}, {\"credit_id\": \"5495999ec3a3686ae100460c\", \"department\": \"Visual Effects\", \"gender\": 0, \"id\": 1204668, \"job\": \"Visual Effects Producer\", \"name\": \"Alain Lalanne\"}, {\"credit_id\": \"54959cdfc3a3681153002729\", \"department\": \"Visual Effects\", \"gender\": 0, \"id\": 1206410, \"job\": \"Visual Effects Supervisor\", \"name\": \"Lucas Salton\"}, {\"credit_id\": \"549596239251417a81001eae\", \"department\": \"Crew\", \"gender\": 0, \"id\": 1234266, \"job\": \"Post Production Supervisor\", \"name\": \"Janace Tashjian\"}, {\"credit_id\": \"54959c859251416e1e003efe\", \"department\": \"Visual Effects\", \"gender\": 0, \"id\": 1271932, \"job\": \"Visual Effects Supervisor\", \"name\": \"Stephen Rosenbaum\"}, {\"credit_id\": \"5592af28c3a368775a00105f\", \"department\": \"Costume & Make-Up\", \"gender\": 0, \"id\": 1310064, \"job\": \"Makeup Artist\", \"name\": \"Frankie Karena\"}, {\"credit_id\": \"539c4adfc3a36810e300203b\", \"department\": \"Costume & Make-Up\", \"gender\": 1, \"id\": 1319844, \"job\": \"Costume Supervisor\", \"name\": \"Lisa Lovaas\"}, {\"credit_id\": \"54959b579251416e2b004371\", \"department\": \"Visual Effects\", \"gender\": 0, \"id\": 1327028, \"job\": \"Visual Effects Supervisor\", \"name\": \"Jonathan Fawkner\"}, {\"credit_id\": \"539c48a7c3a36810b5001fa7\", \"department\": \"Art\", \"gender\": 0, \"id\": 1330561, \"job\": \"Art Direction\", \"name\": \"Robert Bavin\"}, {\"credit_id\": \"539c4a71c3a36810da0021e0\", \"department\": \"Costume & Make-Up\", \"gender\": 0, \"id\": 1330567, \"job\": \"Costume Supervisor\", \"name\": \"Anthony Almaraz\"}, {\"credit_id\": \"539c4a8ac3a36810ba0021e4\", \"department\": \"Costume & Make-Up\", \"gender\": 0, \"id\": 1330570, \"job\": \"Costume Supervisor\", \"name\": \"Carolyn M. Fenton\"}, {\"credit_id\": \"539c4ab6c3a36810da0021f0\", \"department\": \"Costume & Make-Up\", \"gender\": 0, \"id\": 1330574, \"job\": \"Costume Supervisor\", \"name\": \"Beth Koenigsberg\"}, {\"credit_id\": \"54491ab70e0a267480001ba2\", \"department\": \"Art\", \"gender\": 0, \"id\": 1336191, \"job\": \"Set Designer\", \"name\": \"Sam Page\"}, {\"credit_id\": \"544919d9c3a3680fc30018bd\", \"department\": \"Art\", \"gender\": 0, \"id\": 1339441, \"job\": \"Set Designer\", \"name\": \"Tex Kadonaga\"}, {\"credit_id\": \"54491cf50e0a267483001b0c\", \"department\": \"Editing\", \"gender\": 0, \"id\": 1352422, \"job\": \"Dialogue Editor\", \"name\": \"Kim Foscato\"}, {\"credit_id\": \"544919f40e0a26748c001b09\", \"department\": \"Art\", \"gender\": 0, \"id\": 1352962, \"job\": \"Set Designer\", \"name\": \"Tammy S. Lee\"}, {\"credit_id\": \"5495a115c3a3680ff5002d71\", \"department\": \"Crew\", \"gender\": 0, \"id\": 1357070, \"job\": \"Transportation Coordinator\", \"name\": \"Denny Caira\"}, {\"credit_id\": \"5495a12f92514130fc002e94\", \"department\": \"Crew\", \"gender\": 0, \"id\": 1357071, \"job\": \"Transportation Coordinator\", \"name\": \"James Waitkus\"}, {\"credit_id\": \"5495976fc3a36811530026b0\", \"department\": \"Sound\", \"gender\": 0, \"id\": 1360103, \"job\": \"Supervising Sound Editor\", \"name\": \"Addison Teague\"}, {\"credit_id\": \"54491837c3a3680fb1001c5a\", \"department\": \"Art\", \"gender\": 2, \"id\": 1376887, \"job\": \"Set Designer\", \"name\": \"C. Scott Baker\"}, {\"credit_id\": \"54491878c3a3680fb4001c9d\", \"department\": \"Art\", \"gender\": 0, \"id\": 1376888, \"job\": \"Set Designer\", \"name\": \"Luke Caska\"}, {\"credit_id\": \"544918dac3a3680fa5001ae0\", \"department\": \"Art\", \"gender\": 0, \"id\": 1376889, \"job\": \"Set Designer\", \"name\": \"David Chow\"}, {\"credit_id\": \"544919110e0a267486001b68\", \"department\": \"Art\", \"gender\": 0, \"id\": 1376890, \"job\": \"Set Designer\", \"name\": \"Jonathan Dyer\"}, {\"credit_id\": \"54491967c3a3680faa001b5e\", \"department\": \"Art\", \"gender\": 0, \"id\": 1376891, \"job\": \"Set Designer\", \"name\": \"Joseph Hiura\"}, {\"credit_id\": \"54491997c3a3680fb1001c8a\", \"department\": \"Art\", \"gender\": 0, \"id\": 1376892, \"job\": \"Art Department Coordinator\", \"name\": \"Rebecca Jellie\"}, {\"credit_id\": \"544919ba0e0a26748f001b42\", \"department\": \"Art\", \"gender\": 0, \"id\": 1376893, \"job\": \"Set Designer\", \"name\": \"Robert Andrew Johnson\"}, {\"credit_id\": \"54491b1dc3a3680faa001b8c\", \"department\": \"Art\", \"gender\": 0, \"id\": 1376895, \"job\": \"Assistant Art Director\", \"name\": \"Mike Stassi\"}, {\"credit_id\": \"54491b79c3a3680fbb001826\", \"department\": \"Art\", \"gender\": 0, \"id\": 1376897, \"job\": \"Construction Coordinator\", \"name\": \"John Villarino\"}, {\"credit_id\": \"54491baec3a3680fb4001ce6\", \"department\": \"Art\", \"gender\": 2, \"id\": 1376898, \"job\": \"Assistant Art Director\", \"name\": \"Jeffrey Wisniewski\"}, {\"credit_id\": \"54491d2fc3a3680fb4001d07\", \"department\": \"Editing\", \"gender\": 0, \"id\": 1376899, \"job\": \"Dialogue Editor\", \"name\": \"Cheryl Nardi\"}, {\"credit_id\": \"54491d86c3a3680fa5001b2f\", \"department\": \"Editing\", \"gender\": 0, \"id\": 1376901, \"job\": \"Dialogue Editor\", \"name\": \"Marshall Winn\"}, {\"credit_id\": \"54491d9dc3a3680faa001bb0\", \"department\": \"Sound\", \"gender\": 0, \"id\": 1376902, \"job\": \"Supervising Sound Editor\", \"name\": \"Gwendolyn Yates Whittle\"}, {\"credit_id\": \"54491dc10e0a267486001bce\", \"department\": \"Sound\", \"gender\": 0, \"id\": 1376903, \"job\": \"Sound Re-Recording Mixer\", \"name\": \"William Stein\"}, {\"credit_id\": \"54491f500e0a26747c001c07\", \"department\": \"Crew\", \"gender\": 0, \"id\": 1376909, \"job\": \"Choreographer\", \"name\": \"Lula Washington\"}, {\"credit_id\": \"549599239251412c4e002a2e\", \"department\": \"Visual Effects\", \"gender\": 0, \"id\": 1391692, \"job\": \"Visual Effects Producer\", \"name\": \"Chris Del Conte\"}, {\"credit_id\": \"54959d54c3a36831b8001d9a\", \"department\": \"Visual Effects\", \"gender\": 2, \"id\": 1391695, \"job\": \"Visual Effects Supervisor\", \"name\": \"R. Christopher White\"}, {\"credit_id\": \"54959bdf9251412c4e002a66\", \"department\": \"Visual Effects\", \"gender\": 0, \"id\": 1394070, \"job\": \"Visual Effects Supervisor\", \"name\": \"Dan Lemmon\"}, {\"credit_id\": \"5495971d92514132ed002922\", \"department\": \"Sound\", \"gender\": 0, \"id\": 1394129, \"job\": \"Sound Effects Editor\", \"name\": \"Tim Nielsen\"}, {\"credit_id\": \"5592b25792514152cc0011aa\", \"department\": \"Crew\", \"gender\": 0, \"id\": 1394286, \"job\": \"CG Supervisor\", \"name\": \"Michael Mulholland\"}, {\"credit_id\": \"54959a329251416e2b004355\", \"department\": \"Crew\", \"gender\": 0, \"id\": 1394750, \"job\": \"Visual Effects Editor\", \"name\": \"Thomas Nittmann\"}, {\"credit_id\": \"54959d6dc3a3686ae9004401\", \"department\": \"Visual Effects\", \"gender\": 0, \"id\": 1394755, \"job\": \"Visual Effects Supervisor\", \"name\": \"Edson Williams\"}, {\"credit_id\": \"5495a08fc3a3686ae300441c\", \"department\": \"Editing\", \"gender\": 0, \"id\": 1394953, \"job\": \"Digital Intermediate\", \"name\": \"Christine Carr\"}, {\"credit_id\": \"55402d659251413d6d000249\", \"department\": \"Visual Effects\", \"gender\": 0, \"id\": 1395269, \"job\": \"Visual Effects Supervisor\", \"name\": \"John Bruno\"}, {\"credit_id\": \"54959e7b9251416e1e003f3e\", \"department\": \"Camera\", \"gender\": 0, \"id\": 1398970, \"job\": \"Steadicam Operator\", \"name\": \"David Emmerichs\"}, {\"credit_id\": \"54959734c3a3686ae10045e0\", \"department\": \"Sound\", \"gender\": 0, \"id\": 1400906, \"job\": \"Sound Effects Editor\", \"name\": \"Christopher Scarabosio\"}, {\"credit_id\": \"549595dd92514130fc002d79\", \"department\": \"Production\", \"gender\": 0, \"id\": 1401784, \"job\": \"Production Supervisor\", \"name\": \"Jennifer Teves\"}, {\"credit_id\": \"549596009251413af70028cc\", \"department\": \"Production\", \"gender\": 0, \"id\": 1401785, \"job\": \"Production Manager\", \"name\": \"Brigitte Yorke\"}, {\"credit_id\": \"549596e892514130fc002d99\", \"department\": \"Sound\", \"gender\": 0, \"id\": 1401786, \"job\": \"Sound Effects Editor\", \"name\": \"Ken Fischer\"}, {\"credit_id\": \"549598229251412c4e002a1c\", \"department\": \"Crew\", \"gender\": 0, \"id\": 1401787, \"job\": \"Special Effects Coordinator\", \"name\": \"Iain Hutton\"}, {\"credit_id\": \"549598349251416e2b00432b\", \"department\": \"Crew\", \"gender\": 0, \"id\": 1401788, \"job\": \"Special Effects Coordinator\", \"name\": \"Steve Ingram\"}, {\"credit_id\": \"54959905c3a3686ae3004324\", \"department\": \"Visual Effects\", \"gender\": 0, \"id\": 1401789, \"job\": \"Visual Effects Producer\", \"name\": \"Joyce Cox\"}, {\"credit_id\": \"5495994b92514132ed002951\", \"department\": \"Visual Effects\", \"gender\": 0, \"id\": 1401790, \"job\": \"Visual Effects Producer\", \"name\": \"Jenny Foster\"}, {\"credit_id\": \"549599cbc3a3686ae1004613\", \"department\": \"Crew\", \"gender\": 0, \"id\": 1401791, \"job\": \"Visual Effects Editor\", \"name\": \"Christopher Marino\"}, {\"credit_id\": \"549599f2c3a3686ae100461e\", \"department\": \"Crew\", \"gender\": 0, \"id\": 1401792, \"job\": \"Visual Effects Editor\", \"name\": \"Jim Milton\"}, {\"credit_id\": \"54959a51c3a3686af3003eb5\", \"department\": \"Visual Effects\", \"gender\": 0, \"id\": 1401793, \"job\": \"Visual Effects Producer\", \"name\": \"Cyndi Ochs\"}, {\"credit_id\": \"54959a7cc3a36811530026f4\", \"department\": \"Crew\", \"gender\": 0, \"id\": 1401794, \"job\": \"Visual Effects Editor\", \"name\": \"Lucas Putnam\"}, {\"credit_id\": \"54959b91c3a3680ff5002cb4\", \"department\": \"Visual Effects\", \"gender\": 0, \"id\": 1401795, \"job\": \"Visual Effects Supervisor\", \"name\": \"Anthony \\'Max\\' Ivins\"}, {\"credit_id\": \"54959bb69251412c4e002a5f\", \"department\": \"Visual Effects\", \"gender\": 0, \"id\": 1401796, \"job\": \"Visual Effects Supervisor\", \"name\": \"John Knoll\"}, {\"credit_id\": \"54959cbbc3a3686ae3004391\", \"department\": \"Visual Effects\", \"gender\": 2, \"id\": 1401799, \"job\": \"Visual Effects Supervisor\", \"name\": \"Eric Saindon\"}, {\"credit_id\": \"54959d06c3a3686ae90043f6\", \"department\": \"Visual Effects\", \"gender\": 0, \"id\": 1401800, \"job\": \"Visual Effects Supervisor\", \"name\": \"Wayne Stables\"}, {\"credit_id\": \"54959d259251416e1e003f11\", \"department\": \"Visual Effects\", \"gender\": 0, \"id\": 1401801, \"job\": \"Visual Effects Supervisor\", \"name\": \"David Stinnett\"}, {\"credit_id\": \"54959db49251413af7002975\", \"department\": \"Visual Effects\", \"gender\": 0, \"id\": 1401803, \"job\": \"Visual Effects Supervisor\", \"name\": \"Guy Williams\"}, {\"credit_id\": \"54959de4c3a3681153002750\", \"department\": \"Crew\", \"gender\": 0, \"id\": 1401804, \"job\": \"Stunt Coordinator\", \"name\": \"Stuart Thorp\"}, {\"credit_id\": \"54959ef2c3a3680fc60027f2\", \"department\": \"Lighting\", \"gender\": 0, \"id\": 1401805, \"job\": \"Best Boy Electric\", \"name\": \"Giles Coburn\"}, {\"credit_id\": \"54959f07c3a3680fc60027f9\", \"department\": \"Camera\", \"gender\": 2, \"id\": 1401806, \"job\": \"Still Photographer\", \"name\": \"Mark Fellman\"}, {\"credit_id\": \"54959f47c3a3681153002774\", \"department\": \"Lighting\", \"gender\": 0, \"id\": 1401807, \"job\": \"Lighting Technician\", \"name\": \"Scott Sprague\"}, {\"credit_id\": \"54959f8cc3a36831b8001df2\", \"department\": \"Visual Effects\", \"gender\": 0, \"id\": 1401808, \"job\": \"Animation Director\", \"name\": \"Jeremy Hollobon\"}, {\"credit_id\": \"54959fa0c3a36831b8001dfb\", \"department\": \"Visual Effects\", \"gender\": 0, \"id\": 1401809, \"job\": \"Animation Director\", \"name\": \"Orlando Meunier\"}, {\"credit_id\": \"54959fb6c3a3686af3003f54\", \"department\": \"Visual Effects\", \"gender\": 0, \"id\": 1401810, \"job\": \"Animation Director\", \"name\": \"Taisuke Tanimura\"}, {\"credit_id\": \"54959fd2c3a36831b8001e02\", \"department\": \"Costume & Make-Up\", \"gender\": 0, \"id\": 1401812, \"job\": \"Set Costumer\", \"name\": \"Lilia Mishel Acevedo\"}, {\"credit_id\": \"54959ff9c3a3686ae300440c\", \"department\": \"Costume & Make-Up\", \"gender\": 0, \"id\": 1401814, \"job\": \"Set Costumer\", \"name\": \"Alejandro M. Hernandez\"}, {\"credit_id\": \"5495a0ddc3a3686ae10046fe\", \"department\": \"Editing\", \"gender\": 0, \"id\": 1401815, \"job\": \"Digital Intermediate\", \"name\": \"Marvin Hall\"}, {\"credit_id\": \"5495a1f7c3a3686ae3004443\", \"department\": \"Production\", \"gender\": 0, \"id\": 1401816, \"job\": \"Publicist\", \"name\": \"Judy Alley\"}, {\"credit_id\": \"5592b29fc3a36869d100002f\", \"department\": \"Crew\", \"gender\": 0, \"id\": 1418381, \"job\": \"CG Supervisor\", \"name\": \"Mike Perry\"}, {\"credit_id\": \"5592b23a9251415df8001081\", \"department\": \"Crew\", \"gender\": 0, \"id\": 1426854, \"job\": \"CG Supervisor\", \"name\": \"Andrew Morley\"}, {\"credit_id\": \"55491e1192514104c40002d8\", \"department\": \"Art\", \"gender\": 0, \"id\": 1438901, \"job\": \"Conceptual Design\", \"name\": \"Seth Engstrom\"}, {\"credit_id\": \"5525d5809251417276002b06\", \"department\": \"Crew\", \"gender\": 0, \"id\": 1447362, \"job\": \"Visual Effects Art Director\", \"name\": \"Eric Oliver\"}, {\"credit_id\": \"554427ca925141586500312a\", \"department\": \"Visual Effects\", \"gender\": 0, \"id\": 1447503, \"job\": \"Modeling\", \"name\": \"Matsune Suzuki\"}, {\"credit_id\": \"551906889251415aab001c88\", \"department\": \"Art\", \"gender\": 0, \"id\": 1447524, \"job\": \"Art Department Manager\", \"name\": \"Paul Tobin\"}, {\"credit_id\": \"5592af8492514152cc0010de\", \"department\": \"Costume & Make-Up\", \"gender\": 0, \"id\": 1452643, \"job\": \"Hairstylist\", \"name\": \"Roxane Griffin\"}, {\"credit_id\": \"553d3c109251415852001318\", \"department\": \"Lighting\", \"gender\": 0, \"id\": 1453938, \"job\": \"Lighting Artist\", \"name\": \"Arun Ram-Mohan\"}, {\"credit_id\": \"5592af4692514152d5001355\", \"department\": \"Costume & Make-Up\", \"gender\": 0, \"id\": 1457305, \"job\": \"Makeup Artist\", \"name\": \"Georgia Lockhart-Adams\"}, {\"credit_id\": \"5592b2eac3a36877470012a5\", \"department\": \"Crew\", \"gender\": 0, \"id\": 1466035, \"job\": \"CG Supervisor\", \"name\": \"Thrain Shadbolt\"}, {\"credit_id\": \"5592b032c3a36877450015f1\", \"department\": \"Crew\", \"gender\": 0, \"id\": 1483220, \"job\": \"CG Supervisor\", \"name\": \"Brad Alexander\"}, {\"credit_id\": \"5592b05592514152d80012f6\", \"department\": \"Crew\", \"gender\": 0, \"id\": 1483221, \"job\": \"CG Supervisor\", \"name\": \"Shadi Almassizadeh\"}, {\"credit_id\": \"5592b090c3a36877570010b5\", \"department\": \"Crew\", \"gender\": 0, \"id\": 1483222, \"job\": \"CG Supervisor\", \"name\": \"Simon Clutterbuck\"}, {\"credit_id\": \"5592b0dbc3a368774b00112c\", \"department\": \"Crew\", \"gender\": 0, \"id\": 1483223, \"job\": \"CG Supervisor\", \"name\": \"Graeme Demmocks\"}, {\"credit_id\": \"5592b0fe92514152db0010c1\", \"department\": \"Crew\", \"gender\": 0, \"id\": 1483224, \"job\": \"CG Supervisor\", \"name\": \"Adrian Fernandes\"}, {\"credit_id\": \"5592b11f9251415df8001059\", \"department\": \"Crew\", \"gender\": 0, \"id\": 1483225, \"job\": \"CG Supervisor\", \"name\": \"Mitch Gates\"}, {\"credit_id\": \"5592b15dc3a3687745001645\", \"department\": \"Crew\", \"gender\": 0, \"id\": 1483226, \"job\": \"CG Supervisor\", \"name\": \"Jerry Kung\"}, {\"credit_id\": \"5592b18e925141645a0004ae\", \"department\": \"Crew\", \"gender\": 0, \"id\": 1483227, \"job\": \"CG Supervisor\", \"name\": \"Andy Lomas\"}, {\"credit_id\": \"5592b1bfc3a368775d0010e7\", \"department\": \"Crew\", \"gender\": 0, \"id\": 1483228, \"job\": \"CG Supervisor\", \"name\": \"Sebastian Marino\"}, {\"credit_id\": \"5592b2049251415df8001078\", \"department\": \"Crew\", \"gender\": 0, \"id\": 1483229, \"job\": \"CG Supervisor\", \"name\": \"Matthias Menz\"}, {\"credit_id\": \"5592b27b92514152d800136a\", \"department\": \"Crew\", \"gender\": 0, \"id\": 1483230, \"job\": \"CG Supervisor\", \"name\": \"Sergei Nevshupov\"}, {\"credit_id\": \"5592b2c3c3a36869e800003c\", \"department\": \"Crew\", \"gender\": 0, \"id\": 1483231, \"job\": \"CG Supervisor\", \"name\": \"Philippe Rebours\"}, {\"credit_id\": \"5592b317c3a36877470012af\", \"department\": \"Crew\", \"gender\": 0, \"id\": 1483232, \"job\": \"CG Supervisor\", \"name\": \"Michael Takarangi\"}, {\"credit_id\": \"5592b345c3a36877470012bb\", \"department\": \"Crew\", \"gender\": 0, \"id\": 1483233, \"job\": \"CG Supervisor\", \"name\": \"David Weitzberg\"}, {\"credit_id\": \"5592b37cc3a368775100113b\", \"department\": \"Crew\", \"gender\": 0, \"id\": 1483234, \"job\": \"CG Supervisor\", \"name\": \"Ben White\"}, {\"credit_id\": \"573c8e2f9251413f5d000094\", \"department\": \"Crew\", \"gender\": 1, \"id\": 1621932, \"job\": \"Stunts\", \"name\": \"Min Windle\"}]',\n",
       "       '[{\"credit_id\": \"52fe4232c3a36847f800b579\", \"department\": \"Camera\", \"gender\": 2, \"id\": 120, \"job\": \"Director of Photography\", \"name\": \"Dariusz Wolski\"}, {\"credit_id\": \"52fe4232c3a36847f800b4fd\", \"department\": \"Directing\", \"gender\": 2, \"id\": 1704, \"job\": \"Director\", \"name\": \"Gore Verbinski\"}, {\"credit_id\": \"52fe4232c3a36847f800b54f\", \"department\": \"Production\", \"gender\": 2, \"id\": 770, \"job\": \"Producer\", \"name\": \"Jerry Bruckheimer\"}, {\"credit_id\": \"52fe4232c3a36847f800b503\", \"department\": \"Writing\", \"gender\": 2, \"id\": 1705, \"job\": \"Screenplay\", \"name\": \"Ted Elliott\"}, {\"credit_id\": \"52fe4232c3a36847f800b509\", \"department\": \"Writing\", \"gender\": 2, \"id\": 1706, \"job\": \"Screenplay\", \"name\": \"Terry Rossio\"}, {\"credit_id\": \"52fe4232c3a36847f800b57f\", \"department\": \"Editing\", \"gender\": 0, \"id\": 1721, \"job\": \"Editor\", \"name\": \"Stephen E. Rivkin\"}, {\"credit_id\": \"52fe4232c3a36847f800b585\", \"department\": \"Editing\", \"gender\": 2, \"id\": 1722, \"job\": \"Editor\", \"name\": \"Craig Wood\"}, {\"credit_id\": \"52fe4232c3a36847f800b573\", \"department\": \"Sound\", \"gender\": 2, \"id\": 947, \"job\": \"Original Music Composer\", \"name\": \"Hans Zimmer\"}, {\"credit_id\": \"52fe4232c3a36847f800b555\", \"department\": \"Production\", \"gender\": 2, \"id\": 2444, \"job\": \"Executive Producer\", \"name\": \"Mike Stenson\"}, {\"credit_id\": \"52fe4232c3a36847f800b561\", \"department\": \"Production\", \"gender\": 2, \"id\": 2445, \"job\": \"Producer\", \"name\": \"Eric McLeod\"}, {\"credit_id\": \"52fe4232c3a36847f800b55b\", \"department\": \"Production\", \"gender\": 2, \"id\": 2446, \"job\": \"Producer\", \"name\": \"Chad Oman\"}, {\"credit_id\": \"52fe4232c3a36847f800b567\", \"department\": \"Production\", \"gender\": 0, \"id\": 2447, \"job\": \"Producer\", \"name\": \"Peter Kohn\"}, {\"credit_id\": \"52fe4232c3a36847f800b56d\", \"department\": \"Production\", \"gender\": 0, \"id\": 2448, \"job\": \"Producer\", \"name\": \"Pat Sandston\"}, {\"credit_id\": \"52fe4232c3a36847f800b58b\", \"department\": \"Production\", \"gender\": 1, \"id\": 2215, \"job\": \"Casting\", \"name\": \"Denise Chamian\"}, {\"credit_id\": \"52fe4232c3a36847f800b597\", \"department\": \"Art\", \"gender\": 2, \"id\": 1226, \"job\": \"Production Design\", \"name\": \"Rick Heinrichs\"}, {\"credit_id\": \"52fe4232c3a36847f800b59d\", \"department\": \"Art\", \"gender\": 2, \"id\": 553, \"job\": \"Art Direction\", \"name\": \"John Dexter\"}, {\"credit_id\": \"52fe4232c3a36847f800b591\", \"department\": \"Production\", \"gender\": 1, \"id\": 3311, \"job\": \"Casting\", \"name\": \"Priscilla John\"}, {\"credit_id\": \"52fe4232c3a36847f800b5a3\", \"department\": \"Art\", \"gender\": 1, \"id\": 4032, \"job\": \"Set Decoration\", \"name\": \"Cheryl Carasik\"}, {\"credit_id\": \"52fe4232c3a36847f800b5a9\", \"department\": \"Costume & Make-Up\", \"gender\": 0, \"id\": 4033, \"job\": \"Costume Design\", \"name\": \"Liz Dann\"}, {\"credit_id\": \"52fe4232c3a36847f800b5af\", \"department\": \"Costume & Make-Up\", \"gender\": 1, \"id\": 4034, \"job\": \"Costume Design\", \"name\": \"Penny Rose\"}, {\"credit_id\": \"56427ce8c3a3686a53000d8b\", \"department\": \"Sound\", \"gender\": 2, \"id\": 5132, \"job\": \"Music Supervisor\", \"name\": \"Bob Badami\"}, {\"credit_id\": \"55993c15c3a36855db002f33\", \"department\": \"Art\", \"gender\": 2, \"id\": 146439, \"job\": \"Conceptual Design\", \"name\": \"James Ward Byrkit\"}, {\"credit_id\": \"52fe4232c3a36847f800b5b9\", \"department\": \"Costume & Make-Up\", \"gender\": 1, \"id\": 406204, \"job\": \"Makeup Department Head\", \"name\": \"Ve Neill\"}, {\"credit_id\": \"56e47f7892514132690017bd\", \"department\": \"Crew\", \"gender\": 2, \"id\": 1259516, \"job\": \"Stunts\", \"name\": \"John Dixon\"}, {\"credit_id\": \"5740be639251416597000849\", \"department\": \"Crew\", \"gender\": 0, \"id\": 1336716, \"job\": \"CGI Supervisor\", \"name\": \"Dottie Starling\"}, {\"credit_id\": \"56427c639251412fc8000dc1\", \"department\": \"Directing\", \"gender\": 1, \"id\": 1344278, \"job\": \"Script Supervisor\", \"name\": \"Pamela Alch\"}, {\"credit_id\": \"57083101c3a3681d320004e6\", \"department\": \"Crew\", \"gender\": 0, \"id\": 1368867, \"job\": \"Special Effects Coordinator\", \"name\": \"Allen Hall\"}, {\"credit_id\": \"56427d5ec3a3686a62000d4a\", \"department\": \"Sound\", \"gender\": 0, \"id\": 1368884, \"job\": \"Music Editor\", \"name\": \"Melissa Muik\"}, {\"credit_id\": \"56427c7b9251412fd4000e07\", \"department\": \"Directing\", \"gender\": 1, \"id\": 1395290, \"job\": \"Script Supervisor\", \"name\": \"Sharron Reynolds\"}, {\"credit_id\": \"56427d2bc3a3686a53000d9b\", \"department\": \"Sound\", \"gender\": 0, \"id\": 1399327, \"job\": \"Music Editor\", \"name\": \"Barbara McDermott\"}, {\"credit_id\": \"56427cb4c3a3686a53000d87\", \"department\": \"Directing\", \"gender\": 1, \"id\": 1400738, \"job\": \"Script Supervisor\", \"name\": \"Karen Golden\"}, {\"credit_id\": \"56427d169251412fd4000e23\", \"department\": \"Sound\", \"gender\": 0, \"id\": 1534197, \"job\": \"Music Editor\", \"name\": \"Katie Greathouse\"}]',\n",
       "       '[{\"credit_id\": \"54805967c3a36829b5002c41\", \"department\": \"Sound\", \"gender\": 2, \"id\": 153, \"job\": \"Original Music Composer\", \"name\": \"Thomas Newman\"}, {\"credit_id\": \"52fe4d22c3a368484e1d8d77\", \"department\": \"Directing\", \"gender\": 2, \"id\": 39, \"job\": \"Director\", \"name\": \"Sam Mendes\"}, {\"credit_id\": \"5677cd99925141691a005333\", \"department\": \"Art\", \"gender\": 1, \"id\": 8384, \"job\": \"Set Decoration\", \"name\": \"Anna Pinnock\"}, {\"credit_id\": \"52fe4d22c3a368484e1d8d8d\", \"department\": \"Writing\", \"gender\": 2, \"id\": 932, \"job\": \"Screenplay\", \"name\": \"John Logan\"}, {\"credit_id\": \"562fc9bb92514129fe0006b4\", \"department\": \"Writing\", \"gender\": 2, \"id\": 932, \"job\": \"Story\", \"name\": \"John Logan\"}, {\"credit_id\": \"5654d41c92514145c3000373\", \"department\": \"Art\", \"gender\": 2, \"id\": 4248, \"job\": \"Production Design\", \"name\": \"Dennis Gassner\"}, {\"credit_id\": \"52fe4d22c3a368484e1d8d71\", \"department\": \"Writing\", \"gender\": 2, \"id\": 9856, \"job\": \"Characters\", \"name\": \"Ian Fleming\"}, {\"credit_id\": \"54805989c3a36829ae0022d8\", \"department\": \"Editing\", \"gender\": 0, \"id\": 3904, \"job\": \"Editor\", \"name\": \"Lee Smith\"}, {\"credit_id\": \"5677df82c3a3681683008748\", \"department\": \"Sound\", \"gender\": 2, \"id\": 7538, \"job\": \"Music Editor\", \"name\": \"Bill Bernstein\"}, {\"credit_id\": \"5720e370c3a368117e00045b\", \"department\": \"Production\", \"gender\": 2, \"id\": 8784, \"job\": \"Co-Producer\", \"name\": \"Daniel Craig\"}, {\"credit_id\": \"5522fdd09251416d4a0024b6\", \"department\": \"Costume & Make-Up\", \"gender\": 1, \"id\": 11227, \"job\": \"Costume Design\", \"name\": \"Jany Temime\"}, {\"credit_id\": \"5677cc9ac3a368167c0089b5\", \"department\": \"Production\", \"gender\": 1, \"id\": 10496, \"job\": \"Casting\", \"name\": \"Debbie McWilliams\"}, {\"credit_id\": \"52fe4d22c3a368484e1d8d7d\", \"department\": \"Production\", \"gender\": 1, \"id\": 10666, \"job\": \"Producer\", \"name\": \"Barbara Broccoli\"}, {\"credit_id\": \"5720e3afc3a368117e00046a\", \"department\": \"Production\", \"gender\": 0, \"id\": 11268, \"job\": \"Line Producer\", \"name\": \"Roberto Malerba\"}, {\"credit_id\": \"5677df58c3a368167c008c82\", \"department\": \"Sound\", \"gender\": 0, \"id\": 40827, \"job\": \"Music Editor\", \"name\": \"Peter Clarke\"}, {\"credit_id\": \"5677dd1ec3a36816890085d3\", \"department\": \"Sound\", \"gender\": 0, \"id\": 14764, \"job\": \"Sound Designer\", \"name\": \"Christopher Assells\"}, {\"credit_id\": \"566046b9c3a36875f400323a\", \"department\": \"Sound\", \"gender\": 0, \"id\": 14765, \"job\": \"Supervising Sound Editor\", \"name\": \"Per Hallberg\"}, {\"credit_id\": \"5677ccab925141691a00530f\", \"department\": \"Production\", \"gender\": 0, \"id\": 36108, \"job\": \"Casting\", \"name\": \"Nicole Schmied\"}, {\"credit_id\": \"5677cfe4c3a36816850087d2\", \"department\": \"Production\", \"gender\": 0, \"id\": 36108, \"job\": \"Casting Associate\", \"name\": \"Nicole Schmied\"}, {\"credit_id\": \"562fc984c3a3681b5400e16f\", \"department\": \"Writing\", \"gender\": 2, \"id\": 10783, \"job\": \"Screenplay\", \"name\": \"Robert Wade\"}, {\"credit_id\": \"562fc9cec3a3681b4b00d168\", \"department\": \"Writing\", \"gender\": 2, \"id\": 10783, \"job\": \"Story\", \"name\": \"Robert Wade\"}, {\"credit_id\": \"562fc976c3a3681b5c00dd64\", \"department\": \"Writing\", \"gender\": 0, \"id\": 10782, \"job\": \"Screenplay\", \"name\": \"Neal Purvis\"}, {\"credit_id\": \"562fc9d79251414ad800c103\", \"department\": \"Writing\", \"gender\": 0, \"id\": 10782, \"job\": \"Story\", \"name\": \"Neal Purvis\"}, {\"credit_id\": \"5720e61d9251414235000477\", \"department\": \"Production\", \"gender\": 2, \"id\": 10876, \"job\": \"Executive Producer\", \"name\": \"Callum McDougall\"}, {\"credit_id\": \"562fc9a89251414ad800c0fe\", \"department\": \"Writing\", \"gender\": 2, \"id\": 21339, \"job\": \"Screenplay\", \"name\": \"Jez Butterworth\"}, {\"credit_id\": \"570bd7f2c3a36802a9000412\", \"department\": \"Art\", \"gender\": 0, \"id\": 23425, \"job\": \"Supervising Art Director\", \"name\": \"Chris Lowe\"}, {\"credit_id\": \"5677e45ac3a368168b0084fd\", \"department\": \"Art\", \"gender\": 0, \"id\": 23491, \"job\": \"Assistant Art Director\", \"name\": \"Roxana Alexandru \"}, {\"credit_id\": \"5677e29c925141691a00561c\", \"department\": \"Crew\", \"gender\": 0, \"id\": 23774, \"job\": \"Makeup Effects\", \"name\": \"Jo Grover\"}, {\"credit_id\": \"5677cf8492514179d20088ae\", \"department\": \"Production\", \"gender\": 2, \"id\": 10907, \"job\": \"Casting\", \"name\": \"St\\\\u00e9phane Foenkinos\"}, {\"credit_id\": \"5677d7b192514179d20089c6\", \"department\": \"Camera\", \"gender\": 2, \"id\": 61851, \"job\": \"Camera Operator\", \"name\": \"Lorenzo Senatore\"}, {\"credit_id\": \"5720e6f7925141423000046b\", \"department\": \"Production\", \"gender\": 0, \"id\": 64000, \"job\": \"Line Producer\", \"name\": \"Wolfgang Ramml\"}, {\"credit_id\": \"5677dfabc3a368168000899f\", \"department\": \"Sound\", \"gender\": 2, \"id\": 66941, \"job\": \"Orchestrator\", \"name\": \"J.A.C. Redford\"}, {\"credit_id\": \"5720e72e92514142320007fc\", \"department\": \"Production\", \"gender\": 0, \"id\": 81517, \"job\": \"Associate Producer\", \"name\": \"Gregg Wilson\"}, {\"credit_id\": \"52fe4d22c3a368484e1d8d83\", \"department\": \"Production\", \"gender\": 2, \"id\": 69678, \"job\": \"Producer\", \"name\": \"Michael G. Wilson\"}, {\"credit_id\": \"5720e325c3a368118100043e\", \"department\": \"Production\", \"gender\": 0, \"id\": 77511, \"job\": \"Line Producer\", \"name\": \"Zakaria Alaoui\"}, {\"credit_id\": \"548059799251416e7e00265c\", \"department\": \"Camera\", \"gender\": 0, \"id\": 74401, \"job\": \"Director of Photography\", \"name\": \"Hoyte van Hoytema\"}, {\"credit_id\": \"5677cef792514179db00904d\", \"department\": \"Crew\", \"gender\": 0, \"id\": 239885, \"job\": \"Special Effects Coordinator\", \"name\": \"Franco Ragusa\"}, {\"credit_id\": \"5677d7e992514179e7008654\", \"department\": \"Camera\", \"gender\": 0, \"id\": 937946, \"job\": \"Camera Operator\", \"name\": \"Peter Field\"}, {\"credit_id\": \"5677cd21c3a3681680008700\", \"department\": \"Art\", \"gender\": 2, \"id\": 979698, \"job\": \"Art Direction\", \"name\": \"Neal Callow\"}, {\"credit_id\": \"5677cd5a92514179e30086fb\", \"department\": \"Art\", \"gender\": 2, \"id\": 986687, \"job\": \"Art Direction\", \"name\": \"Mark Harris\"}, {\"credit_id\": \"5678090392514179e1009958\", \"department\": \"Crew\", \"gender\": 0, \"id\": 1024842, \"job\": \"Visual Effects Editor\", \"name\": \"Billy A. Campbell\"}, {\"credit_id\": \"5720e6749251414240000470\", \"department\": \"Production\", \"gender\": 0, \"id\": 1026247, \"job\": \"Co-Producer\", \"name\": \"Stacy Perskie\"}, {\"credit_id\": \"56780a2292514179dd008d18\", \"department\": \"Visual Effects\", \"gender\": 0, \"id\": 1029804, \"job\": \"Visual Effects Producer\", \"name\": \"Laura Schultz\"}, {\"credit_id\": \"5677e174925141691a0055f1\", \"department\": \"Costume & Make-Up\", \"gender\": 0, \"id\": 1087452, \"job\": \"Key Hair Stylist\", \"name\": \"Mari Paz Robles\"}, {\"credit_id\": \"5677e0cf9251417845001631\", \"department\": \"Costume & Make-Up\", \"gender\": 0, \"id\": 1099281, \"job\": \"Hairstylist\", \"name\": \"Gerardo Perez Arreola\"}, {\"credit_id\": \"5677d73b92514179dd008471\", \"department\": \"Camera\", \"gender\": 0, \"id\": 1118711, \"job\": \"Camera Operator\", \"name\": \"Kenji Katori\"}, {\"credit_id\": \"5677cd3a92514179d2008852\", \"department\": \"Art\", \"gender\": 0, \"id\": 1296445, \"job\": \"Art Direction\", \"name\": \"Ben Collins\"}, {\"credit_id\": \"5677cfc3c3a3681680008755\", \"department\": \"Production\", \"gender\": 0, \"id\": 1305251, \"job\": \"Casting Associate\", \"name\": \"Tusse Lande\"}, {\"credit_id\": \"5677e24f92514179e70087da\", \"department\": \"Costume & Make-Up\", \"gender\": 0, \"id\": 1315700, \"job\": \"Makeup Artist\", \"name\": \"Donald Mowat\"}, {\"credit_id\": \"5677d622c3a368167c008b25\", \"department\": \"Costume & Make-Up\", \"gender\": 0, \"id\": 1319160, \"job\": \"Costume Supervisor\", \"name\": \"Ken Crouch\"}, {\"credit_id\": \"5677cd0ec3a368168e008f75\", \"department\": \"Art\", \"gender\": 0, \"id\": 1335539, \"job\": \"Art Direction\", \"name\": \"Andrew Bennett\"}, {\"credit_id\": \"56780833925141691a005c2f\", \"department\": \"Visual Effects\", \"gender\": 0, \"id\": 1338241, \"job\": \"Visual Effects Coordinator\", \"name\": \"Sean McGrath\"}, {\"credit_id\": \"5677dcc7c3a36816830086cc\", \"department\": \"Sound\", \"gender\": 0, \"id\": 1338372, \"job\": \"Foley\", \"name\": \"Dan O\\'Connell\"}, {\"credit_id\": \"56780ac692514179dd008d31\", \"department\": \"Visual Effects\", \"gender\": 0, \"id\": 1341741, \"job\": \"Visual Effects Supervisor\", \"name\": \"Mark Curtis\"}, {\"credit_id\": \"5677dd9fc3a368168b0083f0\", \"department\": \"Sound\", \"gender\": 2, \"id\": 1341858, \"job\": \"Sound Re-Recording Mixer\", \"name\": \"Gregg Rudloff\"}, {\"credit_id\": \"566047029251412204002337\", \"department\": \"Directing\", \"gender\": 0, \"id\": 1342669, \"job\": \"Script Supervisor\", \"name\": \"Jayne-Ann Tenggren\"}, {\"credit_id\": \"5720e713925141423000046d\", \"department\": \"Production\", \"gender\": 0, \"id\": 1342669, \"job\": \"Associate Producer\", \"name\": \"Jayne-Ann Tenggren\"}, {\"credit_id\": \"5677dd8792514179db009235\", \"department\": \"Sound\", \"gender\": 0, \"id\": 1345595, \"job\": \"Sound Re-Recording Mixer\", \"name\": \"Scott Millan\"}, {\"credit_id\": \"5677def192514179e700875b\", \"department\": \"Directing\", \"gender\": 0, \"id\": 1358025, \"job\": \"Script Supervisor\", \"name\": \"Nicoletta Mani\"}, {\"credit_id\": \"5677dcb0925141691a00552a\", \"department\": \"Sound\", \"gender\": 0, \"id\": 1367493, \"job\": \"Foley\", \"name\": \"John T. Cucci\"}, {\"credit_id\": \"5677d7ff92514179e300884b\", \"department\": \"Camera\", \"gender\": 0, \"id\": 1377503, \"job\": \"Camera Operator\", \"name\": \"Sebastian Meuschel\"}, {\"credit_id\": \"5677d94192514179d20089ff\", \"department\": \"Camera\", \"gender\": 2, \"id\": 1388897, \"job\": \"Steadicam Operator\", \"name\": \"Julian Morson\"}, {\"credit_id\": \"5677dce5c3a36816830086d3\", \"department\": \"Sound\", \"gender\": 0, \"id\": 1389614, \"job\": \"Foley\", \"name\": \"Peter Michael Sullivan\"}, {\"credit_id\": \"56780a5a92514179e300908d\", \"department\": \"Visual Effects\", \"gender\": 0, \"id\": 1391691, \"job\": \"Visual Effects Producer\", \"name\": \"Ken Dailey\"}, {\"credit_id\": \"5677dd38c3a368167c008c21\", \"department\": \"Sound\", \"gender\": 0, \"id\": 1392083, \"job\": \"Sound Designer\", \"name\": \"Ann Scibelli\"}, {\"credit_id\": \"5677d7cd92514179db009178\", \"department\": \"Camera\", \"gender\": 0, \"id\": 1392246, \"job\": \"Camera Operator\", \"name\": \"Clive Jackson\"}, {\"credit_id\": \"5677de6192514179dd008566\", \"department\": \"Directing\", \"gender\": 0, \"id\": 1392661, \"job\": \"Script Supervisor\", \"name\": \"Susie Jones\"}, {\"credit_id\": \"5677d98fc3a3681685008904\", \"department\": \"Camera\", \"gender\": 2, \"id\": 1392718, \"job\": \"Still Photographer\", \"name\": \"Jasin Boland\"}, {\"credit_id\": \"5677cdd8c3a368168b0081e1\", \"department\": \"Art\", \"gender\": 0, \"id\": 1394117, \"job\": \"Art Department Coordinator\", \"name\": \"Jennifer Lewicki\"}, {\"credit_id\": \"5677e58cc3a3681685008adb\", \"department\": \"Art\", \"gender\": 0, \"id\": 1398089, \"job\": \"Greensman\", \"name\": \"Ian Whiteford\"}, {\"credit_id\": \"56780a7592514179db0099c4\", \"department\": \"Visual Effects\", \"gender\": 0, \"id\": 1398100, \"job\": \"Visual Effects Producer\", \"name\": \"Kilou Picard\"}, {\"credit_id\": \"5677d8ba92514179d20089f0\", \"department\": \"Camera\", \"gender\": 0, \"id\": 1399071, \"job\": \"Helicopter Camera\", \"name\": \"Hans Bjerno\"}, {\"credit_id\": \"5677dd02c3a368167a0091a2\", \"department\": \"Editing\", \"gender\": 2, \"id\": 1399862, \"job\": \"Dialogue Editor\", \"name\": \"Daniel Saxlid\"}, {\"credit_id\": \"5677e2e1c3a368167c008d1a\", \"department\": \"Costume & Make-Up\", \"gender\": 0, \"id\": 1401126, \"job\": \"Wigmaker\", \"name\": \"Alex Rouse\"}, {\"credit_id\": \"5678096bc3a368167c0093d2\", \"department\": \"Crew\", \"gender\": 0, \"id\": 1401147, \"job\": \"Visual Effects Editor\", \"name\": \"Anik Seguin\"}, {\"credit_id\": \"5677dc90c3a368167a009190\", \"department\": \"Sound\", \"gender\": 0, \"id\": 1401631, \"job\": \"ADR & Dubbing\", \"name\": \"Michelle Pazer\"}, {\"credit_id\": \"5677d75ac3a368167a0090e9\", \"department\": \"Camera\", \"gender\": 2, \"id\": 1403411, \"job\": \"Camera Operator\", \"name\": \"Lucas Bielan\"}, {\"credit_id\": \"566046d7c3a36875e900359d\", \"department\": \"Sound\", \"gender\": 0, \"id\": 1404212, \"job\": \"Supervising Sound Editor\", \"name\": \"Karen Baker Landers\"}, {\"credit_id\": \"5677dd519251417845001588\", \"department\": \"Sound\", \"gender\": 0, \"id\": 1404217, \"job\": \"Sound Designer\", \"name\": \"Peter Staubli\"}, {\"credit_id\": \"5677d8d192514179e1009100\", \"department\": \"Camera\", \"gender\": 0, \"id\": 1404244, \"job\": \"Helicopter Camera\", \"name\": \"John Marzano\"}, {\"credit_id\": \"5677d927c3a36816850088f2\", \"department\": \"Camera\", \"gender\": 0, \"id\": 1405241, \"job\": \"Helicopter Camera\", \"name\": \"Adam Dale\"}, {\"credit_id\": \"5677dff292514179e100921a\", \"department\": \"Editing\", \"gender\": 0, \"id\": 1408363, \"job\": \"First Assistant Editor\", \"name\": \"Emma McCleave\"}, {\"credit_id\": \"5677e191925141784500164f\", \"department\": \"Costume & Make-Up\", \"gender\": 0, \"id\": 1409821, \"job\": \"Makeup Designer\", \"name\": \"Naomi Donne\"}, {\"credit_id\": \"5677e2b5c3a368168e0092aa\", \"department\": \"Crew\", \"gender\": 0, \"id\": 1411323, \"job\": \"Makeup Effects\", \"name\": \"Susan Howard\"}, {\"credit_id\": \"5677d869c3a36816850088e3\", \"department\": \"Lighting\", \"gender\": 0, \"id\": 1414096, \"job\": \"Gaffer\", \"name\": \"David Smith\"}, {\"credit_id\": \"56780712c3a368168b008ace\", \"department\": \"Crew\", \"gender\": 0, \"id\": 1415157, \"job\": \"CG Supervisor\", \"name\": \"Joel Green\"}, {\"credit_id\": \"567806ba92514179e10098ee\", \"department\": \"Crew\", \"gender\": 0, \"id\": 1425484, \"job\": \"CG Supervisor\", \"name\": \"Laurent Hugueniot\"}, {\"credit_id\": \"56780a92c3a36816850090af\", \"department\": \"Visual Effects\", \"gender\": 0, \"id\": 1425488, \"job\": \"Visual Effects Producer\", \"name\": \"Tim Keene\"}, {\"credit_id\": \"5677e087c3a368167a00922b\", \"department\": \"Costume & Make-Up\", \"gender\": 0, \"id\": 1425971, \"job\": \"Hair Designer\", \"name\": \"Zoe Tahir\"}, {\"credit_id\": \"567808eb92514179e300904a\", \"department\": \"Crew\", \"gender\": 0, \"id\": 1428902, \"job\": \"Visual Effects Editor\", \"name\": \"Conor Byrne\"}, {\"credit_id\": \"5677e22d925141691a00560d\", \"department\": \"Costume & Make-Up\", \"gender\": 0, \"id\": 1439128, \"job\": \"Makeup Artist\", \"name\": \"Charlotte Hayward\"}, {\"credit_id\": \"5677cf3fc3a36816850087c1\", \"department\": \"Visual Effects\", \"gender\": 0, \"id\": 1442137, \"job\": \"Animation Supervisor\", \"name\": \"Catherine Mullan\"}, {\"credit_id\": \"56780988c3a3681683008e99\", \"department\": \"Crew\", \"gender\": 0, \"id\": 1447617, \"job\": \"Visual Effects Editor\", \"name\": \"Crystal Hadcroft\"}, {\"credit_id\": \"5677e0ec925141691a0055d6\", \"department\": \"Costume & Make-Up\", \"gender\": 0, \"id\": 1458416, \"job\": \"Hairstylist\", \"name\": \"Francesca Crowder\"}, {\"credit_id\": \"5677cf2892514179dd008356\", \"department\": \"Visual Effects\", \"gender\": 0, \"id\": 1459878, \"job\": \"Animation Director\", \"name\": \"Marlene Chazot\"}, {\"credit_id\": \"5678091d92514179db009985\", \"department\": \"Crew\", \"gender\": 0, \"id\": 1459899, \"job\": \"Visual Effects Editor\", \"name\": \"Struan Farquhar\"}, {\"credit_id\": \"56780731c3a3681680009013\", \"department\": \"Crew\", \"gender\": 0, \"id\": 1459925, \"job\": \"CG Supervisor\", \"name\": \"Daniel Pastore\"}, {\"credit_id\": \"5677d969c3a368168b00834a\", \"department\": \"Camera\", \"gender\": 0, \"id\": 1470167, \"job\": \"Still Photographer\", \"name\": \"Jonathan Olley\"}, {\"credit_id\": \"5677e48dc3a368167a0092c8\", \"department\": \"Art\", \"gender\": 0, \"id\": 1472773, \"job\": \"Assistant Art Director\", \"name\": \"Sami Gaidi\"}, {\"credit_id\": \"5751eed59251416b60000637\", \"department\": \"Production\", \"gender\": 2, \"id\": 1477203, \"job\": \"Co-Producer\", \"name\": \"Luca Marco Paracels\"}, {\"credit_id\": \"5677e157c3a36816800089ee\", \"department\": \"Costume & Make-Up\", \"gender\": 0, \"id\": 1480629, \"job\": \"Key Hair Stylist\", \"name\": \"Luca Vannella\"}, {\"credit_id\": \"56780b0e925141691a005c8f\", \"department\": \"Visual Effects\", \"gender\": 0, \"id\": 1483141, \"job\": \"Visual Effects Supervisor\", \"name\": \"Stuart Bullen\"}, {\"credit_id\": \"582f29fa925141022e003a74\", \"department\": \"Sound\", \"gender\": 0, \"id\": 1494824, \"job\": \"Sound Effects Editor\", \"name\": \"Russell Edwards\"}, {\"credit_id\": \"5677d63dc3a368167a0090b4\", \"department\": \"Costume & Make-Up\", \"gender\": 0, \"id\": 1510431, \"job\": \"Costume Supervisor\", \"name\": \"Stefano De Nardis\"}, {\"credit_id\": \"5677d79992514179d20089c2\", \"department\": \"Camera\", \"gender\": 0, \"id\": 1512767, \"job\": \"Camera Operator\", \"name\": \"Luis David Sansans\"}, {\"credit_id\": \"5677d609c3a368168000881a\", \"department\": \"Costume & Make-Up\", \"gender\": 0, \"id\": 1545912, \"job\": \"Costume Supervisor\", \"name\": \"Abderrahim Benkhayi\"}, {\"credit_id\": \"5677d66cc3a368167a0090be\", \"department\": \"Costume & Make-Up\", \"gender\": 0, \"id\": 1545913, \"job\": \"Set Costumer\", \"name\": \"Rachid Aadassi\"}, {\"credit_id\": \"5677da26c3a368167a009139\", \"department\": \"Camera\", \"gender\": 0, \"id\": 1545995, \"job\": \"Additional Camera\", \"name\": \"Carlos De Carvalho\"}, {\"credit_id\": \"5677d5bec3a368167c008b13\", \"department\": \"Costume & Make-Up\", \"gender\": 0, \"id\": 1546747, \"job\": \"Assistant Costume Designer\", \"name\": \"Vivienne Jones\"}, {\"credit_id\": \"5677dfcac3a368168300875b\", \"department\": \"Editing\", \"gender\": 0, \"id\": 1548406, \"job\": \"Digital Intermediate\", \"name\": \"Kim Honeyman\"}, {\"credit_id\": \"5677e105c3a368168b00846d\", \"department\": \"Costume & Make-Up\", \"gender\": 0, \"id\": 1550637, \"job\": \"Hairstylist\", \"name\": \"Kathryn Fa\"}, {\"credit_id\": \"5677ce0c9251417845001384\", \"department\": \"Crew\", \"gender\": 0, \"id\": 1551770, \"job\": \"Carpenter\", \"name\": \"Paul Duff\"}, {\"credit_id\": \"5677ce5192514179e300871b\", \"department\": \"Crew\", \"gender\": 0, \"id\": 1551771, \"job\": \"Property Master\", \"name\": \"Ben Wilkinson\"}, {\"credit_id\": \"5677cec292514179dd00834d\", \"department\": \"Crew\", \"gender\": 0, \"id\": 1551772, \"job\": \"Special Effects Coordinator\", \"name\": \"Lynne Corbould\"}, {\"credit_id\": \"5677cf57c3a368168e008fcc\", \"department\": \"Production\", \"gender\": 0, \"id\": 1551773, \"job\": \"Casting\", \"name\": \"Amal El-Farfachi\"}, {\"credit_id\": \"5677cf99c3a368168b00821d\", \"department\": \"Production\", \"gender\": 0, \"id\": 1551774, \"job\": \"Casting Associate\", \"name\": \"Celebrity Booker\"}, {\"credit_id\": \"5677cfadc3a368167c008a30\", \"department\": \"Production\", \"gender\": 0, \"id\": 1551775, \"job\": \"Casting Associate\", \"name\": \"Lucy Hellier\"}, {\"credit_id\": \"5677d5a392514179db00911d\", \"department\": \"Costume & Make-Up\", \"gender\": 0, \"id\": 1551777, \"job\": \"Assistant Costume Designer\", \"name\": \"Richard Davies\"}, {\"credit_id\": \"5677dd6bc3a368168b0083e2\", \"department\": \"Sound\", \"gender\": 0, \"id\": 1551789, \"job\": \"Sound Effects Editor\", \"name\": \"Ando Johnson\"}, {\"credit_id\": \"5677de2dc3a3681683008713\", \"department\": \"Crew\", \"gender\": 0, \"id\": 1551791, \"job\": \"Armorer\", \"name\": \"Greg Corke\"}, {\"credit_id\": \"5677de8a92514179e10091d9\", \"department\": \"Production\", \"gender\": 0, \"id\": 1551796, \"job\": \"Researcher\", \"name\": \"Amin Rharda\"}, {\"credit_id\": \"5677dea9c3a368168e00921c\", \"department\": \"Crew\", \"gender\": 0, \"id\": 1551797, \"job\": \"Armorer\", \"name\": \"Joss Skottowe\"}, {\"credit_id\": \"5677e11c92514179dd0085e3\", \"department\": \"Costume & Make-Up\", \"gender\": 0, \"id\": 1551798, \"job\": \"Hairstylist\", \"name\": \"Joseph Koniak\"}, {\"credit_id\": \"5677e1b19251417845001657\", \"department\": \"Costume & Make-Up\", \"gender\": 0, \"id\": 1551800, \"job\": \"Makeup Artist\", \"name\": \"Thal\\\\u00eda Echeveste\"}, {\"credit_id\": \"5677e1c7c3a368167c008cd8\", \"department\": \"Costume & Make-Up\", \"gender\": 0, \"id\": 1551801, \"job\": \"Makeup Artist\", \"name\": \"Charlie Hounslow\"}, {\"credit_id\": \"5677e1e592514179d2008b7b\", \"department\": \"Costume & Make-Up\", \"gender\": 0, \"id\": 1551802, \"job\": \"Makeup Artist\", \"name\": \"Lucy Friend\"}, {\"credit_id\": \"5677e1fa92514179e1009265\", \"department\": \"Costume & Make-Up\", \"gender\": 0, \"id\": 1551803, \"job\": \"Makeup Artist\", \"name\": \"Yelska Labrada\"}, {\"credit_id\": \"5677e20fc3a36816830087d9\", \"department\": \"Costume & Make-Up\", \"gender\": 0, \"id\": 1551804, \"job\": \"Makeup Artist\", \"name\": \"Ana Gabriela Quinonez\"}, {\"credit_id\": \"5677e32d9251417845001683\", \"department\": \"Production\", \"gender\": 0, \"id\": 1551807, \"job\": \"Researcher\", \"name\": \"Gina De Ferrer\"}, {\"credit_id\": \"5677e47592514179e10092dd\", \"department\": \"Art\", \"gender\": 0, \"id\": 1551809, \"job\": \"Assistant Art Director\", \"name\": \"Lydia Fry\"}, {\"credit_id\": \"5677e4a492514179db009373\", \"department\": \"Art\", \"gender\": 0, \"id\": 1551810, \"job\": \"Assistant Art Director\", \"name\": \"Liam Georgensen\"}, {\"credit_id\": \"5677e4bb92514179dd00868a\", \"department\": \"Art\", \"gender\": 0, \"id\": 1551811, \"job\": \"Assistant Art Director\", \"name\": \"Hugh McClelland\"}, {\"credit_id\": \"5677e53092514179db00938e\", \"department\": \"Crew\", \"gender\": 0, \"id\": 1551812, \"job\": \"Carpenter\", \"name\": \"John Allen\"}, {\"credit_id\": \"5677e547c3a368167a0092ef\", \"department\": \"Crew\", \"gender\": 0, \"id\": 1551813, \"job\": \"Carpenter\", \"name\": \"Eddie Murphy\"}, {\"credit_id\": \"567806e092514179dd008c84\", \"department\": \"Crew\", \"gender\": 0, \"id\": 1551872, \"job\": \"CG Supervisor\", \"name\": \"Carlos-Christian Nickel\"}, {\"credit_id\": \"567806f7c3a368167a0098d7\", \"department\": \"Crew\", \"gender\": 0, \"id\": 1551874, \"job\": \"CG Supervisor\", \"name\": \"Chris Petts\"}, {\"credit_id\": \"567807b7c3a368167a0098f0\", \"department\": \"Visual Effects\", \"gender\": 0, \"id\": 1551892, \"job\": \"Visual Effects Coordinator\", \"name\": \"Hugh Brompton\"}, {\"credit_id\": \"567807d1c3a3681680009022\", \"department\": \"Visual Effects\", \"gender\": 0, \"id\": 1551893, \"job\": \"Visual Effects Coordinator\", \"name\": \"Jillian Brooks\"}, {\"credit_id\": \"567807eb92514179db00995e\", \"department\": \"Visual Effects\", \"gender\": 0, \"id\": 1551894, \"job\": \"Visual Effects Coordinator\", \"name\": \"Geraint Hixson\"}, {\"credit_id\": \"5678084f92514179d2009226\", \"department\": \"Visual Effects\", \"gender\": 0, \"id\": 1551896, \"job\": \"Visual Effects Coordinator\", \"name\": \"Shawn Smolensky\"}, {\"credit_id\": \"5678086992514179db00996d\", \"department\": \"Visual Effects\", \"gender\": 0, \"id\": 1551897, \"job\": \"Visual Effects Coordinator\", \"name\": \"Todd Whalen\"}, {\"credit_id\": \"56780884c3a3681689008d28\", \"department\": \"Visual Effects\", \"gender\": 0, \"id\": 1551898, \"job\": \"Visual Effects Coordinator\", \"name\": \"Alysia Wildman\"}, {\"credit_id\": \"567808a0c3a368167c0093a1\", \"department\": \"Visual Effects\", \"gender\": 0, \"id\": 1551899, \"job\": \"Visual Effects Coordinator\", \"name\": \"Sam Girdler\"}, {\"credit_id\": \"567808cdc3a3681685009073\", \"department\": \"Visual Effects\", \"gender\": 0, \"id\": 1551902, \"job\": \"Visual Effects Coordinator\", \"name\": \"Samantha Dark\"}, {\"credit_id\": \"567809519251417845001d1a\", \"department\": \"Crew\", \"gender\": 0, \"id\": 1551904, \"job\": \"Visual Effects Editor\", \"name\": \"Ty Gibson\"}, {\"credit_id\": \"567809bfc3a368167c0093e7\", \"department\": \"Crew\", \"gender\": 0, \"id\": 1551906, \"job\": \"Visual Effects Editor\", \"name\": \"James Mann\"}, {\"credit_id\": \"567809e392514179dd008d0c\", \"department\": \"Visual Effects\", \"gender\": 0, \"id\": 1551907, \"job\": \"Visual Effects Producer\", \"name\": \"Leslie Lerman\"}, {\"credit_id\": \"56780aef92514179d2009276\", \"department\": \"Visual Effects\", \"gender\": 0, \"id\": 1551908, \"job\": \"Visual Effects Supervisor\", \"name\": \"Steven Begg\"}, {\"credit_id\": \"56780b249251417845001d4a\", \"department\": \"Visual Effects\", \"gender\": 0, \"id\": 1551909, \"job\": \"Visual Effects Supervisor\", \"name\": \"Zave Jackson\"}, {\"credit_id\": \"56780b4e9251417845001d57\", \"department\": \"Visual Effects\", \"gender\": 2, \"id\": 1551910, \"job\": \"Visual Effects Supervisor\", \"name\": \"Jonathan Knight\"}, {\"credit_id\": \"56780bb692514179d2009291\", \"department\": \"Visual Effects\", \"gender\": 0, \"id\": 1551911, \"job\": \"Visual Effects Supervisor\", \"name\": \"Alex Wuttke\"}, {\"credit_id\": \"56780c5a92514179e7008f22\", \"department\": \"Visual Effects\", \"gender\": 0, \"id\": 1551913, \"job\": \"Visual Effects Supervisor\", \"name\": \"Mark Bakowski\"}, {\"credit_id\": \"56780c8292514179e30090d1\", \"department\": \"Visual Effects\", \"gender\": 0, \"id\": 1551914, \"job\": \"Visual Effects Supervisor\", \"name\": \"Paul Round\"}, {\"credit_id\": \"56cd782ac3a368275b001cae\", \"department\": \"Lighting\", \"gender\": 0, \"id\": 1553236, \"job\": \"Gaffer\", \"name\": \"Stefano Marino\"}, {\"credit_id\": \"56cd7899c3a3682759001bfd\", \"department\": \"Lighting\", \"gender\": 0, \"id\": 1582109, \"job\": \"Gaffer\", \"name\": \"Hanz Kawson\"}]',\n",
       "       '[{\"credit_id\": \"52fe4781c3a36847f81398c3\", \"department\": \"Sound\", \"gender\": 2, \"id\": 947, \"job\": \"Original Music Composer\", \"name\": \"Hans Zimmer\"}, {\"credit_id\": \"52fe4781c3a36847f8139899\", \"department\": \"Production\", \"gender\": 0, \"id\": 282, \"job\": \"Producer\", \"name\": \"Charles Roven\"}, {\"credit_id\": \"52fe4781c3a36847f813991b\", \"department\": \"Writing\", \"gender\": 2, \"id\": 525, \"job\": \"Screenplay\", \"name\": \"Christopher Nolan\"}, {\"credit_id\": \"52fe4781c3a36847f8139865\", \"department\": \"Directing\", \"gender\": 2, \"id\": 525, \"job\": \"Director\", \"name\": \"Christopher Nolan\"}, {\"credit_id\": \"52fe4781c3a36847f8139893\", \"department\": \"Production\", \"gender\": 2, \"id\": 525, \"job\": \"Producer\", \"name\": \"Christopher Nolan\"}, {\"credit_id\": \"52fe4781c3a36847f8139915\", \"department\": \"Writing\", \"gender\": 2, \"id\": 525, \"job\": \"Story\", \"name\": \"Christopher Nolan\"}, {\"credit_id\": \"52fe4781c3a36847f813990f\", \"department\": \"Writing\", \"gender\": 2, \"id\": 527, \"job\": \"Screenplay\", \"name\": \"Jonathan Nolan\"}, {\"credit_id\": \"52fe4781c3a36847f813989f\", \"department\": \"Production\", \"gender\": 1, \"id\": 556, \"job\": \"Producer\", \"name\": \"Emma Thomas\"}, {\"credit_id\": \"52fe4781c3a36847f81398c9\", \"department\": \"Camera\", \"gender\": 2, \"id\": 559, \"job\": \"Director of Photography\", \"name\": \"Wally Pfister\"}, {\"credit_id\": \"54c37788c3a3681421011a07\", \"department\": \"Camera\", \"gender\": 2, \"id\": 559, \"job\": \"Camera Operator\", \"name\": \"Wally Pfister\"}, {\"credit_id\": \"52fe4781c3a36847f81398d5\", \"department\": \"Production\", \"gender\": 0, \"id\": 561, \"job\": \"Casting\", \"name\": \"John Papsidera\"}, {\"credit_id\": \"52fe4781c3a36847f8139921\", \"department\": \"Writing\", \"gender\": 2, \"id\": 3893, \"job\": \"Story\", \"name\": \"David S. Goyer\"}, {\"credit_id\": \"52fe4781c3a36847f81398a5\", \"department\": \"Writing\", \"gender\": 2, \"id\": 3794, \"job\": \"Characters\", \"name\": \"Bob Kane\"}, {\"credit_id\": \"52fe4781c3a36847f81398cf\", \"department\": \"Editing\", \"gender\": 0, \"id\": 3904, \"job\": \"Editor\", \"name\": \"Lee Smith\"}, {\"credit_id\": \"52fe4781c3a36847f81398bd\", \"department\": \"Production\", \"gender\": 2, \"id\": 10949, \"job\": \"Executive Producer\", \"name\": \"Michael Uslan\"}, {\"credit_id\": \"52fe4781c3a36847f81398b1\", \"department\": \"Production\", \"gender\": 2, \"id\": 10951, \"job\": \"Executive Producer\", \"name\": \"Benjamin Melniker\"}, {\"credit_id\": \"564e1be99251414af7000269\", \"department\": \"Crew\", \"gender\": 2, \"id\": 9568, \"job\": \"Stunts\", \"name\": \"Jim Palmer\"}, {\"credit_id\": \"54c224cec3a368792c00322f\", \"department\": \"Costume & Make-Up\", \"gender\": 0, \"id\": 9991, \"job\": \"Makeup Artist\", \"name\": \"Karen Blynder\"}, {\"credit_id\": \"52fe4781c3a36847f81398f9\", \"department\": \"Costume & Make-Up\", \"gender\": 1, \"id\": 10714, \"job\": \"Costume Design\", \"name\": \"Lindy Hemming\"}, {\"credit_id\": \"52fe4781c3a36847f81398f3\", \"department\": \"Art\", \"gender\": 0, \"id\": 12039, \"job\": \"Set Decoration\", \"name\": \"Paki Smith\"}, {\"credit_id\": \"52fe4781c3a36847f8139905\", \"department\": \"Art\", \"gender\": 2, \"id\": 14762, \"job\": \"Art Direction\", \"name\": \"Robert Woodruff\"}, {\"credit_id\": \"52fe4781c3a36847f81398e1\", \"department\": \"Art\", \"gender\": 2, \"id\": 15327, \"job\": \"Production Design\", \"name\": \"Nathan Crowley\"}, {\"credit_id\": \"52fe4781c3a36847f81398e7\", \"department\": \"Art\", \"gender\": 0, \"id\": 15328, \"job\": \"Production Design\", \"name\": \"Kevin Kavanaugh\"}, {\"credit_id\": \"570b91d29251415248001736\", \"department\": \"Art\", \"gender\": 0, \"id\": 17677, \"job\": \"Supervising Art Director\", \"name\": \"Naaman Marshall\"}, {\"credit_id\": \"57c4678f92514105db0046d4\", \"department\": \"Lighting\", \"gender\": 0, \"id\": 35630, \"job\": \"Electrician\", \"name\": \"Timothy Healy\"}, {\"credit_id\": \"5745d36e92514129a0002e7c\", \"department\": \"Lighting\", \"gender\": 0, \"id\": 40120, \"job\": \"Rigging Grip\", \"name\": \"Brian \\'Buzz\\' Buzzelli\"}, {\"credit_id\": \"54c2732b9251416eae00cab6\", \"department\": \"Sound\", \"gender\": 2, \"id\": 52193, \"job\": \"ADR & Dubbing\", \"name\": \"R.J. Kizer\"}, {\"credit_id\": \"52fe4781c3a36847f81398b7\", \"department\": \"Production\", \"gender\": 0, \"id\": 54211, \"job\": \"Executive Producer\", \"name\": \"Thomas Tull\"}, {\"credit_id\": \"56aa55a092514159a5001cf3\", \"department\": \"Crew\", \"gender\": 2, \"id\": 57569, \"job\": \"Stunts\", \"name\": \"Lee Sheward\"}, {\"credit_id\": \"56817f919251417def0118c9\", \"department\": \"Crew\", \"gender\": 0, \"id\": 61329, \"job\": \"Stunts\", \"name\": \"Declan Mulvey\"}, {\"credit_id\": \"52fe4781c3a36847f81398ff\", \"department\": \"Art\", \"gender\": 0, \"id\": 62560, \"job\": \"Art Direction\", \"name\": \"Gerald Sullivan\"}, {\"credit_id\": \"54c2234d925141315a005b6b\", \"department\": \"Art\", \"gender\": 0, \"id\": 31172, \"job\": \"Art Direction\", \"name\": \"Zack Grobler\"}, {\"credit_id\": \"579d0191c3a36828b100130b\", \"department\": \"Sound\", \"gender\": 0, \"id\": 68016, \"job\": \"Orchestrator\", \"name\": \"Kevin Kaska\"}, {\"credit_id\": \"56d9d2c9925141340201f6ed\", \"department\": \"Crew\", \"gender\": 2, \"id\": 81687, \"job\": \"Stunts\", \"name\": \"Rick Avery\"}, {\"credit_id\": \"52fe4781c3a36847f81398ab\", \"department\": \"Production\", \"gender\": 2, \"id\": 75804, \"job\": \"Executive Producer\", \"name\": \"Kevin De La Noy\"}, {\"credit_id\": \"5766cb129251411323000031\", \"department\": \"Production\", \"gender\": 0, \"id\": 113913, \"job\": \"Co-Producer\", \"name\": \"Jordan Goldberg\"}, {\"credit_id\": \"54c227c2c3a3686c61012820\", \"department\": \"Production\", \"gender\": 0, \"id\": 114017, \"job\": \"Production Manager\", \"name\": \"Karl McMillan\"}, {\"credit_id\": \"54c375f6c3a36833380010e1\", \"department\": \"Visual Effects\", \"gender\": 0, \"id\": 92231, \"job\": \"VFX Supervisor\", \"name\": \"May Leung\"}, {\"credit_id\": \"56c605c9c3a3680d4e003645\", \"department\": \"Crew\", \"gender\": 2, \"id\": 122549, \"job\": \"Stunts\", \"name\": \"Philippe Vonlanthen\"}, {\"credit_id\": \"54c274859251416e6000d4ee\", \"department\": \"Sound\", \"gender\": 0, \"id\": 138618, \"job\": \"Sound Re-Recording Mixer\", \"name\": \"Gary Rizzo\"}, {\"credit_id\": \"56e76ae3c3a368408c000be7\", \"department\": \"Crew\", \"gender\": 0, \"id\": 142157, \"job\": \"Stunts\", \"name\": \"Doug Coleman\"}, {\"credit_id\": \"579794d19251411a9000004d\", \"department\": \"Crew\", \"gender\": 2, \"id\": 202930, \"job\": \"Stunts\", \"name\": \"Anthony Molinari\"}, {\"credit_id\": \"568181699251411334008948\", \"department\": \"Crew\", \"gender\": 0, \"id\": 204339, \"job\": \"Stunts\", \"name\": \"Christopher Place\"}, {\"credit_id\": \"56a7b806c3a36828b800190b\", \"department\": \"Sound\", \"gender\": 0, \"id\": 230436, \"job\": \"ADR & Dubbing\", \"name\": \"Barbara Harris\"}, {\"credit_id\": \"564e1b75c3a368070f000288\", \"department\": \"Crew\", \"gender\": 0, \"id\": 550900, \"job\": \"Stunts\", \"name\": \"Carrick O\\'Quinn\"}, {\"credit_id\": \"57531069c3a3684c100007ef\", \"department\": \"Sound\", \"gender\": 2, \"id\": 932186, \"job\": \"Orchestrator\", \"name\": \"Bruce Fowler\"}, {\"credit_id\": \"568035f3c3a3684bcc00e7b2\", \"department\": \"Crew\", \"gender\": 2, \"id\": 932748, \"job\": \"Stunts\", \"name\": \"Roy T. Anderson\"}, {\"credit_id\": \"54c2239fc3a36879290038ba\", \"department\": \"Art\", \"gender\": 2, \"id\": 969743, \"job\": \"Art Direction\", \"name\": \"Dean Wolcott\"}, {\"credit_id\": \"52fe4781c3a36847f81398db\", \"department\": \"Production\", \"gender\": 0, \"id\": 1018958, \"job\": \"Casting\", \"name\": \"Toby Whale\"}, {\"credit_id\": \"56a189729251415e5e00fd3b\", \"department\": \"Crew\", \"gender\": 2, \"id\": 1025090, \"job\": \"Stunts\", \"name\": \"Jim Wilkey\"}, {\"credit_id\": \"570b91c3c3a3684f41003b4c\", \"department\": \"Art\", \"gender\": 0, \"id\": 1034754, \"job\": \"Supervising Art Director\", \"name\": \"James Hambidge\"}, {\"credit_id\": \"568183ab9251414f6300a6f8\", \"department\": \"Crew\", \"gender\": 0, \"id\": 1045964, \"job\": \"Stunts\", \"name\": \"Aaron Vexler\"}, {\"credit_id\": \"54c37a699251412446005572\", \"department\": \"Costume & Make-Up\", \"gender\": 0, \"id\": 1046614, \"job\": \"Set Costumer\", \"name\": \"Carmia Marshall\"}, {\"credit_id\": \"54c2737bc3a368792c003905\", \"department\": \"Editing\", \"gender\": 0, \"id\": 1050930, \"job\": \"Dialogue Editor\", \"name\": \"Hugo Weng\"}, {\"credit_id\": \"57a29134c3a36832b8001afb\", \"department\": \"Crew\", \"gender\": 0, \"id\": 1061061, \"job\": \"Stunts\", \"name\": \"Adam Horton\"}, {\"credit_id\": \"56aba40e9251410e8f002cf7\", \"department\": \"Crew\", \"gender\": 0, \"id\": 1106629, \"job\": \"Stunts\", \"name\": \"Raymond Mamrak\"}, {\"credit_id\": \"54c27360925141315a0062e4\", \"department\": \"Sound\", \"gender\": 2, \"id\": 1116937, \"job\": \"Foley\", \"name\": \"John Roesch\"}, {\"credit_id\": \"54c3717792514124c8005220\", \"department\": \"Visual Effects\", \"gender\": 0, \"id\": 1155668, \"job\": \"Visual Effects Producer\", \"name\": \"Mike Chambers\"}, {\"credit_id\": \"54c226f2c3a368792c003267\", \"department\": \"Production\", \"gender\": 0, \"id\": 1270053, \"job\": \"Production Manager\", \"name\": \"Emmanuel Pappas\"}, {\"credit_id\": \"568186c0c3a36828f5006e04\", \"department\": \"Crew\", \"gender\": 0, \"id\": 1301652, \"job\": \"Stunts\", \"name\": \"Stephen W. Schriver\"}, {\"credit_id\": \"54c379b4c3a3687c4000fcd6\", \"department\": \"Costume & Make-Up\", \"gender\": 0, \"id\": 1319744, \"job\": \"Costume Supervisor\", \"name\": \"Linda Matthews\"}, {\"credit_id\": \"54c2248cc3a36878fb003164\", \"department\": \"Costume & Make-Up\", \"gender\": 0, \"id\": 1322015, \"job\": \"Makeup Department Head\", \"name\": \"Luisa Abel\"}, {\"credit_id\": \"54c2238192514124890035aa\", \"department\": \"Art\", \"gender\": 0, \"id\": 1327144, \"job\": \"Art Direction\", \"name\": \"Sue Whitaker\"}, {\"credit_id\": \"56817e2192514113340088e0\", \"department\": \"Crew\", \"gender\": 1, \"id\": 1329415, \"job\": \"Stunts\", \"name\": \"Samantha MacIvor\"}, {\"credit_id\": \"56817898c3a3684bcc011ff7\", \"department\": \"Crew\", \"gender\": 0, \"id\": 1329527, \"job\": \"Stunts\", \"name\": \"Jared Burke\"}, {\"credit_id\": \"54c3796cc3a36878d00059fb\", \"department\": \"Costume & Make-Up\", \"gender\": 0, \"id\": 1336192, \"job\": \"Costume Supervisor\", \"name\": \"Laura Downing\"}, {\"credit_id\": \"54c37a9292514124c800531e\", \"department\": \"Costume & Make-Up\", \"gender\": 0, \"id\": 1336193, \"job\": \"Set Costumer\", \"name\": \"Rebecca Levin\"}, {\"credit_id\": \"5796b492c3a3680cfa002ae3\", \"department\": \"Crew\", \"gender\": 0, \"id\": 1340941, \"job\": \"Stunts\", \"name\": \"Ray Siegle\"}, {\"credit_id\": \"54c273cf92514124ed003c05\", \"department\": \"Sound\", \"gender\": 2, \"id\": 1341403, \"job\": \"Sound Designer\", \"name\": \"Richard King\"}, {\"credit_id\": \"54c2739dc3a368792c003908\", \"department\": \"Sound\", \"gender\": 2, \"id\": 1341403, \"job\": \"Supervising Sound Editor\", \"name\": \"Richard King\"}, {\"credit_id\": \"54c27458c3a36878fb003835\", \"department\": \"Sound\", \"gender\": 0, \"id\": 1341786, \"job\": \"Sound Effects Editor\", \"name\": \"Bryan O. Watkins\"}, {\"credit_id\": \"54e4a102c3a368087b005200\", \"department\": \"Crew\", \"gender\": 0, \"id\": 1348686, \"job\": \"Production Office Assistant\", \"name\": \"Bradley Porter\"}, {\"credit_id\": \"54c22e3d92514124c8003387\", \"department\": \"Art\", \"gender\": 0, \"id\": 1355530, \"job\": \"Sculptor\", \"name\": \"Cuitlahuac Morales Velazquez\"}, {\"credit_id\": \"54c27591c3a36879290040e9\", \"department\": \"Crew\", \"gender\": 0, \"id\": 1357062, \"job\": \"Special Effects Coordinator\", \"name\": \"Scott R. Fisher\"}, {\"credit_id\": \"54c376f492514124460054fe\", \"department\": \"Camera\", \"gender\": 0, \"id\": 1357064, \"job\": \"Camera Operator\", \"name\": \"Greg Baldi\"}, {\"credit_id\": \"54c37756c3a3683338001106\", \"department\": \"Camera\", \"gender\": 0, \"id\": 1357066, \"job\": \"Camera Operator\", \"name\": \"P. Scott Sakamoto\"}, {\"credit_id\": \"54c37c5692514124c8005349\", \"department\": \"Crew\", \"gender\": 0, \"id\": 1357070, \"job\": \"Transportation Coordinator\", \"name\": \"Denny Caira\"}, {\"credit_id\": \"5681830ec3a3684be9010b3b\", \"department\": \"Crew\", \"gender\": 2, \"id\": 1358564, \"job\": \"Stunts\", \"name\": \"Trampas Thompson\"}, {\"credit_id\": \"54c37cdc92514124460055a5\", \"department\": \"Directing\", \"gender\": 2, \"id\": 1367508, \"job\": \"Script Supervisor\", \"name\": \"Steve Gehrke\"}, {\"credit_id\": \"54c37345c3a36833380010a6\", \"department\": \"Crew\", \"gender\": 0, \"id\": 1372882, \"job\": \"Visual Effects Editor\", \"name\": \"Derrick Mitchell\"}, {\"credit_id\": \"54c27414c3a368792c003910\", \"department\": \"Sound\", \"gender\": 0, \"id\": 1377222, \"job\": \"Sound Effects Editor\", \"name\": \"Michael W. Mitchell\"}, {\"credit_id\": \"54c22a06c3a368792c0032a2\", \"department\": \"Art\", \"gender\": 0, \"id\": 1378222, \"job\": \"Construction Coordinator\", \"name\": \"Joe Ondrejko\"}, {\"credit_id\": \"567607a192514179e3003fd2\", \"department\": \"Sound\", \"gender\": 0, \"id\": 1378231, \"job\": \"Sound Effects Editor\", \"name\": \"Ken J. Johnson\"}, {\"credit_id\": \"54c37b21c3a368789b0059cb\", \"department\": \"Costume & Make-Up\", \"gender\": 0, \"id\": 1378246, \"job\": \"Set Costumer\", \"name\": \"Lori Harris\"}, {\"credit_id\": \"54c37e8cc3a3681421011a9c\", \"department\": \"Crew\", \"gender\": 0, \"id\": 1378726, \"job\": \"Dialect Coach\", \"name\": \"Francie Brown\"}, {\"credit_id\": \"568185c592514132db00f267\", \"department\": \"Crew\", \"gender\": 0, \"id\": 1384390, \"job\": \"Stunts\", \"name\": \"Trevor Habberstad\"}, {\"credit_id\": \"54c22976925141315a005be2\", \"department\": \"Art\", \"gender\": 0, \"id\": 1389526, \"job\": \"Construction Coordinator\", \"name\": \"Amanda Pettett\"}, {\"credit_id\": \"54c37a01c3a36878fb00500a\", \"department\": \"Costume & Make-Up\", \"gender\": 0, \"id\": 1391648, \"job\": \"Set Costumer\", \"name\": \"Hana Rausalova\"}, {\"credit_id\": \"54c2236fc3a36878fb003141\", \"department\": \"Art\", \"gender\": 0, \"id\": 1392587, \"job\": \"Art Direction\", \"name\": \"Tom Still\"}, {\"credit_id\": \"54c2757792514124c80039d9\", \"department\": \"Crew\", \"gender\": 0, \"id\": 1393387, \"job\": \"Special Effects Coordinator\", \"name\": \"Jeff Brink\"}, {\"credit_id\": \"54c37d0492514124460055a7\", \"department\": \"Crew\", \"gender\": 0, \"id\": 1394050, \"job\": \"Dialect Coach\", \"name\": \"Paula Jack\"}, {\"credit_id\": \"54c37b3cc3a368792c0050eb\", \"department\": \"Costume & Make-Up\", \"gender\": 0, \"id\": 1395030, \"job\": \"Set Costumer\", \"name\": \"Alison Evans\"}, {\"credit_id\": \"54c37ae1c3a3687929005bf1\", \"department\": \"Costume & Make-Up\", \"gender\": 0, \"id\": 1395032, \"job\": \"Set Costumer\", \"name\": \"Amanda Jenkins\"}, {\"credit_id\": \"54c22849c3a368789b0037cf\", \"department\": \"Art\", \"gender\": 0, \"id\": 1395430, \"job\": \"Art Department Coordinator\", \"name\": \"Jenne Lee\"}, {\"credit_id\": \"54c22e1cc3a36878fb003228\", \"department\": \"Art\", \"gender\": 0, \"id\": 1395435, \"job\": \"Set Designer\", \"name\": \"Theodore Sharps\"}, {\"credit_id\": \"54c2734bc3a368789b003f6a\", \"department\": \"Sound\", \"gender\": 0, \"id\": 1397823, \"job\": \"Foley\", \"name\": \"Alyson Dee Moore\"}, {\"credit_id\": \"54c22b05c3a36878d000384e\", \"department\": \"Art\", \"gender\": 0, \"id\": 1398089, \"job\": \"Greensman\", \"name\": \"Ian Whiteford\"}, {\"credit_id\": \"54c3785cc3a36878fb004fd2\", \"department\": \"Camera\", \"gender\": 0, \"id\": 1399071, \"job\": \"Helicopter Camera\", \"name\": \"Hans Bjerno\"}, {\"credit_id\": \"54c37a339251416e6000ee25\", \"department\": \"Costume & Make-Up\", \"gender\": 0, \"id\": 1399323, \"job\": \"Set Costumer\", \"name\": \"Mustapha Mimis\"}, {\"credit_id\": \"54c22b5a9251416e6000cdc1\", \"department\": \"Art\", \"gender\": 0, \"id\": 1399463, \"job\": \"Leadman\", \"name\": \"Bruce Lee Gross\"}, {\"credit_id\": \"54c378cfc3a3687929005bb1\", \"department\": \"Camera\", \"gender\": 0, \"id\": 1399876, \"job\": \"Still Photographer\", \"name\": \"Ron Phillips\"}, {\"credit_id\": \"54c37afbc3a368792c0050e2\", \"department\": \"Costume & Make-Up\", \"gender\": 0, \"id\": 1401814, \"job\": \"Set Costumer\", \"name\": \"Alejandro M. Hernandez\"}, {\"credit_id\": \"54c37e5a925141243200588d\", \"department\": \"Crew\", \"gender\": 1, \"id\": 1402008, \"job\": \"Dialect Coach\", \"name\": \"Kathleen S. Dunn\"}, {\"credit_id\": \"57785421c3a36826c9000a83\", \"department\": \"Directing\", \"gender\": 0, \"id\": 1402079, \"job\": \"Assistant Director\", \"name\": \"Matthew Reedy\"}, {\"credit_id\": \"54c223c2c3a3686c610127d0\", \"department\": \"Costume & Make-Up\", \"gender\": 0, \"id\": 1403424, \"job\": \"Costume Design\", \"name\": \"Roberto Craciunica\"}, {\"credit_id\": \"54c227f6c3a36878fb0031a8\", \"department\": \"Production\", \"gender\": 0, \"id\": 1403427, \"job\": \"Production Supervisor\", \"name\": \"Candice D. Campos\"}, {\"credit_id\": \"54c3780d925141248900573b\", \"department\": \"Camera\", \"gender\": 0, \"id\": 1404739, \"job\": \"Helicopter Camera\", \"name\": \"Steve Koster\"}, {\"credit_id\": \"54c37482c3a36878fb004f73\", \"department\": \"Visual Effects\", \"gender\": 0, \"id\": 1408347, \"job\": \"Visual Effects Supervisor\", \"name\": \"Pete Bebb\"}, {\"credit_id\": \"54c2254892514124ed003561\", \"department\": \"Costume & Make-Up\", \"gender\": 0, \"id\": 1409824, \"job\": \"Wigmaker\", \"name\": \"Natasha Ladek\"}, {\"credit_id\": \"567d811dc3a36860e9006747\", \"department\": \"Art\", \"gender\": 0, \"id\": 1411808, \"job\": \"Painter\", \"name\": \"Chris Bertholf\"}, {\"credit_id\": \"54c224b7c3a36879290038de\", \"department\": \"Costume & Make-Up\", \"gender\": 0, \"id\": 1412185, \"job\": \"Makeup Artist\", \"name\": \"Jay Wejebe\"}, {\"credit_id\": \"54c22a7e92514124ed0035cf\", \"department\": \"Art\", \"gender\": 0, \"id\": 1413089, \"job\": \"Construction Foreman\", \"name\": \"William Gideon\"}, {\"credit_id\": \"54c3761dc3a368789b005920\", \"department\": \"Crew\", \"gender\": 0, \"id\": 1415157, \"job\": \"Sequence Supervisor\", \"name\": \"Joel Green\"}, {\"credit_id\": \"56fd6190c3a3685cda0005de\", \"department\": \"Crew\", \"gender\": 0, \"id\": 1415606, \"job\": \"Makeup Effects\", \"name\": \"Diana Choi\"}, {\"credit_id\": \"54c37e11c3a3681421011a8f\", \"department\": \"Crew\", \"gender\": 0, \"id\": 1416005, \"job\": \"Unit Publicist\", \"name\": \"Claudia Kalindjian\"}, {\"credit_id\": \"54c2233c92514124c8003261\", \"department\": \"Art\", \"gender\": 0, \"id\": 1417396, \"job\": \"Art Direction\", \"name\": \"Toby Britton\"}, {\"credit_id\": \"54c2235ec3a368142100fa9a\", \"department\": \"Art\", \"gender\": 0, \"id\": 1417397, \"job\": \"Art Direction\", \"name\": \"Jonathan Kevin Ong\"}, {\"credit_id\": \"54c223ea9251416e6000cd21\", \"department\": \"Costume & Make-Up\", \"gender\": 0, \"id\": 1417398, \"job\": \"Hairstylist\", \"name\": \"Janice Alexander\"}, {\"credit_id\": \"54c2240292514124460034ac\", \"department\": \"Costume & Make-Up\", \"gender\": 0, \"id\": 1417399, \"job\": \"Hairstylist\", \"name\": \"Patricia DeHaney\"}, {\"credit_id\": \"54c224619251416eae00c3aa\", \"department\": \"Costume & Make-Up\", \"gender\": 0, \"id\": 1417400, \"job\": \"Hairstylist\", \"name\": \"Deena Adair\"}, {\"credit_id\": \"54c225c2c3a36878d00037bb\", \"department\": \"Crew\", \"gender\": 0, \"id\": 1417403, \"job\": \"Makeup Effects\", \"name\": \"Andre Gilbert\"}, {\"credit_id\": \"54c227a49251416e6000cd7b\", \"department\": \"Production\", \"gender\": 0, \"id\": 1417406, \"job\": \"Production Manager\", \"name\": \"Michael Murray\"}, {\"credit_id\": \"54c227dc925141248900361a\", \"department\": \"Production\", \"gender\": 0, \"id\": 1417407, \"job\": \"Production Manager\", \"name\": \"Thomas Hayslip\"}, {\"credit_id\": \"54c2280ec3a3687929003931\", \"department\": \"Production\", \"gender\": 0, \"id\": 1417408, \"job\": \"Production Supervisor\", \"name\": \"Mika Saito\"}, {\"credit_id\": \"54c22867c3a3686c6101282f\", \"department\": \"Art\", \"gender\": 0, \"id\": 1417409, \"job\": \"Art Department Coordinator\", \"name\": \"Pippa Needs\"}, {\"credit_id\": \"54c22883925141244600351e\", \"department\": \"Art\", \"gender\": 0, \"id\": 1417410, \"job\": \"Art Department Coordinator\", \"name\": \"Laura Pliskin\"}, {\"credit_id\": \"54c228d49251416e6000cd90\", \"department\": \"Art\", \"gender\": 0, \"id\": 1417411, \"job\": \"Assistant Art Director\", \"name\": \"Anna Bregman\"}, {\"credit_id\": \"54c2290cc3a36878fb0031c1\", \"department\": \"Art\", \"gender\": 0, \"id\": 1417412, \"job\": \"Assistant Art Director\", \"name\": \"Robert W. Joseph\"}, {\"credit_id\": \"54c22949c3a36878d000381a\", \"department\": \"Crew\", \"gender\": 0, \"id\": 1417413, \"job\": \"Property Master\", \"name\": \"Barry Wilkinson\"}, {\"credit_id\": \"54c229eec3a36878d0003836\", \"department\": \"Art\", \"gender\": 0, \"id\": 1417414, \"job\": \"Construction Coordinator\", \"name\": \"Glen Pangione\"}, {\"credit_id\": \"594851dac3a36816f6048d7d\", \"department\": \"Art\", \"gender\": 2, \"id\": 1417415, \"job\": \"Property Master\", \"name\": \"Mychael Bates\"}, {\"credit_id\": \"54c22ac69251416eae00c42c\", \"department\": \"Art\", \"gender\": 0, \"id\": 1417416, \"job\": \"Greensman\", \"name\": \"Brandon A. Plonka\"}, {\"credit_id\": \"54c22ae3c3a368792900396e\", \"department\": \"Crew\", \"gender\": 0, \"id\": 1417417, \"job\": \"Scenic Artist\", \"name\": \"Elizabeth Tomasetti\"}, {\"credit_id\": \"54c22d4592514124c8003368\", \"department\": \"Art\", \"gender\": 0, \"id\": 1417418, \"job\": \"Leadman\", \"name\": \"Sean Ginevan\"}, {\"credit_id\": \"54c22df6c3a36878d000388e\", \"department\": \"Art\", \"gender\": 0, \"id\": 1417419, \"job\": \"Set Designer\", \"name\": \"Jason Kolowski\"}, {\"credit_id\": \"54c273ec92514124ed003c0a\", \"department\": \"Sound\", \"gender\": 0, \"id\": 1417514, \"job\": \"Sound Effects Editor\", \"name\": \"Michael Babcock\"}, {\"credit_id\": \"54c2752392514124c80039d3\", \"department\": \"Sound\", \"gender\": 0, \"id\": 1417514, \"job\": \"Sound Re-Recording Mixer\", \"name\": \"Michael Babcock\"}, {\"credit_id\": \"54c273fec3a368789b003f7a\", \"department\": \"Sound\", \"gender\": 0, \"id\": 1417515, \"job\": \"Sound Effects Editor\", \"name\": \"Randle Akerson\"}, {\"credit_id\": \"54c27428925141315a0062f5\", \"department\": \"Sound\", \"gender\": 0, \"id\": 1417516, \"job\": \"Sound Effects Editor\", \"name\": \"Jeff Sawyer\"}, {\"credit_id\": \"54c274f1c3a36879290040da\", \"department\": \"Sound\", \"gender\": 0, \"id\": 1417517, \"job\": \"Sound Re-Recording Mixer\", \"name\": \"Carlos Solis\"}, {\"credit_id\": \"54c37193c3a368792c004fed\", \"department\": \"Crew\", \"gender\": 0, \"id\": 1417820, \"job\": \"Visual Effects Editor\", \"name\": \"Nick Dacey\"}, {\"credit_id\": \"54c372959251416eae00e22d\", \"department\": \"Visual Effects\", \"gender\": 0, \"id\": 1417821, \"job\": \"Visual Effects Producer\", \"name\": \"Claudia Dehmel\"}, {\"credit_id\": \"54c372e39251416e6000ed54\", \"department\": \"Crew\", \"gender\": 0, \"id\": 1417822, \"job\": \"Visual Effects Editor\", \"name\": \"Reuben Lloyd-Pack\"}, {\"credit_id\": \"54c3731892514124c8005254\", \"department\": \"Crew\", \"gender\": 0, \"id\": 1417823, \"job\": \"Visual Effects Editor\", \"name\": \"Steve Miller\"}, {\"credit_id\": \"54c3738f9251416e6000ed5f\", \"department\": \"Crew\", \"gender\": 0, \"id\": 1417824, \"job\": \"Visual Effects Editor\", \"name\": \"Christopher Payne\"}, {\"credit_id\": \"54c374b392514124890056d9\", \"department\": \"Crew\", \"gender\": 0, \"id\": 1417825, \"job\": \"CG Supervisor\", \"name\": \"Julian Foddy\"}, {\"credit_id\": \"54c374cc9251416e6000ed85\", \"department\": \"Visual Effects\", \"gender\": 0, \"id\": 1417826, \"job\": \"Visual Effects Supervisor\", \"name\": \"Paul J. Franklin\"}, {\"credit_id\": \"54c374eec3a368789b005901\", \"department\": \"Crew\", \"gender\": 0, \"id\": 1417827, \"job\": \"CG Supervisor\", \"name\": \"Nicola Hoyle\"}, {\"credit_id\": \"54c37524c3a3687929005b32\", \"department\": \"Visual Effects\", \"gender\": 0, \"id\": 1417828, \"job\": \"Visual Effects Supervisor\", \"name\": \"Andrew Lockley\"}, {\"credit_id\": \"54c3757ac3a36833380010d3\", \"department\": \"Crew\", \"gender\": 0, \"id\": 1417829, \"job\": \"Sequence Supervisor\", \"name\": \"Alison Wortman\"}, {\"credit_id\": \"54c375b49251416e6000ed9d\", \"department\": \"Crew\", \"gender\": 0, \"id\": 1417830, \"job\": \"Sequence Supervisor\", \"name\": \"Maxx Wai In Leong\"}, {\"credit_id\": \"54c3766ac3a36814210119e7\", \"department\": \"Crew\", \"gender\": 0, \"id\": 1417831, \"job\": \"Stunt Coordinator\", \"name\": \"Sy Hollands\"}, {\"credit_id\": \"54c377e49251416e6000edfc\", \"department\": \"Lighting\", \"gender\": 0, \"id\": 1417832, \"job\": \"Gaffer\", \"name\": \"Ryan Rodriguez\"}, {\"credit_id\": \"54c3783c92514124c80052d6\", \"department\": \"Lighting\", \"gender\": 0, \"id\": 1417833, \"job\": \"Gaffer\", \"name\": \"Reuben Garrett\"}, {\"credit_id\": \"54c378719251416eae00e2db\", \"department\": \"Camera\", \"gender\": 0, \"id\": 1417834, \"job\": \"Camera Technician\", \"name\": \"Dane Bjerno\"}, {\"credit_id\": \"54c378a49251412432005815\", \"department\": \"Lighting\", \"gender\": 0, \"id\": 1417835, \"job\": \"Rigging Gaffer\", \"name\": \"Ian Franklin\"}, {\"credit_id\": \"54c379219251412446005555\", \"department\": \"Visual Effects\", \"gender\": 0, \"id\": 1417836, \"job\": \"Animation\", \"name\": \"Andrew McEvoy\"}, {\"credit_id\": \"54c3798b92514124ed005678\", \"department\": \"Costume & Make-Up\", \"gender\": 0, \"id\": 1417837, \"job\": \"Costume Supervisor\", \"name\": \"Brendan Handscombe\"}, {\"credit_id\": \"54c37ac9c3a36878fb00501a\", \"department\": \"Costume & Make-Up\", \"gender\": 0, \"id\": 1417838, \"job\": \"Set Costumer\", \"name\": \"Lindsay Kouri\"}, {\"credit_id\": \"54c37ba5c3a3683338001180\", \"department\": \"Costume & Make-Up\", \"gender\": 0, \"id\": 1417839, \"job\": \"Set Costumer\", \"name\": \"David Butler\"}, {\"credit_id\": \"54c37c01c3a3687929005c04\", \"department\": \"Editing\", \"gender\": 0, \"id\": 1417840, \"job\": \"First Assistant Editor\", \"name\": \"Eric A. Lewy\"}, {\"credit_id\": \"54c37c29925141243200586d\", \"department\": \"Sound\", \"gender\": 0, \"id\": 1417841, \"job\": \"Music Editor\", \"name\": \"Ryan Rubin\"}, {\"credit_id\": \"54c37c42c3a36878d0005a31\", \"department\": \"Crew\", \"gender\": 0, \"id\": 1417842, \"job\": \"Transportation Coordinator\", \"name\": \"Gary Birmingham\"}, {\"credit_id\": \"54c37c7592514124ed0056af\", \"department\": \"Crew\", \"gender\": 0, \"id\": 1417843, \"job\": \"Picture Car Coordinator\", \"name\": \"Tyler W. Gaisford\"}, {\"credit_id\": \"54c37d6dc3a3687c4000fd1b\", \"department\": \"Production\", \"gender\": 0, \"id\": 1417844, \"job\": \"Location Manager\", \"name\": \"Mark Somner\"}, {\"credit_id\": \"54c37d9fc3a3687c4000fd20\", \"department\": \"Production\", \"gender\": 0, \"id\": 1417845, \"job\": \"Location Manager\", \"name\": \"Joaquin Diego Prange\"}, {\"credit_id\": \"54c37dbb9251416e6000ee57\", \"department\": \"Production\", \"gender\": 0, \"id\": 1417846, \"job\": \"Location Manager\", \"name\": \"Vans Pradeep Singh Rathore\"}, {\"credit_id\": \"54c37de6c3a36878d0005a54\", \"department\": \"Production\", \"gender\": 0, \"id\": 1417847, \"job\": \"Location Manager\", \"name\": \"James A. Mahathey\"}, {\"credit_id\": \"54c37e2cc3a36833380011b6\", \"department\": \"Production\", \"gender\": 0, \"id\": 1417848, \"job\": \"Location Manager\", \"name\": \"Jonathan Hook\"}, {\"credit_id\": \"56c266579251414a89000a2a\", \"department\": \"Costume & Make-Up\", \"gender\": 0, \"id\": 1427499, \"job\": \"Hairstylist\", \"name\": \"Stephanie Hovette\"}, {\"credit_id\": \"569fd0f6c3a36858c300a313\", \"department\": \"Crew\", \"gender\": 0, \"id\": 1434599, \"job\": \"Stunts\", \"name\": \"Brian Smyj\"}, {\"credit_id\": \"56d4e8b3c3a3681e44017a1d\", \"department\": \"Editing\", \"gender\": 0, \"id\": 1440853, \"job\": \"Assistant Editor\", \"name\": \"Donald Likovich\"}, {\"credit_id\": \"56817ef292514132db00f181\", \"department\": \"Crew\", \"gender\": 0, \"id\": 1455503, \"job\": \"Stunts\", \"name\": \"Ian Mclaughlin\"}, {\"credit_id\": \"56d872209251414291007577\", \"department\": \"Production\", \"gender\": 0, \"id\": 1463954, \"job\": \"Casting\", \"name\": \"Dixie Webster\"}, {\"credit_id\": \"568180369251414f6300a677\", \"department\": \"Crew\", \"gender\": 0, \"id\": 1468581, \"job\": \"Stunts\", \"name\": \"Victor Paguia\"}, {\"credit_id\": \"5682ca7392514169d0000aae\", \"department\": \"Costume & Make-Up\", \"gender\": 0, \"id\": 1468589, \"job\": \"Assistant Costume Designer\", \"name\": \"Wade Sullivan\"}, {\"credit_id\": \"56744cfb92514179dd00006d\", \"department\": \"Crew\", \"gender\": 0, \"id\": 1483827, \"job\": \"Stunts\", \"name\": \"Sid Karne\"}, {\"credit_id\": \"5621354392514171d000883b\", \"department\": \"Directing\", \"gender\": 0, \"id\": 1483827, \"job\": \"Assistant Director\", \"name\": \"Sid Karne\"}, {\"credit_id\": \"5681e419c3a36828f5007e50\", \"department\": \"Camera\", \"gender\": 0, \"id\": 1509394, \"job\": \"Grip\", \"name\": \"Michael J. Prate\"}, {\"credit_id\": \"5681e47a92514113340099ff\", \"department\": \"Camera\", \"gender\": 0, \"id\": 1509396, \"job\": \"Grip\", \"name\": \"Tom Prate\"}, {\"credit_id\": \"567d7b08c3a3684bd00070c2\", \"department\": \"Costume & Make-Up\", \"gender\": 0, \"id\": 1516458, \"job\": \"Hairstylist\", \"name\": \"R. Cory McCutcheon\"}, {\"credit_id\": \"56ba969e92514169b3000721\", \"department\": \"Editing\", \"gender\": 0, \"id\": 1525908, \"job\": \"Assistant Editor\", \"name\": \"Anne O\\'Brien\"}, {\"credit_id\": \"578fbfa19251411d5700117b\", \"department\": \"Crew\", \"gender\": 0, \"id\": 1531529, \"job\": \"Stunts\", \"name\": \"Rex Reddick\"}, {\"credit_id\": \"57d6ea2fc3a368023a00044e\", \"department\": \"Camera\", \"gender\": 0, \"id\": 1532610, \"job\": \"First Assistant Camera\", \"name\": \"Bob Hall\"}, {\"credit_id\": \"57bf2c29c3a3685c5d003e00\", \"department\": \"Lighting\", \"gender\": 0, \"id\": 1532612, \"job\": \"Rigging Grip\", \"name\": \"Blake Pike\"}, {\"credit_id\": \"566f8003c3a3680e7300cb03\", \"department\": \"Camera\", \"gender\": 0, \"id\": 1532613, \"job\": \"First Assistant Camera\", \"name\": \"Philip Shanahan\"}, {\"credit_id\": \"56452aa6c3a36870ec006931\", \"department\": \"Crew\", \"gender\": 2, \"id\": 1535095, \"job\": \"Stunts\", \"name\": \"Dan Brown\"}, {\"credit_id\": \"56452cb89251410a4c006cdf\", \"department\": \"Camera\", \"gender\": 0, \"id\": 1535096, \"job\": \"Grip\", \"name\": \"Adam Camacho\"}, {\"credit_id\": \"56452e7ac3a36870ef006f32\", \"department\": \"Camera\", \"gender\": 0, \"id\": 1535102, \"job\": \"Grip\", \"name\": \"Shaun Sangkarat\"}, {\"credit_id\": \"56817c9ec3a3682abc00a14b\", \"department\": \"Crew\", \"gender\": 1, \"id\": 1544394, \"job\": \"Stunts\", \"name\": \"Aja Frary\"}, {\"credit_id\": \"56817c4b9251417def011851\", \"department\": \"Crew\", \"gender\": 2, \"id\": 1544395, \"job\": \"Stunts\", \"name\": \"Mark Fichera\"}, {\"credit_id\": \"566875bec3a36836970036e9\", \"department\": \"Crew\", \"gender\": 0, \"id\": 1546907, \"job\": \"Driver\", \"name\": \"Patrick Hogan\"}, {\"credit_id\": \"566dbc4a92514169e200c3cd\", \"department\": \"Costume & Make-Up\", \"gender\": 0, \"id\": 1548530, \"job\": \"Hairstylist\", \"name\": \"Robert Wilson\"}, {\"credit_id\": \"566f03c1925141500100a095\", \"department\": \"Crew\", \"gender\": 0, \"id\": 1549015, \"job\": \"Propmaker\", \"name\": \"Ray Maxwell\"}, {\"credit_id\": \"566f0f16c3a368535a011220\", \"department\": \"Crew\", \"gender\": 0, \"id\": 1549026, \"job\": \"Stunts Coordinator\", \"name\": \"Scotty Richards\"}, {\"credit_id\": \"5671a5adc3a368535a01870d\", \"department\": \"Crew\", \"gender\": 2, \"id\": 1549741, \"job\": \"Stunts\", \"name\": \"Marc Scizak\"}, {\"credit_id\": \"5672f427c3a3680712003145\", \"department\": \"Lighting\", \"gender\": 0, \"id\": 1550248, \"job\": \"Rigging Grip\", \"name\": \"Joe Guzman\"}, {\"credit_id\": \"5673487792514163b9003756\", \"department\": \"Crew\", \"gender\": 0, \"id\": 1550400, \"job\": \"Set Production Assistant\", \"name\": \"Damiano Fusca\"}, {\"credit_id\": \"56817a49c3a3682abc00a0a5\", \"department\": \"Crew\", \"gender\": 2, \"id\": 1550725, \"job\": \"Stunts\", \"name\": \"Chris Cenatiempo\"}, {\"credit_id\": \"567607cd92514179e7003fcb\", \"department\": \"Camera\", \"gender\": 0, \"id\": 1551373, \"job\": \"Camera Intern\", \"name\": \"Joey J. Cook III\"}, {\"credit_id\": \"568f076fc3a368324c0000ac\", \"department\": \"Editing\", \"gender\": 0, \"id\": 1552549, \"job\": \"Color Timer\", \"name\": \"David Orr\"}, {\"credit_id\": \"5680378d9251412e5200bc04\", \"department\": \"Crew\", \"gender\": 0, \"id\": 1554393, \"job\": \"Stunts\", \"name\": \"Scott Burik\"}, {\"credit_id\": \"5681798292514131df00eabe\", \"department\": \"Crew\", \"gender\": 0, \"id\": 1554915, \"job\": \"Stunts\", \"name\": \"Mike Burke\"}, {\"credit_id\": \"56817cecc3a3682abc00a155\", \"department\": \"Crew\", \"gender\": 0, \"id\": 1554921, \"job\": \"Stunts\", \"name\": \"Shane Geraghty\"}, {\"credit_id\": \"568180ea9251417def0118f7\", \"department\": \"Lighting\", \"gender\": 0, \"id\": 1554924, \"job\": \"Rigging Grip\", \"name\": \"Balint Pinczehelyi\"}, {\"credit_id\": \"56818203c3a36860e9010d12\", \"department\": \"Crew\", \"gender\": 0, \"id\": 1554925, \"job\": \"Stunts\", \"name\": \"Kevin Rogers\"}, {\"credit_id\": \"568182e7c3a3684be3011a16\", \"department\": \"Crew\", \"gender\": 0, \"id\": 1554926, \"job\": \"Stunts\", \"name\": \"Shawnna Thibodeau\"}, {\"credit_id\": \"568183fac3a36860e9010d53\", \"department\": \"Crew\", \"gender\": 0, \"id\": 1554931, \"job\": \"Stunts\", \"name\": \"Caroline Vexler\"}, {\"credit_id\": \"5681e190c3a3684bcc013316\", \"department\": \"Lighting\", \"gender\": 2, \"id\": 1555027, \"job\": \"Rigging Grip\", \"name\": \"Kevin Flynn\"}, {\"credit_id\": \"56b78254c3a36806ec00e6f5\", \"department\": \"Production\", \"gender\": 0, \"id\": 1564997, \"job\": \"Executive In Charge Of Production\", \"name\": \"Mark Scoon\"}, {\"credit_id\": \"56b781afc3a36806ec00e6e0\", \"department\": \"Directing\", \"gender\": 0, \"id\": 1566280, \"job\": \"Assistant Director\", \"name\": \"Nilo Otero\"}, {\"credit_id\": \"5766ccd8c3a3687f5300121a\", \"department\": \"Crew\", \"gender\": 0, \"id\": 1571601, \"job\": \"Post Production Supervisor\", \"name\": \"David E. Hall\"}, {\"credit_id\": \"573e668892514108d9000856\", \"department\": \"Crew\", \"gender\": 2, \"id\": 1622657, \"job\": \"Stunts\", \"name\": \"Mark Aaron Wagner\"}, {\"credit_id\": \"579bf757c3a3681678003103\", \"department\": \"Crew\", \"gender\": 0, \"id\": 1634437, \"job\": \"Stunts\", \"name\": \"Ed McDermott II\"}, {\"credit_id\": \"5766cc219251416995000666\", \"department\": \"Costume & Make-Up\", \"gender\": 0, \"id\": 1638257, \"job\": \"Prosthetic Supervisor\", \"name\": \"Conor O\\'Sullivan\"}, {\"credit_id\": \"5777f94a9251415f060011a6\", \"department\": \"Sound\", \"gender\": 0, \"id\": 1644412, \"job\": \"Sound Mixer\", \"name\": \"Nakul Kamte\"}, {\"credit_id\": \"577852f992514136e100208d\", \"department\": \"Production\", \"gender\": 0, \"id\": 1644543, \"job\": \"Line Producer\", \"name\": \"Dileep Singh Rathore\"}]',\n",
       "       '[{\"credit_id\": \"52fe479ac3a36847f813eaa3\", \"department\": \"Writing\", \"gender\": 2, \"id\": 7, \"job\": \"Screenplay\", \"name\": \"Andrew Stanton\"}, {\"credit_id\": \"52fe479ac3a36847f813ea65\", \"department\": \"Directing\", \"gender\": 2, \"id\": 7, \"job\": \"Director\", \"name\": \"Andrew Stanton\"}, {\"credit_id\": \"58c69e819251411d30017673\", \"department\": \"Crew\", \"gender\": 2, \"id\": 7879, \"job\": \"Thanks\", \"name\": \"John Lasseter\"}, {\"credit_id\": \"52fe479ac3a36847f813eac5\", \"department\": \"Production\", \"gender\": 2, \"id\": 490, \"job\": \"Producer\", \"name\": \"Colin Wilson\"}, {\"credit_id\": \"58c68f2b9251411d30016cf2\", \"department\": \"Production\", \"gender\": 2, \"id\": 2073, \"job\": \"Casting\", \"name\": \"Gail Stevens\"}, {\"credit_id\": \"58c68ef19251411d62016ec3\", \"department\": \"Sound\", \"gender\": 2, \"id\": 3996, \"job\": \"Sound Re-Recording Mixer\", \"name\": \"Tom Johnson\"}, {\"credit_id\": \"52fe479ac3a36847f813ead7\", \"department\": \"Editing\", \"gender\": 2, \"id\": 6958, \"job\": \"Editor\", \"name\": \"Eric Zumbrunnen\"}, {\"credit_id\": \"58c69a9ec3a36840b801738e\", \"department\": \"Editing\", \"gender\": 0, \"id\": 8158, \"job\": \"Dialogue Editor\", \"name\": \"Michael Silvers\"}, {\"credit_id\": \"58c68f1ec3a368413b015877\", \"department\": \"Sound\", \"gender\": 0, \"id\": 8166, \"job\": \"Sound Re-Recording Mixer\", \"name\": \"Juan Peralta\"}, {\"credit_id\": \"58c69340c3a36841200154c9\", \"department\": \"Costume & Make-Up\", \"gender\": 0, \"id\": 8412, \"job\": \"Key Makeup Artist\", \"name\": \"Paul Gooch\"}, {\"credit_id\": \"58c69cc0c3a368413001574a\", \"department\": \"Art\", \"gender\": 0, \"id\": 12039, \"job\": \"Set Decoration\", \"name\": \"Paki Smith\"}, {\"credit_id\": \"58c69e9e9251411d11017c02\", \"department\": \"Crew\", \"gender\": 0, \"id\": 12895, \"job\": \"Thanks\", \"name\": \"Ed Catmull\"}, {\"credit_id\": \"58c689079251411d19017350\", \"department\": \"Crew\", \"gender\": 2, \"id\": 12897, \"job\": \"In Memory Of\", \"name\": \"Steve Jobs\"}, {\"credit_id\": \"56abe29d9251417e22003953\", \"department\": \"Costume & Make-Up\", \"gender\": 2, \"id\": 15017, \"job\": \"Makeup Designer\", \"name\": \"Bill Corso\"}, {\"credit_id\": \"58c691fc9251411d30016e75\", \"department\": \"Art\", \"gender\": 2, \"id\": 14762, \"job\": \"Art Direction\", \"name\": \"Robert Woodruff\"}, {\"credit_id\": \"52fe479ac3a36847f813eae3\", \"department\": \"Art\", \"gender\": 2, \"id\": 15327, \"job\": \"Production Design\", \"name\": \"Nathan Crowley\"}, {\"credit_id\": \"58c6888bc3a36840f6014f95\", \"department\": \"Sound\", \"gender\": 2, \"id\": 15347, \"job\": \"Music\", \"name\": \"Michael Giacchino\"}, {\"credit_id\": \"52fe479ac3a36847f813ead1\", \"department\": \"Camera\", \"gender\": 0, \"id\": 15348, \"job\": \"Director of Photography\", \"name\": \"Daniel Mindel\"}, {\"credit_id\": \"58c69adcc3a36840f6015b94\", \"department\": \"Sound\", \"gender\": 2, \"id\": 15354, \"job\": \"Music Editor\", \"name\": \"Stephen M. Davis\"}, {\"credit_id\": \"58c69227c3a36840f60155d7\", \"department\": \"Art\", \"gender\": 2, \"id\": 34513, \"job\": \"Art Direction\", \"name\": \"John King\"}, {\"credit_id\": \"52fe479ac3a36847f813eafb\", \"department\": \"Costume & Make-Up\", \"gender\": 0, \"id\": 17675, \"job\": \"Costume Design\", \"name\": \"Mayes C. Rubeo\"}, {\"credit_id\": \"570b939092514111f20029c9\", \"department\": \"Art\", \"gender\": 0, \"id\": 17677, \"job\": \"Supervising Art Director\", \"name\": \"Naaman Marshall\"}, {\"credit_id\": \"58c69203c3a36841140150c8\", \"department\": \"Art\", \"gender\": 0, \"id\": 18925, \"job\": \"Art Direction\", \"name\": \"Scott Zuber\"}, {\"credit_id\": \"58c6905bc3a3684128014f17\", \"department\": \"Art\", \"gender\": 2, \"id\": 23454, \"job\": \"Art Direction\", \"name\": \"Phil Harvey\"}, {\"credit_id\": \"58c69aedc3a36841140156e9\", \"department\": \"Sound\", \"gender\": 0, \"id\": 28241, \"job\": \"Orchestrator\", \"name\": \"Tim Simonec\"}, {\"credit_id\": \"58c69811c3a368410c0160b1\", \"department\": \"Costume & Make-Up\", \"gender\": 0, \"id\": 29233, \"job\": \"Makeup Artist\", \"name\": \"Veronica McAleer\"}, {\"credit_id\": \"52fe479ac3a36847f813eb07\", \"department\": \"Writing\", \"gender\": 2, \"id\": 15776, \"job\": \"Original Story\", \"name\": \"Edgar Rice Burroughs\"}, {\"credit_id\": \"52fe479ac3a36847f813eadd\", \"department\": \"Production\", \"gender\": 1, \"id\": 51557, \"job\": \"Casting\", \"name\": \"Marcia Ross\"}, {\"credit_id\": \"58c69f12c3a36841140159a5\", \"department\": \"Crew\", \"gender\": 2, \"id\": 39624, \"job\": \"Thanks\", \"name\": \"Peter Gabriel\"}, {\"credit_id\": \"58c6937f9251411d30016f5f\", \"department\": \"Costume & Make-Up\", \"gender\": 0, \"id\": 61996, \"job\": \"Key Makeup Artist\", \"name\": \"Christien Tinsley\"}, {\"credit_id\": \"58c69acb9251411d19017f73\", \"department\": \"Production\", \"gender\": 0, \"id\": 64449, \"job\": \"ADR Voice Casting\", \"name\": \"Holly Dorff\"}, {\"credit_id\": \"52fe479ac3a36847f813eabf\", \"department\": \"Production\", \"gender\": 0, \"id\": 72752, \"job\": \"Producer\", \"name\": \"Jim Morris\"}, {\"credit_id\": \"52fe479ac3a36847f813eab9\", \"department\": \"Production\", \"gender\": 0, \"id\": 72753, \"job\": \"Producer\", \"name\": \"Lindsey Collins\"}, {\"credit_id\": \"52fe479ac3a36847f813eaaf\", \"department\": \"Writing\", \"gender\": 2, \"id\": 67758, \"job\": \"Screenplay\", \"name\": \"Michael Chabon\"}, {\"credit_id\": \"58c68a499251411d55016dd5\", \"department\": \"Production\", \"gender\": 0, \"id\": 91055, \"job\": \"Unit Production Manager\", \"name\": \"Jan Foster\"}, {\"credit_id\": \"58c699509251411d550177c7\", \"department\": \"Camera\", \"gender\": 0, \"id\": 91912, \"job\": \"Camera Operator\", \"name\": \"John Skotchdopole\"}, {\"credit_id\": \"58c6995cc3a368412001591e\", \"department\": \"Sound\", \"gender\": 2, \"id\": 105780, \"job\": \"Sound Mixer\", \"name\": \"Chris Munro\"}, {\"credit_id\": \"58c6884e9251411d15016de7\", \"department\": \"Visual Effects\", \"gender\": 0, \"id\": 122274, \"job\": \"Visual Effects Supervisor\", \"name\": \"Peter Chiang\"}, {\"credit_id\": \"52fe479ac3a36847f813eaa9\", \"department\": \"Writing\", \"gender\": 2, \"id\": 126638, \"job\": \"Screenplay\", \"name\": \"Mark Andrews\"}, {\"credit_id\": \"58c68ed79251411d62016eb2\", \"department\": \"Sound\", \"gender\": 0, \"id\": 138617, \"job\": \"Supervising Sound Editor\", \"name\": \"Jonathan Null\"}, {\"credit_id\": \"58c69c9a9251411d6201776e\", \"department\": \"Production\", \"gender\": 2, \"id\": 238120, \"job\": \"Casting Associate\", \"name\": \"Colin Jones\"}, {\"credit_id\": \"52fe479ac3a36847f813eb13\", \"department\": \"Costume & Make-Up\", \"gender\": 1, \"id\": 406204, \"job\": \"Makeup Department Head\", \"name\": \"Ve Neill\"}, {\"credit_id\": \"58c69b249251411d0d018598\", \"department\": \"Production\", \"gender\": 1, \"id\": 528783, \"job\": \"Casting Associate\", \"name\": \"Brittainy Roberts\"}, {\"credit_id\": \"58c698c9c3a36840b8017245\", \"department\": \"Costume & Make-Up\", \"gender\": 0, \"id\": 967148, \"job\": \"Assistant Costume Designer\", \"name\": \"Jeremy Turner\"}, {\"credit_id\": \"58c691f5c3a36841200153f6\", \"department\": \"Art\", \"gender\": 2, \"id\": 969743, \"job\": \"Art Direction\", \"name\": \"Dean Wolcott\"}, {\"credit_id\": \"58c69032c3a36841200152fe\", \"department\": \"Art\", \"gender\": 2, \"id\": 986687, \"job\": \"Art Direction\", \"name\": \"Mark Harris\"}, {\"credit_id\": \"570b9382c3a368779600816a\", \"department\": \"Art\", \"gender\": 0, \"id\": 1034754, \"job\": \"Supervising Art Director\", \"name\": \"James Hambidge\"}, {\"credit_id\": \"52fe479ac3a36847f813eb01\", \"department\": \"Crew\", \"gender\": 0, \"id\": 1034755, \"job\": \"Post Production Supervisor\", \"name\": \"Lori Korngiebel\"}, {\"credit_id\": \"58c692ffc3a3684114015167\", \"department\": \"Art\", \"gender\": 0, \"id\": 1055222, \"job\": \"Storyboard Designer\", \"name\": \"David Krentz\"}, {\"credit_id\": \"58c68e719251411d19017745\", \"department\": \"Visual Effects\", \"gender\": 0, \"id\": 1081073, \"job\": \"Special Effects Supervisor\", \"name\": \"Chris Corbould\"}, {\"credit_id\": \"58c698bec3a368411401553a\", \"department\": \"Costume & Make-Up\", \"gender\": 1, \"id\": 1121742, \"job\": \"Assistant Costume Designer\", \"name\": \"Colleen Kelsall\"}, {\"credit_id\": \"58c68e2e9251411d47017e8a\", \"department\": \"Production\", \"gender\": 0, \"id\": 1123360, \"job\": \"Associate Producer\", \"name\": \"Bob Roath\"}, {\"credit_id\": \"58c692629251411d620170a7\", \"department\": \"Art\", \"gender\": 0, \"id\": 1171098, \"job\": \"Set Designer\", \"name\": \"Darrell L. Wight\"}, {\"credit_id\": \"58c692f9c3a36840b8016e22\", \"department\": \"Art\", \"gender\": 0, \"id\": 1218986, \"job\": \"Storyboard Designer\", \"name\": \"Bryan Andrews\"}, {\"credit_id\": \"58c6941f9251411d110174ca\", \"department\": \"Costume & Make-Up\", \"gender\": 0, \"id\": 1316599, \"job\": \"Makeup Artist\", \"name\": \"Dennis Liddiard\"}, {\"credit_id\": \"58c6943a9251411d0d01804a\", \"department\": \"Costume & Make-Up\", \"gender\": 0, \"id\": 1319490, \"job\": \"Makeup Artist\", \"name\": \"Kevin Haney\"}, {\"credit_id\": \"58c69244c3a368413b015a23\", \"department\": \"Art\", \"gender\": 0, \"id\": 1334782, \"job\": \"Assistant Art Director\", \"name\": \"Josh Lusby\"}, {\"credit_id\": \"58c69ccec3a36841280156f6\", \"department\": \"Art\", \"gender\": 0, \"id\": 1335553, \"job\": \"Property Master\", \"name\": \"Jamie Wilkinson\"}, {\"credit_id\": \"58c69f219251411d190182a8\", \"department\": \"Crew\", \"gender\": 0, \"id\": 1339450, \"job\": \"Thanks\", \"name\": \"Roger Guyett\"}, {\"credit_id\": \"58c69dc79251411d1901819d\", \"department\": \"Crew\", \"gender\": 0, \"id\": 1357070, \"job\": \"Transportation Coordinator\", \"name\": \"Denny Caira\"}, {\"credit_id\": \"58c688709251411d3001684b\", \"department\": \"Visual Effects\", \"gender\": 0, \"id\": 1367497, \"job\": \"Visual Effects Supervisor\", \"name\": \"Sue Rowe\"}, {\"credit_id\": \"58c69ca79251411d11017a77\", \"department\": \"Production\", \"gender\": 0, \"id\": 1374469, \"job\": \"Casting Assistant\", \"name\": \"Toby Spigel\"}, {\"credit_id\": \"58c69aa59251411d11017919\", \"department\": \"Editing\", \"gender\": 0, \"id\": 1376901, \"job\": \"Dialogue Editor\", \"name\": \"Marshall Winn\"}, {\"credit_id\": \"58c68ee9c3a3684128014e36\", \"department\": \"Sound\", \"gender\": 0, \"id\": 1378828, \"job\": \"Sound Re-Recording Mixer\", \"name\": \"Michael Semanick\"}, {\"credit_id\": \"58c692389251411d30016ea2\", \"department\": \"Art\", \"gender\": 0, \"id\": 1388850, \"job\": \"Assistant Art Director\", \"name\": \"Peter Dorme\"}, {\"credit_id\": \"58c69cf49251411d4701890b\", \"department\": \"Lighting\", \"gender\": 0, \"id\": 1390367, \"job\": \"Gaffer\", \"name\": \"Perry Evans\"}, {\"credit_id\": \"58c699f4c3a368413b015f45\", \"department\": \"Directing\", \"gender\": 0, \"id\": 1390388, \"job\": \"Script Supervisor\", \"name\": \"Annie Penn\"}, {\"credit_id\": \"58c69a7ac3a368410c016254\", \"department\": \"Sound\", \"gender\": 0, \"id\": 1394129, \"job\": \"Sound Designer\", \"name\": \"Tim Nielsen\"}, {\"credit_id\": \"58c68edec3a3684114014f16\", \"department\": \"Sound\", \"gender\": 0, \"id\": 1394129, \"job\": \"Supervising Sound Editor\", \"name\": \"Tim Nielsen\"}, {\"credit_id\": \"58c6928f9251411d55017337\", \"department\": \"Art\", \"gender\": 0, \"id\": 1395430, \"job\": \"Art Department Coordinator\", \"name\": \"Jenne Lee\"}, {\"credit_id\": \"58c6925b9251411d150174df\", \"department\": \"Art\", \"gender\": 0, \"id\": 1395435, \"job\": \"Set Designer\", \"name\": \"Theodore Sharps\"}, {\"credit_id\": \"58c691c4c3a36840f6015583\", \"department\": \"Art\", \"gender\": 0, \"id\": 1397837, \"job\": \"Art Direction\", \"name\": \"Joseph Hodges\"}, {\"credit_id\": \"58c699489251411d300172de\", \"department\": \"Camera\", \"gender\": 0, \"id\": 1399467, \"job\": \"Camera Operator\", \"name\": \"Philippe Carr-Forster\"}, {\"credit_id\": \"58c69cfdc3a368413b016165\", \"department\": \"Lighting\", \"gender\": 0, \"id\": 1399475, \"job\": \"Gaffer\", \"name\": \"Christopher Prampin\"}, {\"credit_id\": \"58c69920c3a36841300154e2\", \"department\": \"Camera\", \"gender\": 0, \"id\": 1400535, \"job\": \"Camera Operator\", \"name\": \"Colin Anderson\"}, {\"credit_id\": \"58c699259251411d620174e9\", \"department\": \"Camera\", \"gender\": 0, \"id\": 1400535, \"job\": \"Steadicam Operator\", \"name\": \"Colin Anderson\"}, {\"credit_id\": \"58c699ebc3a368411401561c\", \"department\": \"Production\", \"gender\": 0, \"id\": 1401784, \"job\": \"Production Supervisor\", \"name\": \"Jennifer Teves\"}, {\"credit_id\": \"58c6935ec3a368413b015ae4\", \"department\": \"Costume & Make-Up\", \"gender\": 0, \"id\": 1403388, \"job\": \"Key Makeup Artist\", \"name\": \"Kim Ayers\"}, {\"credit_id\": \"58c68e49c3a368413b0157eb\", \"department\": \"Visual Effects\", \"gender\": 0, \"id\": 1408379, \"job\": \"Visual Effects Producer\", \"name\": \"Daniel Barrow\"}, {\"credit_id\": \"58c6936fc3a368413b015aed\", \"department\": \"Costume & Make-Up\", \"gender\": 0, \"id\": 1409757, \"job\": \"Key Makeup Artist\", \"name\": \"Debbi Salmon\"}, {\"credit_id\": \"58c69339c3a36841200154c4\", \"department\": \"Costume & Make-Up\", \"gender\": 0, \"id\": 1411320, \"job\": \"Key Makeup Artist\", \"name\": \"Paula Price\"}, {\"credit_id\": \"58c69dba9251411d0d018767\", \"department\": \"Camera\", \"gender\": 0, \"id\": 1412205, \"job\": \"Still Photographer\", \"name\": \"Frank Connor\"}, {\"credit_id\": \"58c69a89c3a3684114015691\", \"department\": \"Sound\", \"gender\": 0, \"id\": 1414177, \"job\": \"Sound Effects Editor\", \"name\": \"J.R. Grubbs\"}, {\"credit_id\": \"58c69452c3a36840f6015741\", \"department\": \"Costume & Make-Up\", \"gender\": 0, \"id\": 1414539, \"job\": \"Makeup Artist\", \"name\": \"Deborah Rutherford\"}, {\"credit_id\": \"58c6946c9251411d15017617\", \"department\": \"Costume & Make-Up\", \"gender\": 0, \"id\": 1414540, \"job\": \"Makeup Artist\", \"name\": \"Don Rutherford\"}, {\"credit_id\": \"58c69a929251411d11017907\", \"department\": \"Sound\", \"gender\": 0, \"id\": 1415464, \"job\": \"Sound Effects Editor\", \"name\": \"Malcolm Fife\"}, {\"credit_id\": \"58c6923e9251411d11017382\", \"department\": \"Art\", \"gender\": 0, \"id\": 1417396, \"job\": \"Assistant Art Director\", \"name\": \"Toby Britton\"}, {\"credit_id\": \"58c69866c3a368413001545d\", \"department\": \"Costume & Make-Up\", \"gender\": 0, \"id\": 1418124, \"job\": \"Hair Designer\", \"name\": \"Kevin Alexander\"}, {\"credit_id\": \"58c693779251411d470181e4\", \"department\": \"Costume & Make-Up\", \"gender\": 0, \"id\": 1421936, \"job\": \"Key Makeup Artist\", \"name\": \"Kristie Matthiae\"}, {\"credit_id\": \"58c694a99251411d15017646\", \"department\": \"Costume & Make-Up\", \"gender\": 0, \"id\": 1424151, \"job\": \"Makeup Artist\", \"name\": \"Gerald Quist\"}, {\"credit_id\": \"58c693f39251411d110174a9\", \"department\": \"Costume & Make-Up\", \"gender\": 0, \"id\": 1425411, \"job\": \"Makeup Artist\", \"name\": \"Nuria Mbomio\"}, {\"credit_id\": \"58c68866c3a368413b015367\", \"department\": \"Visual Effects\", \"gender\": 0, \"id\": 1428901, \"job\": \"Animation Supervisor\", \"name\": \"Eamonn Butler\"}, {\"credit_id\": \"58c68ec89251411d11017191\", \"department\": \"Crew\", \"gender\": 0, \"id\": 1428905, \"job\": \"Visual Effects Editor\", \"name\": \"Laura Jennings\"}, {\"credit_id\": \"58c693919251411d0d017fde\", \"department\": \"Costume & Make-Up\", \"gender\": 0, \"id\": 1428911, \"job\": \"Makeup Artist\", \"name\": \"Ailbhe Lemass\"}, {\"credit_id\": \"58c6992f9251411d19017e49\", \"department\": \"Camera\", \"gender\": 0, \"id\": 1430188, \"job\": \"Camera Operator\", \"name\": \"Simon Finney\"}, {\"credit_id\": \"58c6948b9251411d15017628\", \"department\": \"Costume & Make-Up\", \"gender\": 0, \"id\": 1441176, \"job\": \"Makeup Artist\", \"name\": \"Eryn Krueger Mekash\"}, {\"credit_id\": \"58c692ddc3a368413b015a8d\", \"department\": \"Art\", \"gender\": 0, \"id\": 1447571, \"job\": \"Art Department Assistant\", \"name\": \"Travis Witkowski\"}, {\"credit_id\": \"58c694809251411d15017622\", \"department\": \"Costume & Make-Up\", \"gender\": 0, \"id\": 1458894, \"job\": \"Makeup Artist\", \"name\": \"Mike Mekash\"}, {\"credit_id\": \"58c6940e9251411d19017aad\", \"department\": \"Costume & Make-Up\", \"gender\": 0, \"id\": 1530220, \"job\": \"Makeup Artist\", \"name\": \"Kirstin Chalmers\"}, {\"credit_id\": \"58c698e89251411d5501777a\", \"department\": \"Costume & Make-Up\", \"gender\": 0, \"id\": 1532325, \"job\": \"Key Costumer\", \"name\": \"Kacie Seamons\"}, {\"credit_id\": \"58c693b39251411d30016f78\", \"department\": \"Costume & Make-Up\", \"gender\": 0, \"id\": 1536539, \"job\": \"Makeup Artist\", \"name\": \"Deborah Taylor\"}, {\"credit_id\": \"58c68e84c3a36840f60153a1\", \"department\": \"Crew\", \"gender\": 0, \"id\": 1546844, \"job\": \"Visual Effects Art Director\", \"name\": \"Ryan Church\"}, {\"credit_id\": \"58c693659251411d550173be\", \"department\": \"Costume & Make-Up\", \"gender\": 0, \"id\": 1549655, \"job\": \"Key Makeup Artist\", \"name\": \"Camille Henderson\"}, {\"credit_id\": \"58c68fd29251411d30016d3f\", \"department\": \"Crew\", \"gender\": 0, \"id\": 1550851, \"job\": \"Stunt Coordinator\", \"name\": \"Tom Struthers\"}, {\"credit_id\": \"58c692bfc3a36840b8016df9\", \"department\": \"Art\", \"gender\": 0, \"id\": 1551810, \"job\": \"Art Department Assistant\", \"name\": \"Liam Georgensen\"}, {\"credit_id\": \"58c692869251411d30016ed9\", \"department\": \"Art\", \"gender\": 0, \"id\": 1561994, \"job\": \"Art Department Coordinator\", \"name\": \"Lavinia Waters\"}, {\"credit_id\": \"58c697f89251411d30017205\", \"department\": \"Costume & Make-Up\", \"gender\": 0, \"id\": 1613336, \"job\": \"Makeup Artist\", \"name\": \"Greg T. Moon\"}, {\"credit_id\": \"58c69a07c3a36841200159ae\", \"department\": \"Production\", \"gender\": 0, \"id\": 1640350, \"job\": \"Production Coordinator\", \"name\": \"Richard Daldry\"}, {\"credit_id\": \"58c69979c3a368413b015eef\", \"department\": \"Sound\", \"gender\": 2, \"id\": 1658269, \"job\": \"Boom Operator\", \"name\": \"Stephen Finn\"}, {\"credit_id\": \"58c692e4c3a36840f601564a\", \"department\": \"Art\", \"gender\": 0, \"id\": 1661321, \"job\": \"Art Department Assistant\", \"name\": \"Tom Castronovo\"}, {\"credit_id\": \"58c69dadc3a36841280157a4\", \"department\": \"Crew\", \"gender\": 0, \"id\": 1686002, \"job\": \"Unit Publicist\", \"name\": \"Katherine McCormack\"}, {\"credit_id\": \"58c689439251411d15016ed6\", \"department\": \"Production\", \"gender\": 0, \"id\": 1697623, \"job\": \"Unit Production Manager\", \"name\": \"Steve Harding\"}, {\"credit_id\": \"58c68ebdc3a3684128014e11\", \"department\": \"Editing\", \"gender\": 0, \"id\": 1710258, \"job\": \"Additional Editing\", \"name\": \"Erik Jessen\"}, {\"credit_id\": \"58c689739251411d47017af1\", \"department\": \"Directing\", \"gender\": 0, \"id\": 1750922, \"job\": \"First Assistant Director\", \"name\": \"Tommy Gormley\"}, {\"credit_id\": \"58c692c7c3a36841300150c2\", \"department\": \"Art\", \"gender\": 0, \"id\": 1761112, \"job\": \"Art Department Assistant\", \"name\": \"Sarah Ginn\"}, {\"credit_id\": \"58c689aa9251411d55016d59\", \"department\": \"Directing\", \"gender\": 0, \"id\": 1775681, \"job\": \"Second Assistant Director\", \"name\": \"Ben Dixon\"}, {\"credit_id\": \"58c68a859251411d1901746d\", \"department\": \"Directing\", \"gender\": 2, \"id\": 1775682, \"job\": \"Second Assistant Director\", \"name\": \"Andrew M. Ward\"}, {\"credit_id\": \"58c692a4c3a368413b015a64\", \"department\": \"Art\", \"gender\": 0, \"id\": 1775687, \"job\": \"Art Department Coordinator\", \"name\": \"Stacey Newton\"}, {\"credit_id\": \"58c692b6c3a368412001546d\", \"department\": \"Art\", \"gender\": 0, \"id\": 1775688, \"job\": \"Art Department Assistant\", \"name\": \"Rachel Corbould\"}, {\"credit_id\": \"58c692d4c3a368413b015a88\", \"department\": \"Art\", \"gender\": 0, \"id\": 1775689, \"job\": \"Art Department Assistant\", \"name\": \"Jake Hall\"}, {\"credit_id\": \"58c693589251411d0d017fb3\", \"department\": \"Costume & Make-Up\", \"gender\": 0, \"id\": 1775690, \"job\": \"Key Makeup Artist\", \"name\": \"Gemma Richards\"}, {\"credit_id\": \"58c693fe9251411d55017423\", \"department\": \"Costume & Make-Up\", \"gender\": 0, \"id\": 1775691, \"job\": \"Makeup Artist\", \"name\": \"Sara Riesel\"}, {\"credit_id\": \"58c69407c3a368413b015b42\", \"department\": \"Costume & Make-Up\", \"gender\": 0, \"id\": 1775692, \"job\": \"Makeup Artist\", \"name\": \"Paul Boyce\"}, {\"credit_id\": \"58c694189251411d19017ab6\", \"department\": \"Costume & Make-Up\", \"gender\": 0, \"id\": 1775693, \"job\": \"Makeup Artist\", \"name\": \"Mandy Gold\"}, {\"credit_id\": \"58c698989251411d0d01836e\", \"department\": \"Costume & Make-Up\", \"gender\": 0, \"id\": 1775701, \"job\": \"Hairstylist\", \"name\": \"Candice Banks\"}, {\"credit_id\": \"58c698a59251411d19017de5\", \"department\": \"Costume & Make-Up\", \"gender\": 0, \"id\": 1775702, \"job\": \"Hairstylist\", \"name\": \"Gary Machin\"}, {\"credit_id\": \"58c69994c3a36840b80172dd\", \"department\": \"Sound\", \"gender\": 0, \"id\": 1775704, \"job\": \"Boom Operator\", \"name\": \"Noel Espinosa\"}, {\"credit_id\": \"58c69a309251411d110178c9\", \"department\": \"Production\", \"gender\": 0, \"id\": 1775707, \"job\": \"Production Coordinator\", \"name\": \"Meredith Humbracht\"}, {\"credit_id\": \"58c69d39c3a368410c0163fd\", \"department\": \"Camera\", \"gender\": 0, \"id\": 1775718, \"job\": \"Key Grip\", \"name\": \"Gary Hymns\"}, {\"credit_id\": \"58c69da6c3a368413b01620f\", \"department\": \"Camera\", \"gender\": 0, \"id\": 1775721, \"job\": \"Key Grip\", \"name\": \"Thomas Gibson\"}, {\"credit_id\": \"58c69ec49251411d55017be6\", \"department\": \"Crew\", \"gender\": 0, \"id\": 1775723, \"job\": \"Thanks\", \"name\": \"Danton Burroughs\"}, {\"credit_id\": \"591264bac3a368646b04fda5\", \"department\": \"Crew\", \"gender\": 1, \"id\": 1813644, \"job\": \"Stunts\", \"name\": \"Karin Silvestri\"}]'],\n",
       "      dtype=object)"
      ]
     },
     "execution_count": 5,
     "metadata": {},
     "output_type": "execute_result"
    }
   ],
   "source": [
    "credits.head(5)['crew'].values\n",
    "# show 1 crew values"
   ]
  },
  {
   "attachments": {},
   "cell_type": "markdown",
   "id": "eee95d6e",
   "metadata": {},
   "source": [
    "Marge 2 dataset"
   ]
  },
  {
   "cell_type": "code",
   "execution_count": 6,
   "id": "8c44a76e",
   "metadata": {},
   "outputs": [],
   "source": [
    "#daframe marge code\n",
    "\n",
    "#movies.merge(credits,on='title')\n",
    "#check size\n",
    "# movies.merge(credits,on='title').shape\n",
    "#assign new df in movies\n",
    "movies = movies.merge(credits,on='title')"
   ]
  },
  {
   "cell_type": "code",
   "execution_count": 7,
   "id": "eb0de1ea",
   "metadata": {},
   "outputs": [
    {
     "data": {
      "text/plain": [
       "(4809, 23)"
      ]
     },
     "execution_count": 7,
     "metadata": {},
     "output_type": "execute_result"
    }
   ],
   "source": [
    "#check size\n",
    "movies.shape\n",
    "#credits.shape"
   ]
  },
  {
   "attachments": {},
   "cell_type": "markdown",
   "id": "6e247598",
   "metadata": {},
   "source": [
    "\n",
    "DATA TRIMMING DROP UNWANTED COLUMNS OF MOVIES DATAFRAME"
   ]
  },
  {
   "cell_type": "code",
   "execution_count": 8,
   "id": "19c0ec84",
   "metadata": {},
   "outputs": [
    {
     "name": "stdout",
     "output_type": "stream",
     "text": [
      "<class 'pandas.core.frame.DataFrame'>\n",
      "RangeIndex: 4809 entries, 0 to 4808\n",
      "Data columns (total 23 columns):\n",
      " #   Column                Non-Null Count  Dtype  \n",
      "---  ------                --------------  -----  \n",
      " 0   budget                4809 non-null   int64  \n",
      " 1   genres                4809 non-null   object \n",
      " 2   homepage              1713 non-null   object \n",
      " 3   id                    4809 non-null   int64  \n",
      " 4   keywords              4809 non-null   object \n",
      " 5   original_language     4809 non-null   object \n",
      " 6   original_title        4809 non-null   object \n",
      " 7   overview              4806 non-null   object \n",
      " 8   popularity            4809 non-null   float64\n",
      " 9   production_companies  4809 non-null   object \n",
      " 10  production_countries  4809 non-null   object \n",
      " 11  release_date          4808 non-null   object \n",
      " 12  revenue               4809 non-null   int64  \n",
      " 13  runtime               4807 non-null   float64\n",
      " 14  spoken_languages      4809 non-null   object \n",
      " 15  status                4809 non-null   object \n",
      " 16  tagline               3965 non-null   object \n",
      " 17  title                 4809 non-null   object \n",
      " 18  vote_average          4809 non-null   float64\n",
      " 19  vote_count            4809 non-null   int64  \n",
      " 20  movie_id              4809 non-null   int64  \n",
      " 21  cast                  4809 non-null   object \n",
      " 22  crew                  4809 non-null   object \n",
      "dtypes: float64(3), int64(5), object(15)\n",
      "memory usage: 864.2+ KB\n"
     ]
    }
   ],
   "source": [
    "#df info\n",
    "movies.info()"
   ]
  },
  {
   "cell_type": "code",
   "execution_count": 9,
   "id": "a759bc73",
   "metadata": {},
   "outputs": [],
   "source": [
    "#movies_id\n",
    "#title\n",
    "#genres\n",
    "#keywords\n",
    "#overview\n",
    "#cast\n",
    "#crew"
   ]
  },
  {
   "cell_type": "code",
   "execution_count": 10,
   "id": "43c61711",
   "metadata": {},
   "outputs": [],
   "source": [
    "#storing only prefered columns back into movies df\n",
    "movies = movies[['movie_id','title','genres','overview','keywords','cast','crew']]"
   ]
  },
  {
   "cell_type": "code",
   "execution_count": 11,
   "id": "fbd36b6b",
   "metadata": {},
   "outputs": [
    {
     "name": "stdout",
     "output_type": "stream",
     "text": [
      "<class 'pandas.core.frame.DataFrame'>\n",
      "RangeIndex: 4809 entries, 0 to 4808\n",
      "Data columns (total 7 columns):\n",
      " #   Column    Non-Null Count  Dtype \n",
      "---  ------    --------------  ----- \n",
      " 0   movie_id  4809 non-null   int64 \n",
      " 1   title     4809 non-null   object\n",
      " 2   genres    4809 non-null   object\n",
      " 3   overview  4806 non-null   object\n",
      " 4   keywords  4809 non-null   object\n",
      " 5   cast      4809 non-null   object\n",
      " 6   crew      4809 non-null   object\n",
      "dtypes: int64(1), object(6)\n",
      "memory usage: 263.1+ KB\n"
     ]
    }
   ],
   "source": [
    "#df info\n",
    "movies.info()"
   ]
  },
  {
   "cell_type": "code",
   "execution_count": 12,
   "id": "4ee2beff",
   "metadata": {},
   "outputs": [
    {
     "data": {
      "text/html": [
       "<div>\n",
       "<style scoped>\n",
       "    .dataframe tbody tr th:only-of-type {\n",
       "        vertical-align: middle;\n",
       "    }\n",
       "\n",
       "    .dataframe tbody tr th {\n",
       "        vertical-align: top;\n",
       "    }\n",
       "\n",
       "    .dataframe thead th {\n",
       "        text-align: right;\n",
       "    }\n",
       "</style>\n",
       "<table border=\"1\" class=\"dataframe\">\n",
       "  <thead>\n",
       "    <tr style=\"text-align: right;\">\n",
       "      <th></th>\n",
       "      <th>movie_id</th>\n",
       "      <th>title</th>\n",
       "      <th>genres</th>\n",
       "      <th>overview</th>\n",
       "      <th>keywords</th>\n",
       "      <th>cast</th>\n",
       "      <th>crew</th>\n",
       "    </tr>\n",
       "  </thead>\n",
       "  <tbody>\n",
       "    <tr>\n",
       "      <th>0</th>\n",
       "      <td>19995</td>\n",
       "      <td>Avatar</td>\n",
       "      <td>[{\"id\": 28, \"name\": \"Action\"}, {\"id\": 12, \"nam...</td>\n",
       "      <td>In the 22nd century, a paraplegic Marine is di...</td>\n",
       "      <td>[{\"id\": 1463, \"name\": \"culture clash\"}, {\"id\":...</td>\n",
       "      <td>[{\"cast_id\": 242, \"character\": \"Jake Sully\", \"...</td>\n",
       "      <td>[{\"credit_id\": \"52fe48009251416c750aca23\", \"de...</td>\n",
       "    </tr>\n",
       "  </tbody>\n",
       "</table>\n",
       "</div>"
      ],
      "text/plain": [
       "   movie_id   title                                             genres   \n",
       "0     19995  Avatar  [{\"id\": 28, \"name\": \"Action\"}, {\"id\": 12, \"nam...  \\\n",
       "\n",
       "                                            overview   \n",
       "0  In the 22nd century, a paraplegic Marine is di...  \\\n",
       "\n",
       "                                            keywords   \n",
       "0  [{\"id\": 1463, \"name\": \"culture clash\"}, {\"id\":...  \\\n",
       "\n",
       "                                                cast   \n",
       "0  [{\"cast_id\": 242, \"character\": \"Jake Sully\", \"...  \\\n",
       "\n",
       "                                                crew  \n",
       "0  [{\"credit_id\": \"52fe48009251416c750aca23\", \"de...  "
      ]
     },
     "execution_count": 12,
     "metadata": {},
     "output_type": "execute_result"
    }
   ],
   "source": [
    "movies.head(1)"
   ]
  },
  {
   "attachments": {},
   "cell_type": "markdown",
   "id": "749a64b7",
   "metadata": {},
   "source": [
    "Data Preprocessing\n"
   ]
  },
  {
   "cell_type": "code",
   "execution_count": 13,
   "id": "c9de027c",
   "metadata": {},
   "outputs": [
    {
     "data": {
      "text/plain": [
       "movie_id    0\n",
       "title       0\n",
       "genres      0\n",
       "overview    3\n",
       "keywords    0\n",
       "cast        0\n",
       "crew        0\n",
       "dtype: int64"
      ]
     },
     "execution_count": 13,
     "metadata": {},
     "output_type": "execute_result"
    }
   ],
   "source": [
    "#check for missing data\n",
    "movies.isnull().sum()"
   ]
  },
  {
   "cell_type": "code",
   "execution_count": 14,
   "id": "ca1aa1e6",
   "metadata": {},
   "outputs": [],
   "source": [
    "#Drop missing datas\n",
    "movies.dropna(inplace=True)"
   ]
  },
  {
   "cell_type": "code",
   "execution_count": 15,
   "id": "4568a786",
   "metadata": {},
   "outputs": [
    {
     "data": {
      "text/plain": [
       "0"
      ]
     },
     "execution_count": 15,
     "metadata": {},
     "output_type": "execute_result"
    }
   ],
   "source": [
    "#Check for duplicate data\n",
    "movies.duplicated().sum()"
   ]
  },
  {
   "cell_type": "code",
   "execution_count": 16,
   "id": "916611c2",
   "metadata": {},
   "outputs": [
    {
     "data": {
      "text/plain": [
       "'[{\"id\": 28, \"name\": \"Action\"}, {\"id\": 12, \"name\": \"Adventure\"}, {\"id\": 14, \"name\": \"Fantasy\"}, {\"id\": 878, \"name\": \"Science Fiction\"}]'"
      ]
     },
     "execution_count": 16,
     "metadata": {},
     "output_type": "execute_result"
    }
   ],
   "source": [
    "#Check data\n",
    "movies.iloc[0].genres"
   ]
  },
  {
   "attachments": {},
   "cell_type": "markdown",
   "id": "1394592e",
   "metadata": {},
   "source": [
    "Preprocessing\n",
    "\n"
   ]
  },
  {
   "cell_type": "code",
   "execution_count": 17,
   "id": "adf62995",
   "metadata": {},
   "outputs": [],
   "source": [
    "#GOAL\n",
    "#'[{\"id\": 28, \"name\": \"Action\"}, {\"id\": 12, \"name\": \"Adventure\"}, {\"id\": 14, \"name\": \"Fantasy\"}, {\"id\": 878, \"name\": \"Science Fiction\"}]'\n",
    "#['Action','Adventure','Fantacy']"
   ]
  },
  {
   "cell_type": "code",
   "execution_count": 18,
   "id": "055a0948",
   "metadata": {},
   "outputs": [
    {
     "data": {
      "text/plain": [
       "[{'id': 28, 'name': 'Action'},\n",
       " {'id': 12, 'name': 'Adventure'},\n",
       " {'id': 14, 'name': 'Fantasy'},\n",
       " {'id': 878, 'name': 'Science Fiction'}]"
      ]
     },
     "execution_count": 18,
     "metadata": {},
     "output_type": "execute_result"
    }
   ],
   "source": [
    "#Convert string of list to list \n",
    "import ast\n",
    "ast.literal_eval('[{\"id\": 28, \"name\": \"Action\"}, {\"id\": 12, \"name\": \"Adventure\"}, {\"id\": 14, \"name\": \"Fantasy\"}, {\"id\": 878, \"name\": \"Science Fiction\"}]')"
   ]
  },
  {
   "cell_type": "code",
   "execution_count": 19,
   "id": "822e2209",
   "metadata": {},
   "outputs": [],
   "source": [
    "#helper function\n",
    "def converttoL(obj):\n",
    "    L= []\n",
    "    for i in ast.literal_eval(obj): #using ast literal_eval function from string = list\n",
    "        L.append(i['name'])\n",
    "    return L    "
   ]
  },
  {
   "cell_type": "code",
   "execution_count": 20,
   "id": "0213b121",
   "metadata": {},
   "outputs": [],
   "source": [
    "#converting genres to a list from string\n",
    "movies['genres'] = movies['genres'].apply(converttoL) "
   ]
  },
  {
   "cell_type": "code",
   "execution_count": 21,
   "id": "4e37ced7",
   "metadata": {},
   "outputs": [
    {
     "data": {
      "text/html": [
       "<div>\n",
       "<style scoped>\n",
       "    .dataframe tbody tr th:only-of-type {\n",
       "        vertical-align: middle;\n",
       "    }\n",
       "\n",
       "    .dataframe tbody tr th {\n",
       "        vertical-align: top;\n",
       "    }\n",
       "\n",
       "    .dataframe thead th {\n",
       "        text-align: right;\n",
       "    }\n",
       "</style>\n",
       "<table border=\"1\" class=\"dataframe\">\n",
       "  <thead>\n",
       "    <tr style=\"text-align: right;\">\n",
       "      <th></th>\n",
       "      <th>movie_id</th>\n",
       "      <th>title</th>\n",
       "      <th>genres</th>\n",
       "      <th>overview</th>\n",
       "      <th>keywords</th>\n",
       "      <th>cast</th>\n",
       "      <th>crew</th>\n",
       "    </tr>\n",
       "  </thead>\n",
       "  <tbody>\n",
       "    <tr>\n",
       "      <th>0</th>\n",
       "      <td>19995</td>\n",
       "      <td>Avatar</td>\n",
       "      <td>[Action, Adventure, Fantasy, Science Fiction]</td>\n",
       "      <td>In the 22nd century, a paraplegic Marine is di...</td>\n",
       "      <td>[{\"id\": 1463, \"name\": \"culture clash\"}, {\"id\":...</td>\n",
       "      <td>[{\"cast_id\": 242, \"character\": \"Jake Sully\", \"...</td>\n",
       "      <td>[{\"credit_id\": \"52fe48009251416c750aca23\", \"de...</td>\n",
       "    </tr>\n",
       "  </tbody>\n",
       "</table>\n",
       "</div>"
      ],
      "text/plain": [
       "   movie_id   title                                         genres   \n",
       "0     19995  Avatar  [Action, Adventure, Fantasy, Science Fiction]  \\\n",
       "\n",
       "                                            overview   \n",
       "0  In the 22nd century, a paraplegic Marine is di...  \\\n",
       "\n",
       "                                            keywords   \n",
       "0  [{\"id\": 1463, \"name\": \"culture clash\"}, {\"id\":...  \\\n",
       "\n",
       "                                                cast   \n",
       "0  [{\"cast_id\": 242, \"character\": \"Jake Sully\", \"...  \\\n",
       "\n",
       "                                                crew  \n",
       "0  [{\"credit_id\": \"52fe48009251416c750aca23\", \"de...  "
      ]
     },
     "execution_count": 21,
     "metadata": {},
     "output_type": "execute_result"
    }
   ],
   "source": [
    "movies.head(1)"
   ]
  },
  {
   "cell_type": "code",
   "execution_count": 22,
   "id": "edb0618e",
   "metadata": {},
   "outputs": [],
   "source": [
    "#converting keywords to a list from string\n",
    "movies['keywords'] = movies['keywords'].apply(converttoL) "
   ]
  },
  {
   "cell_type": "code",
   "execution_count": 23,
   "id": "30714ca2",
   "metadata": {},
   "outputs": [
    {
     "data": {
      "text/html": [
       "<div>\n",
       "<style scoped>\n",
       "    .dataframe tbody tr th:only-of-type {\n",
       "        vertical-align: middle;\n",
       "    }\n",
       "\n",
       "    .dataframe tbody tr th {\n",
       "        vertical-align: top;\n",
       "    }\n",
       "\n",
       "    .dataframe thead th {\n",
       "        text-align: right;\n",
       "    }\n",
       "</style>\n",
       "<table border=\"1\" class=\"dataframe\">\n",
       "  <thead>\n",
       "    <tr style=\"text-align: right;\">\n",
       "      <th></th>\n",
       "      <th>movie_id</th>\n",
       "      <th>title</th>\n",
       "      <th>genres</th>\n",
       "      <th>overview</th>\n",
       "      <th>keywords</th>\n",
       "      <th>cast</th>\n",
       "      <th>crew</th>\n",
       "    </tr>\n",
       "  </thead>\n",
       "  <tbody>\n",
       "    <tr>\n",
       "      <th>0</th>\n",
       "      <td>19995</td>\n",
       "      <td>Avatar</td>\n",
       "      <td>[Action, Adventure, Fantasy, Science Fiction]</td>\n",
       "      <td>In the 22nd century, a paraplegic Marine is di...</td>\n",
       "      <td>[culture clash, future, space war, space colon...</td>\n",
       "      <td>[{\"cast_id\": 242, \"character\": \"Jake Sully\", \"...</td>\n",
       "      <td>[{\"credit_id\": \"52fe48009251416c750aca23\", \"de...</td>\n",
       "    </tr>\n",
       "  </tbody>\n",
       "</table>\n",
       "</div>"
      ],
      "text/plain": [
       "   movie_id   title                                         genres   \n",
       "0     19995  Avatar  [Action, Adventure, Fantasy, Science Fiction]  \\\n",
       "\n",
       "                                            overview   \n",
       "0  In the 22nd century, a paraplegic Marine is di...  \\\n",
       "\n",
       "                                            keywords   \n",
       "0  [culture clash, future, space war, space colon...  \\\n",
       "\n",
       "                                                cast   \n",
       "0  [{\"cast_id\": 242, \"character\": \"Jake Sully\", \"...  \\\n",
       "\n",
       "                                                crew  \n",
       "0  [{\"credit_id\": \"52fe48009251416c750aca23\", \"de...  "
      ]
     },
     "execution_count": 23,
     "metadata": {},
     "output_type": "execute_result"
    }
   ],
   "source": [
    "movies.head(1)"
   ]
  },
  {
   "cell_type": "code",
   "execution_count": 24,
   "id": "2a9d8cd8",
   "metadata": {},
   "outputs": [],
   "source": [
    "#helper function\n",
    "def convertcast(obj):\n",
    "    L= []\n",
    "    counter = 0\n",
    "    for i in ast.literal_eval(obj): #using ast literal_eval function from string = list\n",
    "        if counter !=4: #looping for 4 cast only\n",
    "            L.append(i['name'])\n",
    "            counter +=1\n",
    "        else:\n",
    "             break\n",
    "    return L    "
   ]
  },
  {
   "cell_type": "code",
   "execution_count": 25,
   "id": "2bf76c98",
   "metadata": {},
   "outputs": [],
   "source": [
    "#converting casts to a list from string\n",
    "movies['cast'] = movies['cast'].apply(convertcast) "
   ]
  },
  {
   "cell_type": "code",
   "execution_count": 26,
   "id": "9436448f",
   "metadata": {},
   "outputs": [
    {
     "data": {
      "text/plain": [
       "['Sam Worthington', 'Zoe Saldana', 'Sigourney Weaver', 'Stephen Lang']"
      ]
     },
     "execution_count": 26,
     "metadata": {},
     "output_type": "execute_result"
    }
   ],
   "source": [
    "movies['cast'][0]"
   ]
  },
  {
   "cell_type": "code",
   "execution_count": 27,
   "id": "324514bd",
   "metadata": {},
   "outputs": [
    {
     "data": {
      "text/html": [
       "<div>\n",
       "<style scoped>\n",
       "    .dataframe tbody tr th:only-of-type {\n",
       "        vertical-align: middle;\n",
       "    }\n",
       "\n",
       "    .dataframe tbody tr th {\n",
       "        vertical-align: top;\n",
       "    }\n",
       "\n",
       "    .dataframe thead th {\n",
       "        text-align: right;\n",
       "    }\n",
       "</style>\n",
       "<table border=\"1\" class=\"dataframe\">\n",
       "  <thead>\n",
       "    <tr style=\"text-align: right;\">\n",
       "      <th></th>\n",
       "      <th>movie_id</th>\n",
       "      <th>title</th>\n",
       "      <th>genres</th>\n",
       "      <th>overview</th>\n",
       "      <th>keywords</th>\n",
       "      <th>cast</th>\n",
       "      <th>crew</th>\n",
       "    </tr>\n",
       "  </thead>\n",
       "  <tbody>\n",
       "    <tr>\n",
       "      <th>0</th>\n",
       "      <td>19995</td>\n",
       "      <td>Avatar</td>\n",
       "      <td>[Action, Adventure, Fantasy, Science Fiction]</td>\n",
       "      <td>In the 22nd century, a paraplegic Marine is di...</td>\n",
       "      <td>[culture clash, future, space war, space colon...</td>\n",
       "      <td>[Sam Worthington, Zoe Saldana, Sigourney Weave...</td>\n",
       "      <td>[{\"credit_id\": \"52fe48009251416c750aca23\", \"de...</td>\n",
       "    </tr>\n",
       "    <tr>\n",
       "      <th>1</th>\n",
       "      <td>285</td>\n",
       "      <td>Pirates of the Caribbean: At World's End</td>\n",
       "      <td>[Adventure, Fantasy, Action]</td>\n",
       "      <td>Captain Barbossa, long believed to be dead, ha...</td>\n",
       "      <td>[ocean, drug abuse, exotic island, east india ...</td>\n",
       "      <td>[Johnny Depp, Orlando Bloom, Keira Knightley, ...</td>\n",
       "      <td>[{\"credit_id\": \"52fe4232c3a36847f800b579\", \"de...</td>\n",
       "    </tr>\n",
       "    <tr>\n",
       "      <th>2</th>\n",
       "      <td>206647</td>\n",
       "      <td>Spectre</td>\n",
       "      <td>[Action, Adventure, Crime]</td>\n",
       "      <td>A cryptic message from Bond’s past sends him o...</td>\n",
       "      <td>[spy, based on novel, secret agent, sequel, mi...</td>\n",
       "      <td>[Daniel Craig, Christoph Waltz, Léa Seydoux, R...</td>\n",
       "      <td>[{\"credit_id\": \"54805967c3a36829b5002c41\", \"de...</td>\n",
       "    </tr>\n",
       "    <tr>\n",
       "      <th>3</th>\n",
       "      <td>49026</td>\n",
       "      <td>The Dark Knight Rises</td>\n",
       "      <td>[Action, Crime, Drama, Thriller]</td>\n",
       "      <td>Following the death of District Attorney Harve...</td>\n",
       "      <td>[dc comics, crime fighter, terrorist, secret i...</td>\n",
       "      <td>[Christian Bale, Michael Caine, Gary Oldman, A...</td>\n",
       "      <td>[{\"credit_id\": \"52fe4781c3a36847f81398c3\", \"de...</td>\n",
       "    </tr>\n",
       "    <tr>\n",
       "      <th>4</th>\n",
       "      <td>49529</td>\n",
       "      <td>John Carter</td>\n",
       "      <td>[Action, Adventure, Science Fiction]</td>\n",
       "      <td>John Carter is a war-weary, former military ca...</td>\n",
       "      <td>[based on novel, mars, medallion, space travel...</td>\n",
       "      <td>[Taylor Kitsch, Lynn Collins, Samantha Morton,...</td>\n",
       "      <td>[{\"credit_id\": \"52fe479ac3a36847f813eaa3\", \"de...</td>\n",
       "    </tr>\n",
       "  </tbody>\n",
       "</table>\n",
       "</div>"
      ],
      "text/plain": [
       "   movie_id                                     title   \n",
       "0     19995                                    Avatar  \\\n",
       "1       285  Pirates of the Caribbean: At World's End   \n",
       "2    206647                                   Spectre   \n",
       "3     49026                     The Dark Knight Rises   \n",
       "4     49529                               John Carter   \n",
       "\n",
       "                                          genres   \n",
       "0  [Action, Adventure, Fantasy, Science Fiction]  \\\n",
       "1                   [Adventure, Fantasy, Action]   \n",
       "2                     [Action, Adventure, Crime]   \n",
       "3               [Action, Crime, Drama, Thriller]   \n",
       "4           [Action, Adventure, Science Fiction]   \n",
       "\n",
       "                                            overview   \n",
       "0  In the 22nd century, a paraplegic Marine is di...  \\\n",
       "1  Captain Barbossa, long believed to be dead, ha...   \n",
       "2  A cryptic message from Bond’s past sends him o...   \n",
       "3  Following the death of District Attorney Harve...   \n",
       "4  John Carter is a war-weary, former military ca...   \n",
       "\n",
       "                                            keywords   \n",
       "0  [culture clash, future, space war, space colon...  \\\n",
       "1  [ocean, drug abuse, exotic island, east india ...   \n",
       "2  [spy, based on novel, secret agent, sequel, mi...   \n",
       "3  [dc comics, crime fighter, terrorist, secret i...   \n",
       "4  [based on novel, mars, medallion, space travel...   \n",
       "\n",
       "                                                cast   \n",
       "0  [Sam Worthington, Zoe Saldana, Sigourney Weave...  \\\n",
       "1  [Johnny Depp, Orlando Bloom, Keira Knightley, ...   \n",
       "2  [Daniel Craig, Christoph Waltz, Léa Seydoux, R...   \n",
       "3  [Christian Bale, Michael Caine, Gary Oldman, A...   \n",
       "4  [Taylor Kitsch, Lynn Collins, Samantha Morton,...   \n",
       "\n",
       "                                                crew  \n",
       "0  [{\"credit_id\": \"52fe48009251416c750aca23\", \"de...  \n",
       "1  [{\"credit_id\": \"52fe4232c3a36847f800b579\", \"de...  \n",
       "2  [{\"credit_id\": \"54805967c3a36829b5002c41\", \"de...  \n",
       "3  [{\"credit_id\": \"52fe4781c3a36847f81398c3\", \"de...  \n",
       "4  [{\"credit_id\": \"52fe479ac3a36847f813eaa3\", \"de...  "
      ]
     },
     "execution_count": 27,
     "metadata": {},
     "output_type": "execute_result"
    }
   ],
   "source": [
    "movies.head()"
   ]
  },
  {
   "cell_type": "code",
   "execution_count": 28,
   "id": "e57db11e",
   "metadata": {},
   "outputs": [],
   "source": [
    "#Helper function\n",
    "def fDirector(obj):\n",
    "    L= []\n",
    "    for i in ast.literal_eval(obj): #using ast literal_eval function from string = list\n",
    "        if i['job'] == 'Director':\n",
    "            L.append(i['name'])\n",
    "            break\n",
    "    return L    "
   ]
  },
  {
   "cell_type": "code",
   "execution_count": 29,
   "id": "20a439d6",
   "metadata": {},
   "outputs": [],
   "source": [
    "#converting casts (Director) to a list from string\n",
    "movies['crew'] = movies['crew'].apply(fDirector)"
   ]
  },
  {
   "cell_type": "code",
   "execution_count": 30,
   "id": "47db82d9",
   "metadata": {},
   "outputs": [
    {
     "data": {
      "text/html": [
       "<div>\n",
       "<style scoped>\n",
       "    .dataframe tbody tr th:only-of-type {\n",
       "        vertical-align: middle;\n",
       "    }\n",
       "\n",
       "    .dataframe tbody tr th {\n",
       "        vertical-align: top;\n",
       "    }\n",
       "\n",
       "    .dataframe thead th {\n",
       "        text-align: right;\n",
       "    }\n",
       "</style>\n",
       "<table border=\"1\" class=\"dataframe\">\n",
       "  <thead>\n",
       "    <tr style=\"text-align: right;\">\n",
       "      <th></th>\n",
       "      <th>movie_id</th>\n",
       "      <th>title</th>\n",
       "      <th>genres</th>\n",
       "      <th>overview</th>\n",
       "      <th>keywords</th>\n",
       "      <th>cast</th>\n",
       "      <th>crew</th>\n",
       "    </tr>\n",
       "  </thead>\n",
       "  <tbody>\n",
       "    <tr>\n",
       "      <th>0</th>\n",
       "      <td>19995</td>\n",
       "      <td>Avatar</td>\n",
       "      <td>[Action, Adventure, Fantasy, Science Fiction]</td>\n",
       "      <td>In the 22nd century, a paraplegic Marine is di...</td>\n",
       "      <td>[culture clash, future, space war, space colon...</td>\n",
       "      <td>[Sam Worthington, Zoe Saldana, Sigourney Weave...</td>\n",
       "      <td>[James Cameron]</td>\n",
       "    </tr>\n",
       "  </tbody>\n",
       "</table>\n",
       "</div>"
      ],
      "text/plain": [
       "   movie_id   title                                         genres   \n",
       "0     19995  Avatar  [Action, Adventure, Fantasy, Science Fiction]  \\\n",
       "\n",
       "                                            overview   \n",
       "0  In the 22nd century, a paraplegic Marine is di...  \\\n",
       "\n",
       "                                            keywords   \n",
       "0  [culture clash, future, space war, space colon...  \\\n",
       "\n",
       "                                                cast             crew  \n",
       "0  [Sam Worthington, Zoe Saldana, Sigourney Weave...  [James Cameron]  "
      ]
     },
     "execution_count": 30,
     "metadata": {},
     "output_type": "execute_result"
    }
   ],
   "source": [
    "movies.head(1)"
   ]
  },
  {
   "attachments": {},
   "cell_type": "markdown",
   "id": "fa711827",
   "metadata": {},
   "source": [
    "overview"
   ]
  },
  {
   "cell_type": "code",
   "execution_count": 31,
   "id": "e20d4179",
   "metadata": {},
   "outputs": [
    {
     "data": {
      "text/plain": [
       "'In the 22nd century, a paraplegic Marine is dispatched to the moon Pandora on a unique mission, but becomes torn between following orders and protecting an alien civilization.'"
      ]
     },
     "execution_count": 31,
     "metadata": {},
     "output_type": "execute_result"
    }
   ],
   "source": [
    "movies['overview'][0]\n",
    "#its a string"
   ]
  },
  {
   "cell_type": "code",
   "execution_count": 32,
   "id": "64882ceb",
   "metadata": {},
   "outputs": [],
   "source": [
    "# spliting the overview data into words with lambda split function\n",
    "movies['overview'] = movies['overview'].apply(lambda x:x.split())"
   ]
  },
  {
   "cell_type": "code",
   "execution_count": 33,
   "id": "f4a40bc1",
   "metadata": {},
   "outputs": [
    {
     "data": {
      "text/html": [
       "<div>\n",
       "<style scoped>\n",
       "    .dataframe tbody tr th:only-of-type {\n",
       "        vertical-align: middle;\n",
       "    }\n",
       "\n",
       "    .dataframe tbody tr th {\n",
       "        vertical-align: top;\n",
       "    }\n",
       "\n",
       "    .dataframe thead th {\n",
       "        text-align: right;\n",
       "    }\n",
       "</style>\n",
       "<table border=\"1\" class=\"dataframe\">\n",
       "  <thead>\n",
       "    <tr style=\"text-align: right;\">\n",
       "      <th></th>\n",
       "      <th>movie_id</th>\n",
       "      <th>title</th>\n",
       "      <th>genres</th>\n",
       "      <th>overview</th>\n",
       "      <th>keywords</th>\n",
       "      <th>cast</th>\n",
       "      <th>crew</th>\n",
       "    </tr>\n",
       "  </thead>\n",
       "  <tbody>\n",
       "    <tr>\n",
       "      <th>0</th>\n",
       "      <td>19995</td>\n",
       "      <td>Avatar</td>\n",
       "      <td>[Action, Adventure, Fantasy, Science Fiction]</td>\n",
       "      <td>[In, the, 22nd, century,, a, paraplegic, Marin...</td>\n",
       "      <td>[culture clash, future, space war, space colon...</td>\n",
       "      <td>[Sam Worthington, Zoe Saldana, Sigourney Weave...</td>\n",
       "      <td>[James Cameron]</td>\n",
       "    </tr>\n",
       "  </tbody>\n",
       "</table>\n",
       "</div>"
      ],
      "text/plain": [
       "   movie_id   title                                         genres   \n",
       "0     19995  Avatar  [Action, Adventure, Fantasy, Science Fiction]  \\\n",
       "\n",
       "                                            overview   \n",
       "0  [In, the, 22nd, century,, a, paraplegic, Marin...  \\\n",
       "\n",
       "                                            keywords   \n",
       "0  [culture clash, future, space war, space colon...  \\\n",
       "\n",
       "                                                cast             crew  \n",
       "0  [Sam Worthington, Zoe Saldana, Sigourney Weave...  [James Cameron]  "
      ]
     },
     "execution_count": 33,
     "metadata": {},
     "output_type": "execute_result"
    }
   ],
   "source": [
    "movies.head(1)"
   ]
  },
  {
   "attachments": {},
   "cell_type": "markdown",
   "id": "1c3c2553",
   "metadata": {},
   "source": [
    "Removing Spaces from data"
   ]
  },
  {
   "cell_type": "code",
   "execution_count": 34,
   "id": "cfcc132a",
   "metadata": {},
   "outputs": [],
   "source": [
    "#Science Fiction to ScienceFiction\n",
    "movies['genres'] = movies['genres'].apply(lambda x:[i.replace(\" \",\"\") for i in x])\n",
    "movies['keywords'] = movies['keywords'].apply(lambda x:[i.replace(\" \",\"\") for i in x])\n",
    "movies['cast'] = movies['cast'].apply(lambda x:[i.replace(\" \",\"\") for i in x])\n",
    "movies['crew'] = movies['crew'].apply(lambda x:[i.replace(\" \",\"\") for i in x])"
   ]
  },
  {
   "cell_type": "code",
   "execution_count": 35,
   "id": "ad9a230b",
   "metadata": {},
   "outputs": [
    {
     "data": {
      "text/html": [
       "<div>\n",
       "<style scoped>\n",
       "    .dataframe tbody tr th:only-of-type {\n",
       "        vertical-align: middle;\n",
       "    }\n",
       "\n",
       "    .dataframe tbody tr th {\n",
       "        vertical-align: top;\n",
       "    }\n",
       "\n",
       "    .dataframe thead th {\n",
       "        text-align: right;\n",
       "    }\n",
       "</style>\n",
       "<table border=\"1\" class=\"dataframe\">\n",
       "  <thead>\n",
       "    <tr style=\"text-align: right;\">\n",
       "      <th></th>\n",
       "      <th>movie_id</th>\n",
       "      <th>title</th>\n",
       "      <th>genres</th>\n",
       "      <th>overview</th>\n",
       "      <th>keywords</th>\n",
       "      <th>cast</th>\n",
       "      <th>crew</th>\n",
       "    </tr>\n",
       "  </thead>\n",
       "  <tbody>\n",
       "    <tr>\n",
       "      <th>0</th>\n",
       "      <td>19995</td>\n",
       "      <td>Avatar</td>\n",
       "      <td>[Action, Adventure, Fantasy, ScienceFiction]</td>\n",
       "      <td>[In, the, 22nd, century,, a, paraplegic, Marin...</td>\n",
       "      <td>[cultureclash, future, spacewar, spacecolony, ...</td>\n",
       "      <td>[SamWorthington, ZoeSaldana, SigourneyWeaver, ...</td>\n",
       "      <td>[JamesCameron]</td>\n",
       "    </tr>\n",
       "    <tr>\n",
       "      <th>1</th>\n",
       "      <td>285</td>\n",
       "      <td>Pirates of the Caribbean: At World's End</td>\n",
       "      <td>[Adventure, Fantasy, Action]</td>\n",
       "      <td>[Captain, Barbossa,, long, believed, to, be, d...</td>\n",
       "      <td>[ocean, drugabuse, exoticisland, eastindiatrad...</td>\n",
       "      <td>[JohnnyDepp, OrlandoBloom, KeiraKnightley, Ste...</td>\n",
       "      <td>[GoreVerbinski]</td>\n",
       "    </tr>\n",
       "    <tr>\n",
       "      <th>2</th>\n",
       "      <td>206647</td>\n",
       "      <td>Spectre</td>\n",
       "      <td>[Action, Adventure, Crime]</td>\n",
       "      <td>[A, cryptic, message, from, Bond’s, past, send...</td>\n",
       "      <td>[spy, basedonnovel, secretagent, sequel, mi6, ...</td>\n",
       "      <td>[DanielCraig, ChristophWaltz, LéaSeydoux, Ralp...</td>\n",
       "      <td>[SamMendes]</td>\n",
       "    </tr>\n",
       "    <tr>\n",
       "      <th>3</th>\n",
       "      <td>49026</td>\n",
       "      <td>The Dark Knight Rises</td>\n",
       "      <td>[Action, Crime, Drama, Thriller]</td>\n",
       "      <td>[Following, the, death, of, District, Attorney...</td>\n",
       "      <td>[dccomics, crimefighter, terrorist, secretiden...</td>\n",
       "      <td>[ChristianBale, MichaelCaine, GaryOldman, Anne...</td>\n",
       "      <td>[ChristopherNolan]</td>\n",
       "    </tr>\n",
       "    <tr>\n",
       "      <th>4</th>\n",
       "      <td>49529</td>\n",
       "      <td>John Carter</td>\n",
       "      <td>[Action, Adventure, ScienceFiction]</td>\n",
       "      <td>[John, Carter, is, a, war-weary,, former, mili...</td>\n",
       "      <td>[basedonnovel, mars, medallion, spacetravel, p...</td>\n",
       "      <td>[TaylorKitsch, LynnCollins, SamanthaMorton, Wi...</td>\n",
       "      <td>[AndrewStanton]</td>\n",
       "    </tr>\n",
       "  </tbody>\n",
       "</table>\n",
       "</div>"
      ],
      "text/plain": [
       "   movie_id                                     title   \n",
       "0     19995                                    Avatar  \\\n",
       "1       285  Pirates of the Caribbean: At World's End   \n",
       "2    206647                                   Spectre   \n",
       "3     49026                     The Dark Knight Rises   \n",
       "4     49529                               John Carter   \n",
       "\n",
       "                                         genres   \n",
       "0  [Action, Adventure, Fantasy, ScienceFiction]  \\\n",
       "1                  [Adventure, Fantasy, Action]   \n",
       "2                    [Action, Adventure, Crime]   \n",
       "3              [Action, Crime, Drama, Thriller]   \n",
       "4           [Action, Adventure, ScienceFiction]   \n",
       "\n",
       "                                            overview   \n",
       "0  [In, the, 22nd, century,, a, paraplegic, Marin...  \\\n",
       "1  [Captain, Barbossa,, long, believed, to, be, d...   \n",
       "2  [A, cryptic, message, from, Bond’s, past, send...   \n",
       "3  [Following, the, death, of, District, Attorney...   \n",
       "4  [John, Carter, is, a, war-weary,, former, mili...   \n",
       "\n",
       "                                            keywords   \n",
       "0  [cultureclash, future, spacewar, spacecolony, ...  \\\n",
       "1  [ocean, drugabuse, exoticisland, eastindiatrad...   \n",
       "2  [spy, basedonnovel, secretagent, sequel, mi6, ...   \n",
       "3  [dccomics, crimefighter, terrorist, secretiden...   \n",
       "4  [basedonnovel, mars, medallion, spacetravel, p...   \n",
       "\n",
       "                                                cast                crew  \n",
       "0  [SamWorthington, ZoeSaldana, SigourneyWeaver, ...      [JamesCameron]  \n",
       "1  [JohnnyDepp, OrlandoBloom, KeiraKnightley, Ste...     [GoreVerbinski]  \n",
       "2  [DanielCraig, ChristophWaltz, LéaSeydoux, Ralp...         [SamMendes]  \n",
       "3  [ChristianBale, MichaelCaine, GaryOldman, Anne...  [ChristopherNolan]  \n",
       "4  [TaylorKitsch, LynnCollins, SamanthaMorton, Wi...     [AndrewStanton]  "
      ]
     },
     "execution_count": 35,
     "metadata": {},
     "output_type": "execute_result"
    }
   ],
   "source": [
    "movies.head(5)"
   ]
  },
  {
   "attachments": {},
   "cell_type": "markdown",
   "id": "e4474a16",
   "metadata": {},
   "source": [
    "Adding all data to tags"
   ]
  },
  {
   "cell_type": "code",
   "execution_count": 36,
   "id": "578ad77f",
   "metadata": {},
   "outputs": [],
   "source": [
    "movies['tags']= movies['overview'] + movies['genres'] + movies['keywords'] + movies['cast'] + movies['crew']"
   ]
  },
  {
   "cell_type": "code",
   "execution_count": 37,
   "id": "39c48f44",
   "metadata": {},
   "outputs": [
    {
     "data": {
      "text/html": [
       "<div>\n",
       "<style scoped>\n",
       "    .dataframe tbody tr th:only-of-type {\n",
       "        vertical-align: middle;\n",
       "    }\n",
       "\n",
       "    .dataframe tbody tr th {\n",
       "        vertical-align: top;\n",
       "    }\n",
       "\n",
       "    .dataframe thead th {\n",
       "        text-align: right;\n",
       "    }\n",
       "</style>\n",
       "<table border=\"1\" class=\"dataframe\">\n",
       "  <thead>\n",
       "    <tr style=\"text-align: right;\">\n",
       "      <th></th>\n",
       "      <th>movie_id</th>\n",
       "      <th>title</th>\n",
       "      <th>genres</th>\n",
       "      <th>overview</th>\n",
       "      <th>keywords</th>\n",
       "      <th>cast</th>\n",
       "      <th>crew</th>\n",
       "      <th>tags</th>\n",
       "    </tr>\n",
       "  </thead>\n",
       "  <tbody>\n",
       "    <tr>\n",
       "      <th>0</th>\n",
       "      <td>19995</td>\n",
       "      <td>Avatar</td>\n",
       "      <td>[Action, Adventure, Fantasy, ScienceFiction]</td>\n",
       "      <td>[In, the, 22nd, century,, a, paraplegic, Marin...</td>\n",
       "      <td>[cultureclash, future, spacewar, spacecolony, ...</td>\n",
       "      <td>[SamWorthington, ZoeSaldana, SigourneyWeaver, ...</td>\n",
       "      <td>[JamesCameron]</td>\n",
       "      <td>[In, the, 22nd, century,, a, paraplegic, Marin...</td>\n",
       "    </tr>\n",
       "    <tr>\n",
       "      <th>1</th>\n",
       "      <td>285</td>\n",
       "      <td>Pirates of the Caribbean: At World's End</td>\n",
       "      <td>[Adventure, Fantasy, Action]</td>\n",
       "      <td>[Captain, Barbossa,, long, believed, to, be, d...</td>\n",
       "      <td>[ocean, drugabuse, exoticisland, eastindiatrad...</td>\n",
       "      <td>[JohnnyDepp, OrlandoBloom, KeiraKnightley, Ste...</td>\n",
       "      <td>[GoreVerbinski]</td>\n",
       "      <td>[Captain, Barbossa,, long, believed, to, be, d...</td>\n",
       "    </tr>\n",
       "    <tr>\n",
       "      <th>2</th>\n",
       "      <td>206647</td>\n",
       "      <td>Spectre</td>\n",
       "      <td>[Action, Adventure, Crime]</td>\n",
       "      <td>[A, cryptic, message, from, Bond’s, past, send...</td>\n",
       "      <td>[spy, basedonnovel, secretagent, sequel, mi6, ...</td>\n",
       "      <td>[DanielCraig, ChristophWaltz, LéaSeydoux, Ralp...</td>\n",
       "      <td>[SamMendes]</td>\n",
       "      <td>[A, cryptic, message, from, Bond’s, past, send...</td>\n",
       "    </tr>\n",
       "    <tr>\n",
       "      <th>3</th>\n",
       "      <td>49026</td>\n",
       "      <td>The Dark Knight Rises</td>\n",
       "      <td>[Action, Crime, Drama, Thriller]</td>\n",
       "      <td>[Following, the, death, of, District, Attorney...</td>\n",
       "      <td>[dccomics, crimefighter, terrorist, secretiden...</td>\n",
       "      <td>[ChristianBale, MichaelCaine, GaryOldman, Anne...</td>\n",
       "      <td>[ChristopherNolan]</td>\n",
       "      <td>[Following, the, death, of, District, Attorney...</td>\n",
       "    </tr>\n",
       "    <tr>\n",
       "      <th>4</th>\n",
       "      <td>49529</td>\n",
       "      <td>John Carter</td>\n",
       "      <td>[Action, Adventure, ScienceFiction]</td>\n",
       "      <td>[John, Carter, is, a, war-weary,, former, mili...</td>\n",
       "      <td>[basedonnovel, mars, medallion, spacetravel, p...</td>\n",
       "      <td>[TaylorKitsch, LynnCollins, SamanthaMorton, Wi...</td>\n",
       "      <td>[AndrewStanton]</td>\n",
       "      <td>[John, Carter, is, a, war-weary,, former, mili...</td>\n",
       "    </tr>\n",
       "  </tbody>\n",
       "</table>\n",
       "</div>"
      ],
      "text/plain": [
       "   movie_id                                     title   \n",
       "0     19995                                    Avatar  \\\n",
       "1       285  Pirates of the Caribbean: At World's End   \n",
       "2    206647                                   Spectre   \n",
       "3     49026                     The Dark Knight Rises   \n",
       "4     49529                               John Carter   \n",
       "\n",
       "                                         genres   \n",
       "0  [Action, Adventure, Fantasy, ScienceFiction]  \\\n",
       "1                  [Adventure, Fantasy, Action]   \n",
       "2                    [Action, Adventure, Crime]   \n",
       "3              [Action, Crime, Drama, Thriller]   \n",
       "4           [Action, Adventure, ScienceFiction]   \n",
       "\n",
       "                                            overview   \n",
       "0  [In, the, 22nd, century,, a, paraplegic, Marin...  \\\n",
       "1  [Captain, Barbossa,, long, believed, to, be, d...   \n",
       "2  [A, cryptic, message, from, Bond’s, past, send...   \n",
       "3  [Following, the, death, of, District, Attorney...   \n",
       "4  [John, Carter, is, a, war-weary,, former, mili...   \n",
       "\n",
       "                                            keywords   \n",
       "0  [cultureclash, future, spacewar, spacecolony, ...  \\\n",
       "1  [ocean, drugabuse, exoticisland, eastindiatrad...   \n",
       "2  [spy, basedonnovel, secretagent, sequel, mi6, ...   \n",
       "3  [dccomics, crimefighter, terrorist, secretiden...   \n",
       "4  [basedonnovel, mars, medallion, spacetravel, p...   \n",
       "\n",
       "                                                cast                crew   \n",
       "0  [SamWorthington, ZoeSaldana, SigourneyWeaver, ...      [JamesCameron]  \\\n",
       "1  [JohnnyDepp, OrlandoBloom, KeiraKnightley, Ste...     [GoreVerbinski]   \n",
       "2  [DanielCraig, ChristophWaltz, LéaSeydoux, Ralp...         [SamMendes]   \n",
       "3  [ChristianBale, MichaelCaine, GaryOldman, Anne...  [ChristopherNolan]   \n",
       "4  [TaylorKitsch, LynnCollins, SamanthaMorton, Wi...     [AndrewStanton]   \n",
       "\n",
       "                                                tags  \n",
       "0  [In, the, 22nd, century,, a, paraplegic, Marin...  \n",
       "1  [Captain, Barbossa,, long, believed, to, be, d...  \n",
       "2  [A, cryptic, message, from, Bond’s, past, send...  \n",
       "3  [Following, the, death, of, District, Attorney...  \n",
       "4  [John, Carter, is, a, war-weary,, former, mili...  "
      ]
     },
     "execution_count": 37,
     "metadata": {},
     "output_type": "execute_result"
    }
   ],
   "source": [
    "movies.head()"
   ]
  },
  {
   "cell_type": "code",
   "execution_count": 38,
   "id": "8792b957",
   "metadata": {},
   "outputs": [
    {
     "data": {
      "text/plain": [
       "['In',\n",
       " 'the',\n",
       " '22nd',\n",
       " 'century,',\n",
       " 'a',\n",
       " 'paraplegic',\n",
       " 'Marine',\n",
       " 'is',\n",
       " 'dispatched',\n",
       " 'to',\n",
       " 'the',\n",
       " 'moon',\n",
       " 'Pandora',\n",
       " 'on',\n",
       " 'a',\n",
       " 'unique',\n",
       " 'mission,',\n",
       " 'but',\n",
       " 'becomes',\n",
       " 'torn',\n",
       " 'between',\n",
       " 'following',\n",
       " 'orders',\n",
       " 'and',\n",
       " 'protecting',\n",
       " 'an',\n",
       " 'alien',\n",
       " 'civilization.',\n",
       " 'Action',\n",
       " 'Adventure',\n",
       " 'Fantasy',\n",
       " 'ScienceFiction',\n",
       " 'cultureclash',\n",
       " 'future',\n",
       " 'spacewar',\n",
       " 'spacecolony',\n",
       " 'society',\n",
       " 'spacetravel',\n",
       " 'futuristic',\n",
       " 'romance',\n",
       " 'space',\n",
       " 'alien',\n",
       " 'tribe',\n",
       " 'alienplanet',\n",
       " 'cgi',\n",
       " 'marine',\n",
       " 'soldier',\n",
       " 'battle',\n",
       " 'loveaffair',\n",
       " 'antiwar',\n",
       " 'powerrelations',\n",
       " 'mindandsoul',\n",
       " '3d',\n",
       " 'SamWorthington',\n",
       " 'ZoeSaldana',\n",
       " 'SigourneyWeaver',\n",
       " 'StephenLang',\n",
       " 'JamesCameron']"
      ]
     },
     "execution_count": 38,
     "metadata": {},
     "output_type": "execute_result"
    }
   ],
   "source": [
    "movies['tags'][0]"
   ]
  },
  {
   "attachments": {},
   "cell_type": "markdown",
   "id": "982ac48a",
   "metadata": {},
   "source": [
    "NEW DATAFRAME"
   ]
  },
  {
   "cell_type": "code",
   "execution_count": 39,
   "id": "a1224018",
   "metadata": {},
   "outputs": [],
   "source": [
    "nFrame = movies[['movie_id','title','tags']]"
   ]
  },
  {
   "cell_type": "code",
   "execution_count": 40,
   "id": "83f09fa6",
   "metadata": {},
   "outputs": [
    {
     "data": {
      "text/html": [
       "<div>\n",
       "<style scoped>\n",
       "    .dataframe tbody tr th:only-of-type {\n",
       "        vertical-align: middle;\n",
       "    }\n",
       "\n",
       "    .dataframe tbody tr th {\n",
       "        vertical-align: top;\n",
       "    }\n",
       "\n",
       "    .dataframe thead th {\n",
       "        text-align: right;\n",
       "    }\n",
       "</style>\n",
       "<table border=\"1\" class=\"dataframe\">\n",
       "  <thead>\n",
       "    <tr style=\"text-align: right;\">\n",
       "      <th></th>\n",
       "      <th>movie_id</th>\n",
       "      <th>title</th>\n",
       "      <th>tags</th>\n",
       "    </tr>\n",
       "  </thead>\n",
       "  <tbody>\n",
       "    <tr>\n",
       "      <th>0</th>\n",
       "      <td>19995</td>\n",
       "      <td>Avatar</td>\n",
       "      <td>[In, the, 22nd, century,, a, paraplegic, Marin...</td>\n",
       "    </tr>\n",
       "    <tr>\n",
       "      <th>1</th>\n",
       "      <td>285</td>\n",
       "      <td>Pirates of the Caribbean: At World's End</td>\n",
       "      <td>[Captain, Barbossa,, long, believed, to, be, d...</td>\n",
       "    </tr>\n",
       "    <tr>\n",
       "      <th>2</th>\n",
       "      <td>206647</td>\n",
       "      <td>Spectre</td>\n",
       "      <td>[A, cryptic, message, from, Bond’s, past, send...</td>\n",
       "    </tr>\n",
       "    <tr>\n",
       "      <th>3</th>\n",
       "      <td>49026</td>\n",
       "      <td>The Dark Knight Rises</td>\n",
       "      <td>[Following, the, death, of, District, Attorney...</td>\n",
       "    </tr>\n",
       "    <tr>\n",
       "      <th>4</th>\n",
       "      <td>49529</td>\n",
       "      <td>John Carter</td>\n",
       "      <td>[John, Carter, is, a, war-weary,, former, mili...</td>\n",
       "    </tr>\n",
       "    <tr>\n",
       "      <th>...</th>\n",
       "      <td>...</td>\n",
       "      <td>...</td>\n",
       "      <td>...</td>\n",
       "    </tr>\n",
       "    <tr>\n",
       "      <th>4804</th>\n",
       "      <td>9367</td>\n",
       "      <td>El Mariachi</td>\n",
       "      <td>[El, Mariachi, just, wants, to, play, his, gui...</td>\n",
       "    </tr>\n",
       "    <tr>\n",
       "      <th>4805</th>\n",
       "      <td>72766</td>\n",
       "      <td>Newlyweds</td>\n",
       "      <td>[A, newlywed, couple's, honeymoon, is, upended...</td>\n",
       "    </tr>\n",
       "    <tr>\n",
       "      <th>4806</th>\n",
       "      <td>231617</td>\n",
       "      <td>Signed, Sealed, Delivered</td>\n",
       "      <td>[\"Signed,, Sealed,, Delivered\", introduces, a,...</td>\n",
       "    </tr>\n",
       "    <tr>\n",
       "      <th>4807</th>\n",
       "      <td>126186</td>\n",
       "      <td>Shanghai Calling</td>\n",
       "      <td>[When, ambitious, New, York, attorney, Sam, is...</td>\n",
       "    </tr>\n",
       "    <tr>\n",
       "      <th>4808</th>\n",
       "      <td>25975</td>\n",
       "      <td>My Date with Drew</td>\n",
       "      <td>[Ever, since, the, second, grade, when, he, fi...</td>\n",
       "    </tr>\n",
       "  </tbody>\n",
       "</table>\n",
       "<p>4806 rows × 3 columns</p>\n",
       "</div>"
      ],
      "text/plain": [
       "      movie_id                                     title   \n",
       "0        19995                                    Avatar  \\\n",
       "1          285  Pirates of the Caribbean: At World's End   \n",
       "2       206647                                   Spectre   \n",
       "3        49026                     The Dark Knight Rises   \n",
       "4        49529                               John Carter   \n",
       "...        ...                                       ...   \n",
       "4804      9367                               El Mariachi   \n",
       "4805     72766                                 Newlyweds   \n",
       "4806    231617                 Signed, Sealed, Delivered   \n",
       "4807    126186                          Shanghai Calling   \n",
       "4808     25975                         My Date with Drew   \n",
       "\n",
       "                                                   tags  \n",
       "0     [In, the, 22nd, century,, a, paraplegic, Marin...  \n",
       "1     [Captain, Barbossa,, long, believed, to, be, d...  \n",
       "2     [A, cryptic, message, from, Bond’s, past, send...  \n",
       "3     [Following, the, death, of, District, Attorney...  \n",
       "4     [John, Carter, is, a, war-weary,, former, mili...  \n",
       "...                                                 ...  \n",
       "4804  [El, Mariachi, just, wants, to, play, his, gui...  \n",
       "4805  [A, newlywed, couple's, honeymoon, is, upended...  \n",
       "4806  [\"Signed,, Sealed,, Delivered\", introduces, a,...  \n",
       "4807  [When, ambitious, New, York, attorney, Sam, is...  \n",
       "4808  [Ever, since, the, second, grade, when, he, fi...  \n",
       "\n",
       "[4806 rows x 3 columns]"
      ]
     },
     "execution_count": 40,
     "metadata": {},
     "output_type": "execute_result"
    }
   ],
   "source": [
    "nFrame"
   ]
  },
  {
   "attachments": {},
   "cell_type": "markdown",
   "id": "5b446959",
   "metadata": {},
   "source": [
    "Converting Tags to string"
   ]
  },
  {
   "cell_type": "code",
   "execution_count": 41,
   "id": "e38364f4",
   "metadata": {},
   "outputs": [
    {
     "name": "stderr",
     "output_type": "stream",
     "text": [
      "/var/folders/ld/1zlby8595dbf9dl2kldcftmh0000gp/T/ipykernel_2570/1715726754.py:2: SettingWithCopyWarning: \n",
      "A value is trying to be set on a copy of a slice from a DataFrame.\n",
      "Try using .loc[row_indexer,col_indexer] = value instead\n",
      "\n",
      "See the caveats in the documentation: https://pandas.pydata.org/pandas-docs/stable/user_guide/indexing.html#returning-a-view-versus-a-copy\n",
      "  nFrame['tags'] = nFrame['tags'].apply(lambda x:\" \".join(x))\n"
     ]
    }
   ],
   "source": [
    "#Converting Tags to string\n",
    "nFrame['tags'] = nFrame['tags'].apply(lambda x:\" \".join(x))"
   ]
  },
  {
   "cell_type": "code",
   "execution_count": 42,
   "id": "845d5a75",
   "metadata": {},
   "outputs": [
    {
     "data": {
      "text/html": [
       "<div>\n",
       "<style scoped>\n",
       "    .dataframe tbody tr th:only-of-type {\n",
       "        vertical-align: middle;\n",
       "    }\n",
       "\n",
       "    .dataframe tbody tr th {\n",
       "        vertical-align: top;\n",
       "    }\n",
       "\n",
       "    .dataframe thead th {\n",
       "        text-align: right;\n",
       "    }\n",
       "</style>\n",
       "<table border=\"1\" class=\"dataframe\">\n",
       "  <thead>\n",
       "    <tr style=\"text-align: right;\">\n",
       "      <th></th>\n",
       "      <th>movie_id</th>\n",
       "      <th>title</th>\n",
       "      <th>tags</th>\n",
       "    </tr>\n",
       "  </thead>\n",
       "  <tbody>\n",
       "    <tr>\n",
       "      <th>0</th>\n",
       "      <td>19995</td>\n",
       "      <td>Avatar</td>\n",
       "      <td>In the 22nd century, a paraplegic Marine is di...</td>\n",
       "    </tr>\n",
       "    <tr>\n",
       "      <th>1</th>\n",
       "      <td>285</td>\n",
       "      <td>Pirates of the Caribbean: At World's End</td>\n",
       "      <td>Captain Barbossa, long believed to be dead, ha...</td>\n",
       "    </tr>\n",
       "    <tr>\n",
       "      <th>2</th>\n",
       "      <td>206647</td>\n",
       "      <td>Spectre</td>\n",
       "      <td>A cryptic message from Bond’s past sends him o...</td>\n",
       "    </tr>\n",
       "    <tr>\n",
       "      <th>3</th>\n",
       "      <td>49026</td>\n",
       "      <td>The Dark Knight Rises</td>\n",
       "      <td>Following the death of District Attorney Harve...</td>\n",
       "    </tr>\n",
       "    <tr>\n",
       "      <th>4</th>\n",
       "      <td>49529</td>\n",
       "      <td>John Carter</td>\n",
       "      <td>John Carter is a war-weary, former military ca...</td>\n",
       "    </tr>\n",
       "  </tbody>\n",
       "</table>\n",
       "</div>"
      ],
      "text/plain": [
       "   movie_id                                     title   \n",
       "0     19995                                    Avatar  \\\n",
       "1       285  Pirates of the Caribbean: At World's End   \n",
       "2    206647                                   Spectre   \n",
       "3     49026                     The Dark Knight Rises   \n",
       "4     49529                               John Carter   \n",
       "\n",
       "                                                tags  \n",
       "0  In the 22nd century, a paraplegic Marine is di...  \n",
       "1  Captain Barbossa, long believed to be dead, ha...  \n",
       "2  A cryptic message from Bond’s past sends him o...  \n",
       "3  Following the death of District Attorney Harve...  \n",
       "4  John Carter is a war-weary, former military ca...  "
      ]
     },
     "execution_count": 42,
     "metadata": {},
     "output_type": "execute_result"
    }
   ],
   "source": [
    "nFrame.head()"
   ]
  },
  {
   "cell_type": "code",
   "execution_count": 43,
   "id": "f3e6b7e3",
   "metadata": {},
   "outputs": [
    {
     "data": {
      "text/plain": [
       "'In the 22nd century, a paraplegic Marine is dispatched to the moon Pandora on a unique mission, but becomes torn between following orders and protecting an alien civilization. Action Adventure Fantasy ScienceFiction cultureclash future spacewar spacecolony society spacetravel futuristic romance space alien tribe alienplanet cgi marine soldier battle loveaffair antiwar powerrelations mindandsoul 3d SamWorthington ZoeSaldana SigourneyWeaver StephenLang JamesCameron'"
      ]
     },
     "execution_count": 43,
     "metadata": {},
     "output_type": "execute_result"
    }
   ],
   "source": [
    "nFrame['tags'][0] #overview of 0th data"
   ]
  },
  {
   "cell_type": "code",
   "execution_count": 44,
   "id": "ad4c292b",
   "metadata": {},
   "outputs": [
    {
     "name": "stderr",
     "output_type": "stream",
     "text": [
      "/var/folders/ld/1zlby8595dbf9dl2kldcftmh0000gp/T/ipykernel_2570/1779091198.py:2: SettingWithCopyWarning: \n",
      "A value is trying to be set on a copy of a slice from a DataFrame.\n",
      "Try using .loc[row_indexer,col_indexer] = value instead\n",
      "\n",
      "See the caveats in the documentation: https://pandas.pydata.org/pandas-docs/stable/user_guide/indexing.html#returning-a-view-versus-a-copy\n",
      "  nFrame['tags'] = nFrame['tags'].apply(lambda x:x.lower())\n"
     ]
    }
   ],
   "source": [
    "#convert to lowercase\n",
    "nFrame['tags'] = nFrame['tags'].apply(lambda x:x.lower())"
   ]
  },
  {
   "cell_type": "code",
   "execution_count": 45,
   "id": "3292a732",
   "metadata": {},
   "outputs": [
    {
     "data": {
      "text/html": [
       "<div>\n",
       "<style scoped>\n",
       "    .dataframe tbody tr th:only-of-type {\n",
       "        vertical-align: middle;\n",
       "    }\n",
       "\n",
       "    .dataframe tbody tr th {\n",
       "        vertical-align: top;\n",
       "    }\n",
       "\n",
       "    .dataframe thead th {\n",
       "        text-align: right;\n",
       "    }\n",
       "</style>\n",
       "<table border=\"1\" class=\"dataframe\">\n",
       "  <thead>\n",
       "    <tr style=\"text-align: right;\">\n",
       "      <th></th>\n",
       "      <th>movie_id</th>\n",
       "      <th>title</th>\n",
       "      <th>tags</th>\n",
       "    </tr>\n",
       "  </thead>\n",
       "  <tbody>\n",
       "    <tr>\n",
       "      <th>0</th>\n",
       "      <td>19995</td>\n",
       "      <td>Avatar</td>\n",
       "      <td>in the 22nd century, a paraplegic marine is di...</td>\n",
       "    </tr>\n",
       "    <tr>\n",
       "      <th>1</th>\n",
       "      <td>285</td>\n",
       "      <td>Pirates of the Caribbean: At World's End</td>\n",
       "      <td>captain barbossa, long believed to be dead, ha...</td>\n",
       "    </tr>\n",
       "    <tr>\n",
       "      <th>2</th>\n",
       "      <td>206647</td>\n",
       "      <td>Spectre</td>\n",
       "      <td>a cryptic message from bond’s past sends him o...</td>\n",
       "    </tr>\n",
       "    <tr>\n",
       "      <th>3</th>\n",
       "      <td>49026</td>\n",
       "      <td>The Dark Knight Rises</td>\n",
       "      <td>following the death of district attorney harve...</td>\n",
       "    </tr>\n",
       "    <tr>\n",
       "      <th>4</th>\n",
       "      <td>49529</td>\n",
       "      <td>John Carter</td>\n",
       "      <td>john carter is a war-weary, former military ca...</td>\n",
       "    </tr>\n",
       "  </tbody>\n",
       "</table>\n",
       "</div>"
      ],
      "text/plain": [
       "   movie_id                                     title   \n",
       "0     19995                                    Avatar  \\\n",
       "1       285  Pirates of the Caribbean: At World's End   \n",
       "2    206647                                   Spectre   \n",
       "3     49026                     The Dark Knight Rises   \n",
       "4     49529                               John Carter   \n",
       "\n",
       "                                                tags  \n",
       "0  in the 22nd century, a paraplegic marine is di...  \n",
       "1  captain barbossa, long believed to be dead, ha...  \n",
       "2  a cryptic message from bond’s past sends him o...  \n",
       "3  following the death of district attorney harve...  \n",
       "4  john carter is a war-weary, former military ca...  "
      ]
     },
     "execution_count": 45,
     "metadata": {},
     "output_type": "execute_result"
    }
   ],
   "source": [
    "nFrame.head()"
   ]
  },
  {
   "attachments": {},
   "cell_type": "markdown",
   "id": "6f7b7466",
   "metadata": {},
   "source": [
    "Preprocessing Complete"
   ]
  },
  {
   "attachments": {},
   "cell_type": "markdown",
   "id": "4acaac52",
   "metadata": {},
   "source": [
    "Converting data to vector"
   ]
  },
  {
   "cell_type": "code",
   "execution_count": 47,
   "id": "7e477cec",
   "metadata": {},
   "outputs": [],
   "source": [
    "#remove stopwords like a an the and or \n",
    "#making vector for 5000 words\n",
    "from sklearn.feature_extraction.text import CountVectorizer\n",
    "cv = CountVectorizer(max_features=5000,stop_words='english')"
   ]
  },
  {
   "cell_type": "code",
   "execution_count": 48,
   "id": "9f2b817e",
   "metadata": {},
   "outputs": [],
   "source": [
    "#converting nFrame ['tags'] to vector\n",
    "#cv.fit_transform(nFrame['tags']).toarray().shape\n",
    "vectors = cv.fit_transform(nFrame['tags']).toarray()\n"
   ]
  },
  {
   "cell_type": "code",
   "execution_count": 49,
   "id": "5d59d838",
   "metadata": {},
   "outputs": [
    {
     "data": {
      "text/plain": [
       "array(['000', '007', '10', ..., 'zone', 'zoo', 'zooeydeschanel'],\n",
       "      dtype=object)"
      ]
     },
     "execution_count": 49,
     "metadata": {},
     "output_type": "execute_result"
    }
   ],
   "source": [
    "cv.get_feature_names_out()\n",
    "#len(cv.get_feature_names_out())"
   ]
  },
  {
   "cell_type": "code",
   "execution_count": 51,
   "id": "188e8e92",
   "metadata": {},
   "outputs": [],
   "source": [
    "import nltk\n",
    "#import nltk NLP library to stem words  Dancing Danced Dances -> Danc"
   ]
  },
  {
   "cell_type": "code",
   "execution_count": 52,
   "id": "f8e44922",
   "metadata": {},
   "outputs": [],
   "source": [
    "from nltk.stem.porter import PorterStemmer\n",
    "ps = PorterStemmer()"
   ]
  },
  {
   "cell_type": "code",
   "execution_count": 53,
   "id": "814e362f",
   "metadata": {},
   "outputs": [
    {
     "data": {
      "text/plain": [
       "'love'"
      ]
     },
     "execution_count": 53,
     "metadata": {},
     "output_type": "execute_result"
    }
   ],
   "source": [
    "#sample\n",
    "ps.stem('Loving')"
   ]
  },
  {
   "cell_type": "code",
   "execution_count": 54,
   "id": "1c159733",
   "metadata": {},
   "outputs": [],
   "source": [
    "#helper function\n",
    "def wordRoot(text):\n",
    "    w=[]\n",
    "    for i in text.split():\n",
    "        w.append(ps.stem(i))\n",
    "    return \" \".join(w)\n"
   ]
  },
  {
   "cell_type": "code",
   "execution_count": 55,
   "id": "9e8b27c4",
   "metadata": {},
   "outputs": [
    {
     "data": {
      "text/plain": [
       "'hello im love thi system'"
      ]
     },
     "execution_count": 55,
     "metadata": {},
     "output_type": "execute_result"
    }
   ],
   "source": [
    "#test\n",
    "wordRoot('hello im loving this system')"
   ]
  },
  {
   "cell_type": "code",
   "execution_count": 56,
   "id": "8b9ed0c8",
   "metadata": {},
   "outputs": [
    {
     "name": "stderr",
     "output_type": "stream",
     "text": [
      "/var/folders/ld/1zlby8595dbf9dl2kldcftmh0000gp/T/ipykernel_2570/556096294.py:1: SettingWithCopyWarning: \n",
      "A value is trying to be set on a copy of a slice from a DataFrame.\n",
      "Try using .loc[row_indexer,col_indexer] = value instead\n",
      "\n",
      "See the caveats in the documentation: https://pandas.pydata.org/pandas-docs/stable/user_guide/indexing.html#returning-a-view-versus-a-copy\n",
      "  nFrame['tags'] = nFrame['tags'].apply(wordRoot)\n"
     ]
    }
   ],
   "source": [
    "nFrame['tags'] = nFrame['tags'].apply(wordRoot)"
   ]
  },
  {
   "attachments": {},
   "cell_type": "markdown",
   "id": "e4f51643",
   "metadata": {},
   "source": [
    "Calculating Movie Vector cosine distaces"
   ]
  },
  {
   "cell_type": "code",
   "execution_count": 57,
   "id": "5c9bd243",
   "metadata": {},
   "outputs": [],
   "source": [
    "#Calculating Movie Vector cosine distaces\n",
    "from sklearn.metrics.pairwise import cosine_similarity"
   ]
  },
  {
   "cell_type": "code",
   "execution_count": 58,
   "id": "e3226605",
   "metadata": {},
   "outputs": [],
   "source": [
    "#cosine_similarity(vectors).shape\n",
    "match = cosine_similarity(vectors)"
   ]
  },
  {
   "cell_type": "code",
   "execution_count": 59,
   "id": "dddafa95",
   "metadata": {},
   "outputs": [
    {
     "data": {
      "text/plain": [
       "array([1.        , 0.08964215, 0.05884899, ..., 0.02548236, 0.02817181,\n",
       "       0.        ])"
      ]
     },
     "execution_count": 59,
     "metadata": {},
     "output_type": "execute_result"
    }
   ],
   "source": [
    "#Similarity Score\n",
    "match[0]"
   ]
  },
  {
   "cell_type": "code",
   "execution_count": 60,
   "id": "606b2ae4",
   "metadata": {},
   "outputs": [
    {
     "data": {
      "text/plain": [
       "[(539, 0.2571428571428571),\n",
       " (507, 0.25302403842552984),\n",
       " (1194, 0.25226248955475644),\n",
       " (1216, 0.2480694691784169),\n",
       " (260, 0.24688535993934702)]"
      ]
     },
     "execution_count": 60,
     "metadata": {},
     "output_type": "execute_result"
    }
   ],
   "source": [
    "#Recomendation for movie index 0\n",
    "sorted(list(enumerate(match[0])), reverse=True, key=lambda x:x[1])[1:6]"
   ]
  },
  {
   "cell_type": "code",
   "execution_count": 61,
   "id": "7080d72c",
   "metadata": {},
   "outputs": [
    {
     "data": {
      "text/plain": [
       "539"
      ]
     },
     "execution_count": 61,
     "metadata": {},
     "output_type": "execute_result"
    }
   ],
   "source": [
    "#Fetch Index of movie\n",
    "nFrame[nFrame['title'] == 'Titan A.E.'].index[0]"
   ]
  },
  {
   "cell_type": "code",
   "execution_count": 62,
   "id": "fb39ae06",
   "metadata": {},
   "outputs": [
    {
     "data": {
      "text/plain": [
       "'Avatar'"
      ]
     },
     "execution_count": 62,
     "metadata": {},
     "output_type": "execute_result"
    }
   ],
   "source": [
    "#fetch title from index\n",
    "nFrame.iloc[0].title\n"
   ]
  },
  {
   "cell_type": "code",
   "execution_count": 63,
   "id": "34b2f6e0",
   "metadata": {},
   "outputs": [],
   "source": [
    "def recommend(movie):\n",
    "    movie_index = nFrame[nFrame['title'] == movie].index[0]\n",
    "    distances = match[movie_index]\n",
    "    movies_list = sorted(list(enumerate(distances)), reverse=True, key=lambda x:x[1])[1:6]\n",
    "    \n",
    "    for i in movies_list:\n",
    "        print(nFrame.iloc[i[0]].title)\n",
    "        #print(i[0])\n",
    "    \n",
    " "
   ]
  },
  {
   "cell_type": "code",
   "execution_count": 64,
   "id": "a8ae03de",
   "metadata": {},
   "outputs": [
    {
     "name": "stdout",
     "output_type": "stream",
     "text": [
      "The Dark Knight\n",
      "The Dark Knight Rises\n",
      "Batman\n",
      "Batman & Robin\n",
      "Batman\n"
     ]
    }
   ],
   "source": [
    "recommend('Batman Begins')"
   ]
  },
  {
   "attachments": {},
   "cell_type": "markdown",
   "id": "f36e920a",
   "metadata": {},
   "source": [
    "WEB APP DEVELOPEMENT WITH STREAMLIT"
   ]
  },
  {
   "cell_type": "code",
   "execution_count": 65,
   "id": "06fdb233",
   "metadata": {},
   "outputs": [],
   "source": [
    "import pickle"
   ]
  },
  {
   "cell_type": "code",
   "execution_count": 66,
   "id": "3b9c980f",
   "metadata": {},
   "outputs": [],
   "source": [
    "pickle.dump(nFrame, open('movies.pkl','wb'))"
   ]
  },
  {
   "cell_type": "code",
   "execution_count": 67,
   "id": "962227f0",
   "metadata": {},
   "outputs": [],
   "source": [
    "pickle.dump(match, open('match.pkl','wb'))"
   ]
  },
  {
   "cell_type": "code",
   "execution_count": 68,
   "id": "8c0386d0",
   "metadata": {},
   "outputs": [],
   "source": [
    "#exporting dictionary only\n",
    "pickle.dump(nFrame.to_dict, open('movies_d.pkl','wb'))"
   ]
  }
 ],
 "metadata": {
  "kernelspec": {
   "display_name": "Python 3 (ipykernel)",
   "language": "python",
   "name": "python3"
  },
  "language_info": {
   "codemirror_mode": {
    "name": "ipython",
    "version": 3
   },
   "file_extension": ".py",
   "mimetype": "text/x-python",
   "name": "python",
   "nbconvert_exporter": "python",
   "pygments_lexer": "ipython3",
   "version": "3.11.3"
  },
  "vscode": {
   "interpreter": {
    "hash": "369f2c481f4da34e4445cda3fffd2e751bd1c4d706f27375911949ba6bb62e1c"
   }
  }
 },
 "nbformat": 4,
 "nbformat_minor": 5
}
