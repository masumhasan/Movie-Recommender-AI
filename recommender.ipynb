{
 "cells": [
  {
   "cell_type": "code",
   "execution_count": null,
   "id": "96dca19a",
   "metadata": {},
   "outputs": [],
   "source": [
    "import numpy as np\n",
    "import pandas as pd"
   ]
  },
  {
   "cell_type": "code",
   "execution_count": null,
   "id": "d7717b9b",
   "metadata": {},
   "outputs": [],
   "source": [
    "#movies = pd.read_csv('https://raw.githubusercontent.com/masumhasan/Movie-Recommender-AI/main/tmdb_5000_movies.csv')\n",
    "#credits = pd.read_csv('https://raw.githubusercontent.com/masumhasan/Movie-Recommender-AI/main/tmdb_5000_credits.csv')\n",
    "movies = pd.read_csv('tmdb_5000_movies.csv')\n",
    "credits = pd.read_csv('tmdb_5000_credits.csv')"
   ]
  },
  {
   "cell_type": "code",
   "execution_count": null,
   "id": "104f22dd",
   "metadata": {},
   "outputs": [],
   "source": [
    "movies.head(2)"
   ]
  },
  {
   "cell_type": "code",
   "execution_count": null,
   "id": "31a1b2c8",
   "metadata": {
    "scrolled": true
   },
   "outputs": [],
   "source": [
    "credits.head(1)['cast'].values"
   ]
  },
  {
   "cell_type": "code",
   "execution_count": null,
   "id": "e070f2d5",
   "metadata": {},
   "outputs": [],
   "source": [
    "credits.head(1)['crew'].values\n",
    "# show 1 crew values"
   ]
  },
  {
   "attachments": {},
   "cell_type": "markdown",
   "id": "eee95d6e",
   "metadata": {},
   "source": [
    "Marge 2 dataset"
   ]
  },
  {
   "cell_type": "code",
   "execution_count": null,
   "id": "8c44a76e",
   "metadata": {},
   "outputs": [],
   "source": [
    "#daframe marge code\n",
    "\n",
    "#movies.merge(credits,on='title')\n",
    "#check size\n",
    "# movies.merge(credits,on='title').shape\n",
    "#assign new df in movies\n",
    "movies = movies.merge(credits,on='title')"
   ]
  },
  {
   "cell_type": "code",
   "execution_count": null,
   "id": "eb0de1ea",
   "metadata": {},
   "outputs": [],
   "source": [
    "#check size\n",
    "movies.shape\n",
    "#credits.shape"
   ]
  },
  {
   "cell_type": "code",
   "execution_count": null,
   "id": "19c0ec84",
   "metadata": {},
   "outputs": [],
   "source": [
    "#df info\n",
    "movies.info()"
   ]
  },
  {
   "cell_type": "code",
   "execution_count": null,
   "id": "a759bc73",
   "metadata": {},
   "outputs": [],
   "source": [
    "#movies_id\n",
    "#title\n",
    "#genres\n",
    "#keywords\n",
    "#overview\n",
    "#cast\n",
    "#crew"
   ]
  },
  {
   "cell_type": "code",
   "execution_count": null,
   "id": "43c61711",
   "metadata": {},
   "outputs": [],
   "source": [
    "#storing only prefered columns back into movies df\n",
    "movies = movies[['movie_id','title','genres','overview','keywords','cast','crew']]"
   ]
  },
  {
   "cell_type": "code",
   "execution_count": null,
   "id": "fbd36b6b",
   "metadata": {},
   "outputs": [],
   "source": [
    "#df info\n",
    "movies.info()"
   ]
  },
  {
   "cell_type": "code",
   "execution_count": null,
   "id": "4ee2beff",
   "metadata": {},
   "outputs": [],
   "source": [
    "movies.head(1)"
   ]
  },
  {
   "attachments": {},
   "cell_type": "markdown",
   "id": "749a64b7",
   "metadata": {},
   "source": [
    "Data Preprocessing\n"
   ]
  },
  {
   "cell_type": "code",
   "execution_count": null,
   "id": "c9de027c",
   "metadata": {},
   "outputs": [],
   "source": [
    "#check for missing data\n",
    "movies.isnull().sum()"
   ]
  },
  {
   "cell_type": "code",
   "execution_count": null,
   "id": "ca1aa1e6",
   "metadata": {},
   "outputs": [],
   "source": [
    "#Drop missing datas\n",
    "movies.dropna(inplace=True)"
   ]
  },
  {
   "cell_type": "code",
   "execution_count": null,
   "id": "4568a786",
   "metadata": {},
   "outputs": [],
   "source": [
    "#Check for duplicate data\n",
    "movies.duplicated().sum()"
   ]
  },
  {
   "cell_type": "code",
   "execution_count": null,
   "id": "916611c2",
   "metadata": {},
   "outputs": [],
   "source": [
    "#Check data\n",
    "movies.iloc[0].genres"
   ]
  },
  {
   "attachments": {},
   "cell_type": "markdown",
   "id": "1394592e",
   "metadata": {},
   "source": [
    "Preprocessing\n",
    "\n"
   ]
  },
  {
   "cell_type": "code",
   "execution_count": null,
   "id": "adf62995",
   "metadata": {},
   "outputs": [],
   "source": [
    "#GOAL\n",
    "#'[{\"id\": 28, \"name\": \"Action\"}, {\"id\": 12, \"name\": \"Adventure\"}, {\"id\": 14, \"name\": \"Fantasy\"}, {\"id\": 878, \"name\": \"Science Fiction\"}]'\n",
    "#['Action','Adventure','Fantacy']"
   ]
  },
  {
   "cell_type": "code",
   "execution_count": null,
   "id": "055a0948",
   "metadata": {},
   "outputs": [],
   "source": [
    "#Convert string of list to list \n",
    "import ast\n",
    "ast.literal_eval('[{\"id\": 28, \"name\": \"Action\"}, {\"id\": 12, \"name\": \"Adventure\"}, {\"id\": 14, \"name\": \"Fantasy\"}, {\"id\": 878, \"name\": \"Science Fiction\"}]')"
   ]
  },
  {
   "cell_type": "code",
   "execution_count": null,
   "id": "822e2209",
   "metadata": {},
   "outputs": [],
   "source": [
    "#helper function\n",
    "def converttoL(obj):\n",
    "    L= []\n",
    "    for i in ast.literal_eval(obj): #using ast literal_eval function from string = list\n",
    "        L.append(i['name'])\n",
    "    return L    "
   ]
  },
  {
   "cell_type": "code",
   "execution_count": null,
   "id": "0213b121",
   "metadata": {},
   "outputs": [],
   "source": [
    "#converting genres to a list from string\n",
    "movies['genres'] = movies['genres'].apply(converttoL) "
   ]
  },
  {
   "cell_type": "code",
   "execution_count": null,
   "id": "4e37ced7",
   "metadata": {},
   "outputs": [],
   "source": [
    "movies.head(1)"
   ]
  },
  {
   "cell_type": "code",
   "execution_count": null,
   "id": "edb0618e",
   "metadata": {},
   "outputs": [],
   "source": [
    "#converting keywords to a list from string\n",
    "movies['keywords'] = movies['keywords'].apply(converttoL) "
   ]
  },
  {
   "cell_type": "code",
   "execution_count": null,
   "id": "30714ca2",
   "metadata": {},
   "outputs": [],
   "source": [
    "movies.head(1)"
   ]
  },
  {
   "cell_type": "code",
   "execution_count": null,
   "id": "2a9d8cd8",
   "metadata": {},
   "outputs": [],
   "source": [
    "#helper function\n",
    "def convertcast(obj):\n",
    "    L= []\n",
    "    counter = 0\n",
    "    for i in ast.literal_eval(obj): #using ast literal_eval function from string = list\n",
    "        if counter !=4: #looping for 4 cast only\n",
    "            L.append(i['name'])\n",
    "            counter +=1\n",
    "        else:\n",
    "             break\n",
    "    return L    "
   ]
  },
  {
   "cell_type": "code",
   "execution_count": null,
   "id": "2bf76c98",
   "metadata": {},
   "outputs": [],
   "source": [
    "#converting casts to a list from string\n",
    "movies['cast'] = movies['cast'].apply(convertcast) "
   ]
  },
  {
   "cell_type": "code",
   "execution_count": null,
   "id": "9436448f",
   "metadata": {},
   "outputs": [],
   "source": [
    "movies['cast'][0]"
   ]
  },
  {
   "cell_type": "code",
   "execution_count": null,
   "id": "324514bd",
   "metadata": {},
   "outputs": [],
   "source": [
    "movies.head()"
   ]
  },
  {
   "cell_type": "code",
   "execution_count": null,
   "id": "e57db11e",
   "metadata": {},
   "outputs": [],
   "source": [
    "#Helper function\n",
    "def fDirector(obj):\n",
    "    L= []\n",
    "    for i in ast.literal_eval(obj): \n",
    "        if i['job'] == 'Director':\n",
    "            L.append(i['name'])\n",
    "            break\n",
    "    return L    "
   ]
  },
  {
   "cell_type": "code",
   "execution_count": null,
   "id": "20a439d6",
   "metadata": {},
   "outputs": [],
   "source": [
    "#converting casts (Director) to a list from string\n",
    "movies['crew'] = movies['crew'].apply(fDirector)"
   ]
  },
  {
   "cell_type": "code",
   "execution_count": null,
   "id": "47db82d9",
   "metadata": {},
   "outputs": [],
   "source": [
    "movies.head(1)"
   ]
  },
  {
   "attachments": {},
   "cell_type": "markdown",
   "id": "fa711827",
   "metadata": {},
   "source": [
    "overview"
   ]
  },
  {
   "cell_type": "code",
   "execution_count": null,
   "id": "e20d4179",
   "metadata": {},
   "outputs": [],
   "source": [
    "movies['overview'][0]\n",
    "#its a string"
   ]
  },
  {
   "cell_type": "code",
   "execution_count": null,
   "id": "64882ceb",
   "metadata": {},
   "outputs": [],
   "source": [
    "# spliting the overview data into words with lambda split function\n",
    "movies['overview'] = movies['overview'].apply(lambda x:x.split())"
   ]
  },
  {
   "cell_type": "code",
   "execution_count": null,
   "id": "f4a40bc1",
   "metadata": {},
   "outputs": [],
   "source": [
    "movies.head(1)"
   ]
  }
 ],
 "metadata": {
  "kernelspec": {
   "display_name": "Python 3 (ipykernel)",
   "language": "python",
   "name": "python3"
  },
  "language_info": {
   "codemirror_mode": {
    "name": "ipython",
    "version": 3
   },
   "file_extension": ".py",
   "mimetype": "text/x-python",
   "name": "python",
   "nbconvert_exporter": "python",
   "pygments_lexer": "ipython3",
   "version": "3.10.8"
  },
  "vscode": {
   "interpreter": {
    "hash": "369f2c481f4da34e4445cda3fffd2e751bd1c4d706f27375911949ba6bb62e1c"
   }
  }
 },
 "nbformat": 4,
 "nbformat_minor": 5
}
