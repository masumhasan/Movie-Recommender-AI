{
 "cells": [
  {
   "cell_type": "code",
   "execution_count": 1,
   "id": "96dca19a",
   "metadata": {},
   "outputs": [],
   "source": [
    "import numpy as np\n",
    "import pandas as pd"
   ]
  },
  {
   "cell_type": "code",
   "execution_count": 2,
   "id": "d7717b9b",
   "metadata": {},
   "outputs": [],
   "source": [
    "movies = pd.read_csv('tmdb_5000_movies.csv')\n",
    "credits = pd.read_csv('tmdb_5000_credits.csv')"
   ]
  },
  {
   "cell_type": "code",
   "execution_count": null,
   "id": "104f22dd",
   "metadata": {},
   "outputs": [],
   "source": [
    "movies.head(5)"
   ]
  },
  {
   "cell_type": "code",
   "execution_count": null,
   "id": "31a1b2c8",
   "metadata": {
    "scrolled": true
   },
   "outputs": [],
   "source": [
    "credits.head(1)['cast'].values"
   ]
  },
  {
   "cell_type": "code",
   "execution_count": null,
   "id": "e070f2d5",
   "metadata": {},
   "outputs": [],
   "source": [
    "credits.head(1)['crew'].values\n",
    "# show 1 crew values"
   ]
  },
  {
   "cell_type": "markdown",
   "id": "eee95d6e",
   "metadata": {},
   "source": [
    "Marge 2 dataset"
   ]
  },
  {
   "cell_type": "code",
   "execution_count": 9,
   "id": "8c44a76e",
   "metadata": {},
   "outputs": [],
   "source": [
    "#dataset marge code\n",
    "\n",
    "#movies.merge(credits,on='title')\n",
    "#check size\n",
    "# movies.merge(credits,on='title').shape\n",
    "#assign new df in movies\n",
    "movies = movies.merge(credits,on='title')"
   ]
  },
  {
   "cell_type": "code",
   "execution_count": 10,
   "id": "eb0de1ea",
   "metadata": {},
   "outputs": [
    {
     "data": {
      "text/plain": [
       "(4809, 23)"
      ]
     },
     "execution_count": 10,
     "metadata": {},
     "output_type": "execute_result"
    }
   ],
   "source": [
    "#check size\n",
    "movies.shape\n",
    "#credits.shape"
   ]
  },
  {
   "cell_type": "markdown",
   "id": "6e247598",
   "metadata": {},
   "source": [
    "DATA TRIMMING DROP UNWANTED COLUMNS OF MOVIES DATAFRAME\n"
   ]
  },
  {
   "cell_type": "code",
   "execution_count": null,
   "id": "19c0ec84",
   "metadata": {},
   "outputs": [],
   "source": [
    "#df info\n",
    "movies.info()"
   ]
  },
  {
   "cell_type": "code",
   "execution_count": 12,
   "id": "a759bc73",
   "metadata": {},
   "outputs": [],
   "source": [
    "#movies_id\n",
    "#title\n",
    "#genres\n",
    "#keywords\n",
    "#overview\n",
    "#cast\n",
    "#crew"
   ]
  },
  {
   "cell_type": "code",
   "execution_count": 13,
   "id": "43c61711",
   "metadata": {},
   "outputs": [],
   "source": [
    "#storing only prefered columns back into movies df\n",
    "movies = movies[['movie_id','title','genres','overview','keywords','cast','crew']]"
   ]
  },
  {
   "cell_type": "code",
   "execution_count": null,
   "id": "fbd36b6b",
   "metadata": {},
   "outputs": [],
   "source": [
    "#df info\n",
    "movies.info()"
   ]
  },
  {
   "cell_type": "code",
   "execution_count": null,
   "id": "4ee2beff",
   "metadata": {},
   "outputs": [],
   "source": [
    "movies.head(1)"
   ]
  },
  {
   "cell_type": "markdown",
   "id": "749a64b7",
   "metadata": {},
   "source": [
    "Data Preprocessing\n"
   ]
  },
  {
   "cell_type": "code",
   "execution_count": null,
   "id": "c9de027c",
   "metadata": {},
   "outputs": [],
   "source": [
    "#check for missing data\n",
    "movies.isnull().sum()"
   ]
  },
  {
   "cell_type": "code",
   "execution_count": 17,
   "id": "ca1aa1e6",
   "metadata": {},
   "outputs": [],
   "source": [
    "#Drop missing datas\n",
    "movies.dropna(inplace=True)"
   ]
  },
  {
   "cell_type": "code",
   "execution_count": 19,
   "id": "4568a786",
   "metadata": {},
   "outputs": [
    {
     "data": {
      "text/plain": [
       "0"
      ]
     },
     "execution_count": 19,
     "metadata": {},
     "output_type": "execute_result"
    }
   ],
   "source": [
    "#Check for duplicate data\n",
    "movies.duplicated().sum()"
   ]
  },
  {
   "cell_type": "code",
   "execution_count": null,
   "id": "916611c2",
   "metadata": {},
   "outputs": [],
   "source": [
    "#Check data\n",
    "movies.iloc[0].genres"
   ]
  },
  {
   "cell_type": "markdown",
   "id": "1394592e",
   "metadata": {},
   "source": [
    "Preprocessing\n",
    "\n"
   ]
  },
  {
   "cell_type": "code",
   "execution_count": 17,
   "id": "adf62995",
   "metadata": {},
   "outputs": [],
   "source": [
    "#GOAL\n",
    "#'[{\"id\": 28, \"name\": \"Action\"}, {\"id\": 12, \"name\": \"Adventure\"}, {\"id\": 14, \"name\": \"Fantasy\"}, {\"id\": 878, \"name\": \"Science Fiction\"}]'\n",
    "#['Action','Adventure','Fantacy']"
   ]
  },
  {
   "cell_type": "code",
   "execution_count": null,
   "id": "055a0948",
   "metadata": {},
   "outputs": [],
   "source": [
    "#Convert string of list to list \n",
    "import ast\n",
    "ast.literal_eval('[{\"id\": 28, \"name\": \"Action\"}, {\"id\": 12, \"name\": \"Adventure\"}, {\"id\": 14, \"name\": \"Fantasy\"}, {\"id\": 878, \"name\": \"Science Fiction\"}]')"
   ]
  },
  {
   "cell_type": "code",
   "execution_count": 26,
   "id": "822e2209",
   "metadata": {},
   "outputs": [],
   "source": [
    "#helper function\n",
    "def converttoL(obj):\n",
    "    L= []\n",
    "    for i in ast.literal_eval(obj): #using ast literal_eval function from string = list\n",
    "        L.append(i['name'])\n",
    "    return L    "
   ]
  },
  {
   "cell_type": "code",
   "execution_count": 29,
   "id": "0213b121",
   "metadata": {},
   "outputs": [],
   "source": [
    "#converting genres to a list from string\n",
    "movies['genres'] = movies['genres'].apply(converttoL) "
   ]
  },
  {
   "cell_type": "code",
   "execution_count": null,
   "id": "4e37ced7",
   "metadata": {},
   "outputs": [],
   "source": [
    "movies.head(1)"
   ]
  },
  {
   "cell_type": "code",
   "execution_count": 31,
   "id": "edb0618e",
   "metadata": {},
   "outputs": [],
   "source": [
    "#converting keywords to a list from string\n",
    "movies['keywords'] = movies['keywords'].apply(converttoL) "
   ]
  },
  {
   "cell_type": "code",
   "execution_count": null,
   "id": "30714ca2",
   "metadata": {},
   "outputs": [],
   "source": [
    "movies.head(1)"
   ]
  },
  {
   "cell_type": "code",
   "execution_count": 34,
   "id": "2a9d8cd8",
   "metadata": {},
   "outputs": [],
   "source": [
    "#helper function\n",
    "def convertcast(obj):\n",
    "    L= []\n",
    "    counter = 0\n",
    "    for i in ast.literal_eval(obj): #using ast literal_eval function from string = list\n",
    "        if counter !=4: #looping for 4 cast only\n",
    "            L.append(i['name'])\n",
    "            counter +=1\n",
    "        else:\n",
    "             break    \n",
    "    return L    "
   ]
  },
  {
   "cell_type": "code",
   "execution_count": 35,
   "id": "2bf76c98",
   "metadata": {},
   "outputs": [],
   "source": [
    "#converting casts to a list from string\n",
    "movies['cast'] = movies['cast'].apply(convertcast) "
   ]
  },
  {
   "cell_type": "code",
   "execution_count": null,
   "id": "9436448f",
   "metadata": {},
   "outputs": [],
   "source": [
    "movies['cast'][0]"
   ]
  },
  {
   "cell_type": "code",
   "execution_count": null,
   "id": "324514bd",
   "metadata": {},
   "outputs": [],
   "source": [
    "movies.head()"
   ]
  },
  {
   "cell_type": "code",
   "execution_count": 38,
   "id": "e57db11e",
   "metadata": {},
   "outputs": [],
   "source": [
    "#Helper function\n",
    "def fDirector(obj):\n",
    "    L= []\n",
    "    for i in ast.literal_eval(obj): #using ast literal_eval function from string = list\n",
    "        if i['job'] == 'Director':\n",
    "            L.append(i['name'])\n",
    "            break\n",
    "    return L    "
   ]
  },
  {
   "cell_type": "code",
   "execution_count": 39,
   "id": "20a439d6",
   "metadata": {},
   "outputs": [],
   "source": [
    "#converting casts (Director) to a list from string\n",
    "movies['crew'] = movies['crew'].apply(fDirector)"
   ]
  },
  {
   "cell_type": "code",
   "execution_count": null,
   "id": "47db82d9",
   "metadata": {},
   "outputs": [],
   "source": [
    "movies.head(1)"
   ]
  },
  {
   "cell_type": "markdown",
   "id": "fa711827",
   "metadata": {},
   "source": [
    "overview"
   ]
  },
  {
   "cell_type": "code",
   "execution_count": null,
   "id": "e20d4179",
   "metadata": {},
   "outputs": [],
   "source": [
    "movies['overview'][0]\n",
    "#its a string"
   ]
  },
  {
   "cell_type": "code",
   "execution_count": 42,
   "id": "64882ceb",
   "metadata": {},
   "outputs": [],
   "source": [
    "# spliting the overview data into words with lambda split function\n",
    "movies['overview'] = movies['overview'].apply(lambda x:x.split())"
   ]
  },
  {
   "cell_type": "code",
   "execution_count": null,
   "id": "f4a40bc1",
   "metadata": {},
   "outputs": [],
   "source": [
    "movies.head(1)"
   ]
  },
  {
   "cell_type": "markdown",
   "id": "1c3c2553",
   "metadata": {},
   "source": [
    "Removing Spaces from data"
   ]
  },
  {
   "cell_type": "code",
   "execution_count": 44,
   "id": "cfcc132a",
   "metadata": {},
   "outputs": [],
   "source": [
    "#Science Fiction to ScienceFiction\n",
    "movies['genres'] = movies['genres'].apply(lambda x:[i.replace(\" \",\"\") for i in x])\n",
    "movies['keywords'] = movies['keywords'].apply(lambda x:[i.replace(\" \",\"\") for i in x])\n",
    "movies['cast'] = movies['cast'].apply(lambda x:[i.replace(\" \",\"\") for i in x])\n",
    "movies['crew'] = movies['crew'].apply(lambda x:[i.replace(\" \",\"\") for i in x])"
   ]
  },
  {
   "cell_type": "code",
   "execution_count": null,
   "id": "ad9a230b",
   "metadata": {},
   "outputs": [],
   "source": [
    "movies.head(5)"
   ]
  },
  {
   "cell_type": "markdown",
   "id": "e4474a16",
   "metadata": {},
   "source": [
    "Adding all data to tags"
   ]
  },
  {
   "cell_type": "code",
   "execution_count": 47,
   "id": "578ad77f",
   "metadata": {},
   "outputs": [],
   "source": [
    "movies['tags']= movies['overview'] + movies['genres'] + movies['keywords'] + movies['cast'] + movies['crew']"
   ]
  },
  {
   "cell_type": "code",
   "execution_count": null,
   "id": "39c48f44",
   "metadata": {},
   "outputs": [],
   "source": [
    "movies.head()"
   ]
  },
  {
   "cell_type": "code",
   "execution_count": null,
   "id": "8792b957",
   "metadata": {},
   "outputs": [],
   "source": [
    "movies['tags'][0]"
   ]
  },
  {
   "cell_type": "markdown",
   "id": "982ac48a",
   "metadata": {},
   "source": [
    "NEW DATAFRAME"
   ]
  },
  {
   "cell_type": "code",
   "execution_count": 50,
   "id": "a1224018",
   "metadata": {},
   "outputs": [],
   "source": [
    "nFrame = movies[['movie_id','title','tags']]"
   ]
  },
  {
   "cell_type": "code",
   "execution_count": null,
   "id": "83f09fa6",
   "metadata": {},
   "outputs": [],
   "source": [
    "nFrame"
   ]
  },
  {
   "cell_type": "markdown",
   "id": "5b446959",
   "metadata": {},
   "source": [
    "Converting Tags to string"
   ]
  },
  {
   "cell_type": "code",
   "execution_count": null,
   "id": "e38364f4",
   "metadata": {},
   "outputs": [],
   "source": [
    "#Converting Tags to string\n",
    "nFrame['tags'] = nFrame['tags'].apply(lambda x:\" \".join(x))"
   ]
  },
  {
   "cell_type": "code",
   "execution_count": null,
   "id": "845d5a75",
   "metadata": {},
   "outputs": [],
   "source": [
    "nFrame.head()"
   ]
  },
  {
   "cell_type": "code",
   "execution_count": null,
   "id": "f3e6b7e3",
   "metadata": {},
   "outputs": [],
   "source": [
    "nFrame['tags'][0] #overview of 0th data"
   ]
  },
  {
   "cell_type": "code",
   "execution_count": null,
   "id": "ad4c292b",
   "metadata": {},
   "outputs": [],
   "source": [
    "#convert to lowercase\n",
    "nFrame['tags'] = nFrame['tags'].apply(lambda x:x.lower())"
   ]
  },
  {
   "cell_type": "code",
   "execution_count": null,
   "id": "3292a732",
   "metadata": {},
   "outputs": [],
   "source": [
    "nFrame.head()"
   ]
  },
  {
   "cell_type": "markdown",
   "id": "6f7b7466",
   "metadata": {},
   "source": [
    "Preprocessing Complete"
   ]
  },
  {
   "cell_type": "markdown",
   "id": "4acaac52",
   "metadata": {},
   "source": [
    "Converting data to vector"
   ]
  },
  {
   "cell_type": "code",
   "execution_count": 48,
   "id": "7e477cec",
   "metadata": {},
   "outputs": [],
   "source": [
    "#remove stopwords like a an the and or \n",
    "#making vector for 5000 words\n",
    "from sklearn.feature_extraction.text import CountVectorizer\n",
    "cv = CountVectorizer(max_features=5000,stop_words='english')"
   ]
  },
  {
   "cell_type": "code",
   "execution_count": 50,
   "id": "9f2b817e",
   "metadata": {},
   "outputs": [],
   "source": [
    "#converting nFrame ['tags'] to vector\n",
    "#cv.fit_transform(nFrame['tags']).toarray().shape\n",
    "vectors = cv.fit_transform(nFrame['tags']).toarray()\n"
   ]
  },
  {
   "cell_type": "code",
   "execution_count": null,
   "id": "5d59d838",
   "metadata": {},
   "outputs": [],
   "source": [
    "cv.get_feature_names_out()\n",
    "#len(cv.get_feature_names_out())"
   ]
  },
  {
   "cell_type": "code",
   "execution_count": 52,
   "id": "188e8e92",
   "metadata": {},
   "outputs": [],
   "source": [
    "import nltk\n",
    "#import nltk NLP library to stem words"
   ]
  },
  {
   "cell_type": "code",
   "execution_count": 53,
   "id": "f8e44922",
   "metadata": {},
   "outputs": [],
   "source": [
    "from nltk.stem.porter import PorterStemmer\n",
    "ps = PorterStemmer()"
   ]
  },
  {
   "cell_type": "code",
   "execution_count": 55,
   "id": "814e362f",
   "metadata": {},
   "outputs": [
    {
     "data": {
      "text/plain": [
       "'believ'"
      ]
     },
     "execution_count": 55,
     "metadata": {},
     "output_type": "execute_result"
    }
   ],
   "source": [
    "#sample\n",
    "ps.stem('believed')"
   ]
  },
  {
   "cell_type": "code",
   "execution_count": 56,
   "id": "1c159733",
   "metadata": {},
   "outputs": [],
   "source": [
    "#helper function\n",
    "def wordRoot(text):\n",
    "    w=[]\n",
    "    for i in text.split():\n",
    "        w.append(ps.stem(i))\n",
    "    return \" \".join(w)\n"
   ]
  },
  {
   "cell_type": "code",
   "execution_count": null,
   "id": "9e8b27c4",
   "metadata": {},
   "outputs": [],
   "source": [
    "#test\n",
    "wordRoot('hello im loving this system')"
   ]
  },
  {
   "cell_type": "code",
   "execution_count": null,
   "id": "8b9ed0c8",
   "metadata": {},
   "outputs": [],
   "source": [
    "nFrame['tags'] = nFrame['tags'].apply(wordRoot)"
   ]
  },
  {
   "cell_type": "markdown",
   "id": "e4f51643",
   "metadata": {},
   "source": [
    "Calculating Movie Vector cosine distaces"
   ]
  },
  {
   "cell_type": "code",
   "execution_count": 59,
   "id": "5c9bd243",
   "metadata": {},
   "outputs": [],
   "source": [
    "#Calculating Movie Vector cosine distaces\n",
    "from sklearn.metrics.pairwise import cosine_similarity"
   ]
  },
  {
   "cell_type": "code",
   "execution_count": 60,
   "id": "e3226605",
   "metadata": {},
   "outputs": [],
   "source": [
    "#cosine_similarity(vectors).shape\n",
    "match = cosine_similarity(vectors)"
   ]
  },
  {
   "cell_type": "code",
   "execution_count": 61,
   "id": "dddafa95",
   "metadata": {},
   "outputs": [
    {
     "data": {
      "text/plain": [
       "array([1.        , 0.08964215, 0.05884899, ..., 0.02548236, 0.02817181,\n",
       "       0.        ])"
      ]
     },
     "execution_count": 61,
     "metadata": {},
     "output_type": "execute_result"
    }
   ],
   "source": [
    "#Similarity Score\n",
    "match[0]"
   ]
  },
  {
   "cell_type": "code",
   "execution_count": null,
   "id": "606b2ae4",
   "metadata": {},
   "outputs": [],
   "source": [
    "#Recomendation for movie index 0\n",
    "sorted(list(enumerate(match[0])), reverse=True, key=lambda x:x[1])[1:6]"
   ]
  },
  {
   "cell_type": "code",
   "execution_count": null,
   "id": "7080d72c",
   "metadata": {},
   "outputs": [],
   "source": [
    "#Fetch Index of movie\n",
    "nFrame[nFrame['title'] == 'Titan A.E.'].index[0]"
   ]
  },
  {
   "cell_type": "code",
   "execution_count": 65,
   "id": "fb39ae06",
   "metadata": {},
   "outputs": [
    {
     "data": {
      "text/plain": [
       "'Titan A.E.'"
      ]
     },
     "execution_count": 65,
     "metadata": {},
     "output_type": "execute_result"
    }
   ],
   "source": [
    "#fetch title from index\n",
    "nFrame.iloc[539].title\n"
   ]
  },
  {
   "cell_type": "code",
   "execution_count": 60,
   "id": "34b2f6e0",
   "metadata": {},
   "outputs": [],
   "source": [
    "def recommend(movie):\n",
    "    movie_index = nFrame[nFrame['title'] == movie].index[0]\n",
    "    distances = match[movie_index]\n",
    "    movies_list = sorted(list(enumerate(distances)), reverse=True, key=lambda x:x[1])[1:6]\n",
    "    \n",
    "    for i in movies_list:\n",
    "        print(nFrame.iloc[i[0]].title)\n",
    "        #print(i[0])\n",
    "    \n",
    " "
   ]
  },
  {
   "cell_type": "code",
   "execution_count": null,
   "id": "a8ae03de",
   "metadata": {},
   "outputs": [],
   "source": [
    "recommend('Batman Begins')"
   ]
  }
 ],
 "metadata": {
  "kernelspec": {
   "display_name": "Python 3 (ipykernel)",
   "language": "python",
   "name": "python3"
  },
  "language_info": {
   "codemirror_mode": {
    "name": "ipython",
    "version": 3
   },
   "file_extension": ".py",
   "mimetype": "text/x-python",
   "name": "python",
   "nbconvert_exporter": "python",
   "pygments_lexer": "ipython3",
   "version": "3.10.8"
  },
  "vscode": {
   "interpreter": {
    "hash": "369f2c481f4da34e4445cda3fffd2e751bd1c4d706f27375911949ba6bb62e1c"
   }
  }
 },
 "nbformat": 4,
 "nbformat_minor": 5
}
