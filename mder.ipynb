{
  "cells": [
    {
      "cell_type": "code",
      "execution_count": null,
      "id": "96dca19a",
      "metadata": {
        "id": "96dca19a"
      },
      "outputs": [],
      "source": [
        "import numpy as np\n",
        "import pandas as pd"
      ]
    },
    {
      "cell_type": "code",
      "execution_count": null,
      "id": "d7717b9b",
      "metadata": {
        "id": "d7717b9b"
      },
      "outputs": [],
      "source": [
        "movies = pd.read_csv('https://raw.githubusercontent.com/masumhasan/Movie-Recommender-AI/main/tmdb_5000_movies.csv')\n",
        "credits = pd.read_csv('https://raw.githubusercontent.com/masumhasan/Movie-Recommender-AI/main/tmdb_5000_credits.csv')"
      ]
    },
    {
      "cell_type": "code",
      "execution_count": null,
      "id": "104f22dd",
      "metadata": {
        "id": "104f22dd"
      },
      "outputs": [],
      "source": [
        "movies.head(1)"
      ]
    },
    {
      "cell_type": "code",
      "execution_count": null,
      "id": "31a1b2c8",
      "metadata": {
        "id": "31a1b2c8"
      },
      "outputs": [],
      "source": [
        "credits.head(1)['cast'].values"
      ]
    },
    {
      "cell_type": "code",
      "execution_count": null,
      "id": "e070f2d5",
      "metadata": {
        "id": "e070f2d5"
      },
      "outputs": [],
      "source": [
        "credits.head(1)['crew'].values\n",
        "# show 1 crew values"
      ]
    },
    {
      "cell_type": "markdown",
      "id": "eee95d6e",
      "metadata": {
        "id": "eee95d6e"
      },
      "source": [
        "Marge 2 dataset"
      ]
    },
    {
      "cell_type": "code",
      "execution_count": null,
      "id": "8c44a76e",
      "metadata": {
        "id": "8c44a76e"
      },
      "outputs": [],
      "source": [
        "#dataset marge code\n",
        "\n",
        "#movies.merge(credits,on='title')\n",
        "#check size\n",
        "# movies.merge(credits,on='title').shape\n",
        "#assign new df in movies\n",
        "movies = movies.merge(credits,on='title')"
      ]
    },
    {
      "cell_type": "code",
      "execution_count": null,
      "id": "eb0de1ea",
      "metadata": {
        "colab": {
          "base_uri": "https://localhost:8080/"
        },
        "id": "eb0de1ea",
        "outputId": "c88c7d9c-c426-4ffb-ca5b-4c82c3f79a3b"
      },
      "outputs": [
        {
          "output_type": "execute_result",
          "data": {
            "text/plain": [
              "(4809, 23)"
            ]
          },
          "metadata": {},
          "execution_count": 7
        }
      ],
      "source": [
        "#check size\n",
        "movies.shape\n",
        "#credits.shape"
      ]
    },
    {
      "cell_type": "markdown",
      "id": "6e247598",
      "metadata": {
        "id": "6e247598"
      },
      "source": [
        "DATA TRIMMING DROP UNWANTED COLUMNS OF MOVIES DATAFRAME\n"
      ]
    },
    {
      "cell_type": "code",
      "execution_count": null,
      "id": "19c0ec84",
      "metadata": {
        "id": "19c0ec84"
      },
      "outputs": [],
      "source": [
        "#df info\n",
        "movies.info()"
      ]
    },
    {
      "cell_type": "code",
      "execution_count": null,
      "id": "a759bc73",
      "metadata": {
        "id": "a759bc73"
      },
      "outputs": [],
      "source": [
        "#movies_id\n",
        "#title\n",
        "#genres\n",
        "#keywords\n",
        "#overview\n",
        "#cast\n",
        "#crew"
      ]
    },
    {
      "cell_type": "code",
      "execution_count": null,
      "id": "43c61711",
      "metadata": {
        "id": "43c61711"
      },
      "outputs": [],
      "source": [
        "#storing only prefered columns back into movies df\n",
        "movies = movies[['movie_id','title','genres','overview','keywords','cast','crew']]"
      ]
    },
    {
      "cell_type": "code",
      "execution_count": null,
      "id": "fbd36b6b",
      "metadata": {
        "id": "fbd36b6b"
      },
      "outputs": [],
      "source": [
        "#df info\n",
        "movies.info()"
      ]
    },
    {
      "cell_type": "code",
      "execution_count": null,
      "id": "4ee2beff",
      "metadata": {
        "id": "4ee2beff"
      },
      "outputs": [],
      "source": [
        "movies.head(1)"
      ]
    },
    {
      "cell_type": "markdown",
      "id": "749a64b7",
      "metadata": {
        "id": "749a64b7"
      },
      "source": [
        "Data Preprocessing\n"
      ]
    },
    {
      "cell_type": "code",
      "execution_count": null,
      "id": "c9de027c",
      "metadata": {
        "id": "c9de027c"
      },
      "outputs": [],
      "source": [
        "#check for missing data\n",
        "movies.isnull().sum()"
      ]
    },
    {
      "cell_type": "code",
      "execution_count": null,
      "id": "ca1aa1e6",
      "metadata": {
        "id": "ca1aa1e6"
      },
      "outputs": [],
      "source": [
        "#Drop missing datas\n",
        "movies.dropna(inplace=True)"
      ]
    },
    {
      "cell_type": "code",
      "execution_count": null,
      "id": "4568a786",
      "metadata": {
        "id": "4568a786"
      },
      "outputs": [],
      "source": [
        "#Check for duplicate data\n",
        "movies.duplicated().sum()"
      ]
    },
    {
      "cell_type": "code",
      "execution_count": null,
      "id": "916611c2",
      "metadata": {
        "id": "916611c2"
      },
      "outputs": [],
      "source": [
        "#Check data\n",
        "movies.iloc[0].genres"
      ]
    },
    {
      "cell_type": "markdown",
      "id": "1394592e",
      "metadata": {
        "id": "1394592e"
      },
      "source": [
        "Preprocessing\n",
        "\n"
      ]
    },
    {
      "cell_type": "code",
      "execution_count": null,
      "id": "adf62995",
      "metadata": {
        "id": "adf62995"
      },
      "outputs": [],
      "source": [
        "#GOAL\n",
        "#'[{\"id\": 28, \"name\": \"Action\"}, {\"id\": 12, \"name\": \"Adventure\"}, {\"id\": 14, \"name\": \"Fantasy\"}, {\"id\": 878, \"name\": \"Science Fiction\"}]'\n",
        "#['Action','Adventure','Fantacy']"
      ]
    },
    {
      "cell_type": "code",
      "execution_count": null,
      "metadata": {
        "id": "sa5HTFVBL3Ul"
      },
      "outputs": [],
      "source": [
        "#Convert string of list to list \n",
        "import ast\n",
        "ast.literal_eval('[{\"id\": 28, \"name\": \"Action\"}, {\"id\": 12, \"name\": \"Adventure\"}, {\"id\": 14, \"name\": \"Fantasy\"}, {\"id\": 878, \"name\": \"Science Fiction\"}]')"
      ],
      "id": "sa5HTFVBL3Ul"
    },
    {
      "cell_type": "code",
      "execution_count": null,
      "id": "822e2209",
      "metadata": {
        "id": "822e2209"
      },
      "outputs": [],
      "source": [
        "#helper function\n",
        "def converttoL(obj):\n",
        "    L= []\n",
        "    for i in ast.literal_eval(obj): #using ast literal_eval function from string = list\n",
        "        L.append(i['name'])\n",
        "    return L    "
      ]
    },
    {
      "cell_type": "code",
      "execution_count": null,
      "id": "0213b121",
      "metadata": {
        "id": "0213b121"
      },
      "outputs": [],
      "source": [
        "#converting genres to a list from string\n",
        "movies['genres'] = movies['genres'].apply(converttoL) "
      ]
    },
    {
      "cell_type": "code",
      "execution_count": null,
      "id": "4e37ced7",
      "metadata": {
        "id": "4e37ced7"
      },
      "outputs": [],
      "source": [
        "movies.head(1)"
      ]
    },
    {
      "cell_type": "code",
      "execution_count": null,
      "id": "edb0618e",
      "metadata": {
        "id": "edb0618e"
      },
      "outputs": [],
      "source": [
        "#converting keywords to a list from string\n",
        "movies['keywords'] = movies['keywords'].apply(converttoL) "
      ]
    },
    {
      "cell_type": "code",
      "execution_count": null,
      "id": "30714ca2",
      "metadata": {
        "id": "30714ca2"
      },
      "outputs": [],
      "source": [
        "movies.head(1)"
      ]
    },
    {
      "cell_type": "code",
      "execution_count": null,
      "id": "2a9d8cd8",
      "metadata": {
        "id": "2a9d8cd8"
      },
      "outputs": [],
      "source": [
        "#helper function\n",
        "def convertcast(obj):\n",
        "    L= []\n",
        "    counter = 0\n",
        "    for i in ast.literal_eval(obj): #using ast literal_eval function from string = list\n",
        "        if counter !=4: #looping for 4 cast only\n",
        "            L.append(i['name'])\n",
        "            counter +=1\n",
        "        else:\n",
        "             break    \n",
        "    return L    "
      ]
    },
    {
      "cell_type": "code",
      "execution_count": null,
      "id": "2bf76c98",
      "metadata": {
        "id": "2bf76c98"
      },
      "outputs": [],
      "source": [
        "#converting casts to a list from string\n",
        "movies['cast'] = movies['cast'].apply(convertcast) "
      ]
    },
    {
      "cell_type": "code",
      "execution_count": null,
      "id": "9436448f",
      "metadata": {
        "colab": {
          "base_uri": "https://localhost:8080/"
        },
        "id": "9436448f",
        "outputId": "59850785-f506-44ac-b8a5-e308094e1551"
      },
      "outputs": [
        {
          "output_type": "execute_result",
          "data": {
            "text/plain": [
              "['Sam Worthington', 'Zoe Saldana', 'Sigourney Weaver', 'Stephen Lang']"
            ]
          },
          "metadata": {},
          "execution_count": 26
        }
      ],
      "source": [
        "movies['cast'][0]"
      ]
    },
    {
      "cell_type": "code",
      "execution_count": null,
      "id": "324514bd",
      "metadata": {
        "id": "324514bd"
      },
      "outputs": [],
      "source": [
        "movies.head()"
      ]
    },
    {
      "cell_type": "code",
      "execution_count": null,
      "id": "e57db11e",
      "metadata": {
        "id": "e57db11e"
      },
      "outputs": [],
      "source": [
        "#Helper function\n",
        "def fDirector(obj):\n",
        "    L= []\n",
        "    for i in ast.literal_eval(obj): #using ast literal_eval function from string = list\n",
        "        if i['job'] == 'Director':\n",
        "            L.append(i['name'])\n",
        "            break\n",
        "    return L    "
      ]
    },
    {
      "cell_type": "code",
      "execution_count": null,
      "id": "20a439d6",
      "metadata": {
        "id": "20a439d6"
      },
      "outputs": [],
      "source": [
        "#converting casts (Director) to a list from string\n",
        "movies['crew'] = movies['crew'].apply(fDirector)"
      ]
    },
    {
      "cell_type": "code",
      "execution_count": null,
      "id": "47db82d9",
      "metadata": {
        "id": "47db82d9"
      },
      "outputs": [],
      "source": [
        "movies.head()"
      ]
    },
    {
      "cell_type": "markdown",
      "id": "fa711827",
      "metadata": {
        "id": "fa711827"
      },
      "source": [
        "overview"
      ]
    },
    {
      "cell_type": "code",
      "execution_count": null,
      "id": "e20d4179",
      "metadata": {
        "colab": {
          "base_uri": "https://localhost:8080/",
          "height": 53
        },
        "id": "e20d4179",
        "outputId": "9428748c-3843-4a8a-a055-1cd744b7489e"
      },
      "outputs": [
        {
          "output_type": "execute_result",
          "data": {
            "text/plain": [
              "'In the 22nd century, a paraplegic Marine is dispatched to the moon Pandora on a unique mission, but becomes torn between following orders and protecting an alien civilization.'"
            ],
            "application/vnd.google.colaboratory.intrinsic+json": {
              "type": "string"
            }
          },
          "metadata": {},
          "execution_count": 31
        }
      ],
      "source": [
        "movies['overview'][0]\n",
        "#its a string"
      ]
    },
    {
      "cell_type": "code",
      "execution_count": null,
      "id": "64882ceb",
      "metadata": {
        "id": "64882ceb"
      },
      "outputs": [],
      "source": [
        "# spliting the overview data into words with lambda split function\n",
        "movies['overview'] = movies['overview'].apply(lambda x:x.split())"
      ]
    },
    {
      "cell_type": "code",
      "execution_count": null,
      "id": "f4a40bc1",
      "metadata": {
        "id": "f4a40bc1"
      },
      "outputs": [],
      "source": [
        "movies.head(4)"
      ]
    },
    {
      "cell_type": "markdown",
      "id": "1c3c2553",
      "metadata": {
        "id": "1c3c2553"
      },
      "source": [
        "Removing Spaces from data"
      ]
    },
    {
      "cell_type": "code",
      "execution_count": null,
      "id": "cfcc132a",
      "metadata": {
        "id": "cfcc132a"
      },
      "outputs": [],
      "source": [
        "#Science Fiction to ScienceFiction\n",
        "movies['genres'] = movies['genres'].apply(lambda x:[i.replace(\" \",\"\") for i in x])\n",
        "movies['keywords'] = movies['keywords'].apply(lambda x:[i.replace(\" \",\"\") for i in x])\n",
        "movies['cast'] = movies['cast'].apply(lambda x:[i.replace(\" \",\"\") for i in x])\n",
        "movies['crew'] = movies['crew'].apply(lambda x:[i.replace(\" \",\"\") for i in x])"
      ]
    },
    {
      "cell_type": "code",
      "execution_count": null,
      "id": "ad9a230b",
      "metadata": {
        "id": "ad9a230b"
      },
      "outputs": [],
      "source": [
        "movies.head(2)"
      ]
    },
    {
      "cell_type": "markdown",
      "id": "e4474a16",
      "metadata": {
        "id": "e4474a16"
      },
      "source": [
        "Adding all data to tags"
      ]
    },
    {
      "cell_type": "code",
      "execution_count": null,
      "id": "578ad77f",
      "metadata": {
        "id": "578ad77f"
      },
      "outputs": [],
      "source": [
        "movies['tags']= movies['overview'] + movies['genres'] + movies['keywords'] + movies['cast'] + movies['crew']"
      ]
    },
    {
      "cell_type": "code",
      "execution_count": null,
      "id": "39c48f44",
      "metadata": {
        "id": "39c48f44"
      },
      "outputs": [],
      "source": [
        "movies.head()"
      ]
    },
    {
      "cell_type": "markdown",
      "id": "982ac48a",
      "metadata": {
        "id": "982ac48a"
      },
      "source": [
        "NEW DATAFRAME"
      ]
    },
    {
      "cell_type": "code",
      "execution_count": null,
      "id": "a1224018",
      "metadata": {
        "id": "a1224018"
      },
      "outputs": [],
      "source": [
        "nFrame = movies[['movie_id','title','tags']]"
      ]
    },
    {
      "cell_type": "code",
      "execution_count": null,
      "id": "83f09fa6",
      "metadata": {
        "id": "83f09fa6"
      },
      "outputs": [],
      "source": [
        "nFrame"
      ]
    },
    {
      "cell_type": "markdown",
      "id": "5b446959",
      "metadata": {
        "id": "5b446959"
      },
      "source": [
        "Converting Tags to string"
      ]
    },
    {
      "cell_type": "code",
      "execution_count": null,
      "id": "e38364f4",
      "metadata": {
        "id": "e38364f4"
      },
      "outputs": [],
      "source": [
        "#Converting Tags to string\n",
        "nFrame['tags'] = nFrame['tags'].apply(lambda x:\" \".join(x))"
      ]
    },
    {
      "cell_type": "code",
      "execution_count": null,
      "id": "845d5a75",
      "metadata": {
        "id": "845d5a75"
      },
      "outputs": [],
      "source": [
        "nFrame.head()"
      ]
    },
    {
      "cell_type": "code",
      "execution_count": null,
      "id": "f3e6b7e3",
      "metadata": {
        "id": "f3e6b7e3"
      },
      "outputs": [],
      "source": [
        "nFrame['tags'][0] #overview of 0th data"
      ]
    },
    {
      "cell_type": "code",
      "execution_count": null,
      "id": "ad4c292b",
      "metadata": {
        "id": "ad4c292b"
      },
      "outputs": [],
      "source": [
        "#convert to lowercase\n",
        "nFrame['tags'] = nFrame['tags'].apply(lambda x:x.lower())"
      ]
    },
    {
      "cell_type": "code",
      "execution_count": null,
      "id": "3292a732",
      "metadata": {
        "id": "3292a732"
      },
      "outputs": [],
      "source": [
        "nFrame.head()"
      ]
    },
    {
      "cell_type": "markdown",
      "id": "6f7b7466",
      "metadata": {
        "id": "6f7b7466"
      },
      "source": [
        "Preprocessing Complete"
      ]
    },
    {
      "cell_type": "markdown",
      "id": "4acaac52",
      "metadata": {
        "id": "4acaac52"
      },
      "source": [
        "Converting data to vector"
      ]
    },
    {
      "cell_type": "code",
      "execution_count": null,
      "id": "7e477cec",
      "metadata": {
        "id": "7e477cec"
      },
      "outputs": [],
      "source": [
        "#remove stopwords like a an the and or \n",
        "#making vector for 5000 words\n",
        "from sklearn.feature_extraction.text import CountVectorizer\n",
        "cv = CountVectorizer(max_features=5000,stop_words='english')"
      ]
    },
    {
      "cell_type": "code",
      "execution_count": null,
      "id": "9f2b817e",
      "metadata": {
        "id": "9f2b817e"
      },
      "outputs": [],
      "source": [
        "#converting nFrame ['tags'] to vector\n",
        "#cv.fit_transform(nFrame['tags']).toarray().shape\n",
        "vectors = cv.fit_transform(nFrame['tags']).toarray()"
      ]
    },
    {
      "cell_type": "code",
      "execution_count": null,
      "id": "5d59d838",
      "metadata": {
        "id": "5d59d838"
      },
      "outputs": [],
      "source": [
        "cv.get_feature_names_out()\n",
        "#len(cv.get_feature_names_out())"
      ]
    },
    {
      "cell_type": "code",
      "execution_count": null,
      "id": "188e8e92",
      "metadata": {
        "id": "188e8e92"
      },
      "outputs": [],
      "source": [
        "import nltk\n",
        "#import nltk NLP library to stem words"
      ]
    },
    {
      "cell_type": "code",
      "execution_count": null,
      "id": "f8e44922",
      "metadata": {
        "id": "f8e44922"
      },
      "outputs": [],
      "source": [
        "from nltk.stem.porter import PorterStemmer\n",
        "ps = PorterStemmer()"
      ]
    },
    {
      "cell_type": "code",
      "execution_count": null,
      "id": "814e362f",
      "metadata": {
        "colab": {
          "base_uri": "https://localhost:8080/",
          "height": 35
        },
        "id": "814e362f",
        "outputId": "1af78b91-9c8e-4301-9970-bfa2d3e9c30a"
      },
      "outputs": [
        {
          "output_type": "execute_result",
          "data": {
            "text/plain": [
              "'danc'"
            ],
            "application/vnd.google.colaboratory.intrinsic+json": {
              "type": "string"
            }
          },
          "metadata": {},
          "execution_count": 50
        }
      ],
      "source": [
        "#sample\n",
        "ps.stem('dancing')"
      ]
    },
    {
      "cell_type": "code",
      "execution_count": null,
      "id": "1c159733",
      "metadata": {
        "id": "1c159733"
      },
      "outputs": [],
      "source": [
        "#helper function\n",
        "def wordRoot(text):\n",
        "    w=[]\n",
        "    for i in text.split():\n",
        "        w.append(ps.stem(i))\n",
        "    return \" \".join(w)\n"
      ]
    },
    {
      "cell_type": "code",
      "execution_count": null,
      "id": "9e8b27c4",
      "metadata": {
        "id": "9e8b27c4"
      },
      "outputs": [],
      "source": [
        "#test\n",
        "wordRoot('hello im loving this system')"
      ]
    },
    {
      "cell_type": "code",
      "execution_count": null,
      "id": "8b9ed0c8",
      "metadata": {
        "id": "8b9ed0c8"
      },
      "outputs": [],
      "source": [
        "nFrame['tags'] = nFrame['tags'].apply(wordRoot)"
      ]
    },
    {
      "cell_type": "markdown",
      "id": "e4f51643",
      "metadata": {
        "id": "e4f51643"
      },
      "source": [
        "Calculating Movie Vector cosine distaces"
      ]
    },
    {
      "cell_type": "code",
      "execution_count": null,
      "id": "5c9bd243",
      "metadata": {
        "id": "5c9bd243"
      },
      "outputs": [],
      "source": [
        "#Calculating Movie Vector cosine distaces\n",
        "from sklearn.metrics.pairwise import cosine_similarity"
      ]
    },
    {
      "cell_type": "code",
      "execution_count": null,
      "id": "e3226605",
      "metadata": {
        "id": "e3226605"
      },
      "outputs": [],
      "source": [
        "#cosine_similarity(vectors).shape\n",
        "match = cosine_similarity(vectors)"
      ]
    },
    {
      "cell_type": "code",
      "execution_count": null,
      "id": "dddafa95",
      "metadata": {
        "colab": {
          "base_uri": "https://localhost:8080/"
        },
        "id": "dddafa95",
        "outputId": "4158043f-56f0-4a63-a502-d64872ce6fd6"
      },
      "outputs": [
        {
          "output_type": "execute_result",
          "data": {
            "text/plain": [
              "array([1.        , 0.08964215, 0.05884899, ..., 0.02548236, 0.02817181,\n",
              "       0.        ])"
            ]
          },
          "metadata": {},
          "execution_count": 56
        }
      ],
      "source": [
        "#Similarity Score\n",
        "match[0]"
      ]
    },
    {
      "cell_type": "code",
      "execution_count": null,
      "id": "606b2ae4",
      "metadata": {
        "id": "606b2ae4"
      },
      "outputs": [],
      "source": [
        "#Recomendation for movie index 0\n",
        "sorted(list(enumerate(match[0])), reverse=True, key=lambda x:x[1])[1:6]"
      ]
    },
    {
      "cell_type": "code",
      "execution_count": null,
      "id": "7080d72c",
      "metadata": {
        "colab": {
          "base_uri": "https://localhost:8080/"
        },
        "id": "7080d72c",
        "outputId": "15b86b52-e507-4f71-9026-d466a8723456"
      },
      "outputs": [
        {
          "output_type": "execute_result",
          "data": {
            "text/plain": [
              "1164"
            ]
          },
          "metadata": {},
          "execution_count": 58
        }
      ],
      "source": [
        "#Fetch Index of movie\n",
        "nFrame[nFrame['title'] == 'The Social Network'].index[0]"
      ]
    },
    {
      "cell_type": "code",
      "execution_count": null,
      "id": "fb39ae06",
      "metadata": {
        "colab": {
          "base_uri": "https://localhost:8080/",
          "height": 35
        },
        "id": "fb39ae06",
        "outputId": "fc17c77d-4f72-4201-81e2-f5432c6f5f96"
      },
      "outputs": [
        {
          "output_type": "execute_result",
          "data": {
            "text/plain": [
              "'Aliens vs Predator: Requiem'"
            ],
            "application/vnd.google.colaboratory.intrinsic+json": {
              "type": "string"
            }
          },
          "metadata": {},
          "execution_count": 59
        }
      ],
      "source": [
        "#fetch title from index\n",
        "nFrame.iloc[1216].title\n"
      ]
    },
    {
      "cell_type": "code",
      "execution_count": null,
      "id": "34b2f6e0",
      "metadata": {
        "id": "34b2f6e0"
      },
      "outputs": [],
      "source": [
        "def recommend(movie):\n",
        "    movie_index = nFrame[nFrame['title'] == movie].index[0]\n",
        "    distances = match[movie_index]\n",
        "    movies_list = sorted(list(enumerate(distances)), reverse=True, key=lambda x:x[1])[1:6]\n",
        "    \n",
        "    for i in movies_list:\n",
        "        print(nFrame.iloc[i[0]].title)\n",
        "        #print(i[0])\n",
        "    \n",
        " "
      ]
    },
    {
      "cell_type": "code",
      "execution_count": null,
      "id": "a8ae03de",
      "metadata": {
        "colab": {
          "base_uri": "https://localhost:8080/"
        },
        "id": "a8ae03de",
        "outputId": "91fbdc67-96fa-4866-fd2b-6b2df42378dc"
      },
      "outputs": [
        {
          "output_type": "stream",
          "name": "stdout",
          "text": [
            "Jurassic World\n",
            "The Lost World: Jurassic Park\n",
            "Jurassic Park III\n",
            "The Nut Job\n",
            "Walking With Dinosaurs\n"
          ]
        }
      ],
      "source": [
        "recommend('Jurassic Park')"
      ]
    }
  ],
  "metadata": {
    "kernelspec": {
      "display_name": "Python 3 (ipykernel)",
      "language": "python",
      "name": "python3"
    },
    "language_info": {
      "codemirror_mode": {
        "name": "ipython",
        "version": 3
      },
      "file_extension": ".py",
      "mimetype": "text/x-python",
      "name": "python",
      "nbconvert_exporter": "python",
      "pygments_lexer": "ipython3",
      "version": "3.10.8"
    },
    "vscode": {
      "interpreter": {
        "hash": "369f2c481f4da34e4445cda3fffd2e751bd1c4d706f27375911949ba6bb62e1c"
      }
    },
    "colab": {
      "provenance": [],
      "toc_visible": true
    }
  },
  "nbformat": 4,
  "nbformat_minor": 5
}